{
 "cells": [
  {
   "cell_type": "code",
   "execution_count": 1,
   "metadata": {},
   "outputs": [],
   "source": [
    "import numpy as np \n",
    "import pandas as pd"
   ]
  },
  {
   "cell_type": "code",
   "execution_count": 2,
   "metadata": {},
   "outputs": [],
   "source": [
    "import seaborn as sns \n",
    "import matplotlib.pyplot as plt \n"
   ]
  },
  {
   "cell_type": "code",
   "execution_count": 3,
   "metadata": {},
   "outputs": [],
   "source": [
    "Column_names=['CheckingAccount' , 'DurationMonths','CreditHistory','Purpose',\n",
    "         'CreditAmount', 'SavingAccounts', 'PresentEmployment', 'InstallmentRate',\n",
    "          'PersonalStatus', 'OtherDebtors', 'PresentResidence', 'Property',\n",
    "         'Age','OtherInstallmentPlans','Housing', 'ExistingCredits', 'Job',\n",
    "         'NumLiables','Telephone','ForeignWorker','Class']"
   ]
  },
  {
   "cell_type": "code",
   "execution_count": 4,
   "metadata": {},
   "outputs": [],
   "source": [
    "df=pd.read_csv(\"germandata.csv\",  names=Column_names)"
   ]
  },
  {
   "cell_type": "code",
   "execution_count": 5,
   "metadata": {},
   "outputs": [
    {
     "data": {
      "text/html": [
       "<div>\n",
       "<style scoped>\n",
       "    .dataframe tbody tr th:only-of-type {\n",
       "        vertical-align: middle;\n",
       "    }\n",
       "\n",
       "    .dataframe tbody tr th {\n",
       "        vertical-align: top;\n",
       "    }\n",
       "\n",
       "    .dataframe thead th {\n",
       "        text-align: right;\n",
       "    }\n",
       "</style>\n",
       "<table border=\"1\" class=\"dataframe\">\n",
       "  <thead>\n",
       "    <tr style=\"text-align: right;\">\n",
       "      <th></th>\n",
       "      <th>CheckingAccount</th>\n",
       "      <th>DurationMonths</th>\n",
       "      <th>CreditHistory</th>\n",
       "      <th>Purpose</th>\n",
       "      <th>CreditAmount</th>\n",
       "      <th>SavingAccounts</th>\n",
       "      <th>PresentEmployment</th>\n",
       "      <th>InstallmentRate</th>\n",
       "      <th>PersonalStatus</th>\n",
       "      <th>OtherDebtors</th>\n",
       "      <th>...</th>\n",
       "      <th>Property</th>\n",
       "      <th>Age</th>\n",
       "      <th>OtherInstallmentPlans</th>\n",
       "      <th>Housing</th>\n",
       "      <th>ExistingCredits</th>\n",
       "      <th>Job</th>\n",
       "      <th>NumLiables</th>\n",
       "      <th>Telephone</th>\n",
       "      <th>ForeignWorker</th>\n",
       "      <th>Class</th>\n",
       "    </tr>\n",
       "  </thead>\n",
       "  <tbody>\n",
       "    <tr>\n",
       "      <th>0</th>\n",
       "      <td>A11</td>\n",
       "      <td>6</td>\n",
       "      <td>A34</td>\n",
       "      <td>A43</td>\n",
       "      <td>1169</td>\n",
       "      <td>A65</td>\n",
       "      <td>A75</td>\n",
       "      <td>4</td>\n",
       "      <td>A93</td>\n",
       "      <td>A101</td>\n",
       "      <td>...</td>\n",
       "      <td>A121</td>\n",
       "      <td>67</td>\n",
       "      <td>A143</td>\n",
       "      <td>A152</td>\n",
       "      <td>2</td>\n",
       "      <td>A173</td>\n",
       "      <td>1</td>\n",
       "      <td>A192</td>\n",
       "      <td>A201</td>\n",
       "      <td>1</td>\n",
       "    </tr>\n",
       "    <tr>\n",
       "      <th>1</th>\n",
       "      <td>A12</td>\n",
       "      <td>48</td>\n",
       "      <td>A32</td>\n",
       "      <td>A43</td>\n",
       "      <td>5951</td>\n",
       "      <td>A61</td>\n",
       "      <td>A73</td>\n",
       "      <td>2</td>\n",
       "      <td>A92</td>\n",
       "      <td>A101</td>\n",
       "      <td>...</td>\n",
       "      <td>A121</td>\n",
       "      <td>22</td>\n",
       "      <td>A143</td>\n",
       "      <td>A152</td>\n",
       "      <td>1</td>\n",
       "      <td>A173</td>\n",
       "      <td>1</td>\n",
       "      <td>A191</td>\n",
       "      <td>A201</td>\n",
       "      <td>2</td>\n",
       "    </tr>\n",
       "    <tr>\n",
       "      <th>2</th>\n",
       "      <td>A14</td>\n",
       "      <td>12</td>\n",
       "      <td>A34</td>\n",
       "      <td>A46</td>\n",
       "      <td>2096</td>\n",
       "      <td>A61</td>\n",
       "      <td>A74</td>\n",
       "      <td>2</td>\n",
       "      <td>A93</td>\n",
       "      <td>A101</td>\n",
       "      <td>...</td>\n",
       "      <td>A121</td>\n",
       "      <td>49</td>\n",
       "      <td>A143</td>\n",
       "      <td>A152</td>\n",
       "      <td>1</td>\n",
       "      <td>A172</td>\n",
       "      <td>2</td>\n",
       "      <td>A191</td>\n",
       "      <td>A201</td>\n",
       "      <td>1</td>\n",
       "    </tr>\n",
       "    <tr>\n",
       "      <th>3</th>\n",
       "      <td>A11</td>\n",
       "      <td>42</td>\n",
       "      <td>A32</td>\n",
       "      <td>A42</td>\n",
       "      <td>7882</td>\n",
       "      <td>A61</td>\n",
       "      <td>A74</td>\n",
       "      <td>2</td>\n",
       "      <td>A93</td>\n",
       "      <td>A103</td>\n",
       "      <td>...</td>\n",
       "      <td>A122</td>\n",
       "      <td>45</td>\n",
       "      <td>A143</td>\n",
       "      <td>A153</td>\n",
       "      <td>1</td>\n",
       "      <td>A173</td>\n",
       "      <td>2</td>\n",
       "      <td>A191</td>\n",
       "      <td>A201</td>\n",
       "      <td>1</td>\n",
       "    </tr>\n",
       "    <tr>\n",
       "      <th>4</th>\n",
       "      <td>A11</td>\n",
       "      <td>24</td>\n",
       "      <td>A33</td>\n",
       "      <td>A40</td>\n",
       "      <td>4870</td>\n",
       "      <td>A61</td>\n",
       "      <td>A73</td>\n",
       "      <td>3</td>\n",
       "      <td>A93</td>\n",
       "      <td>A101</td>\n",
       "      <td>...</td>\n",
       "      <td>A124</td>\n",
       "      <td>53</td>\n",
       "      <td>A143</td>\n",
       "      <td>A153</td>\n",
       "      <td>2</td>\n",
       "      <td>A173</td>\n",
       "      <td>2</td>\n",
       "      <td>A191</td>\n",
       "      <td>A201</td>\n",
       "      <td>2</td>\n",
       "    </tr>\n",
       "  </tbody>\n",
       "</table>\n",
       "<p>5 rows × 21 columns</p>\n",
       "</div>"
      ],
      "text/plain": [
       "  CheckingAccount  DurationMonths CreditHistory Purpose  CreditAmount  \\\n",
       "0             A11               6           A34     A43          1169   \n",
       "1             A12              48           A32     A43          5951   \n",
       "2             A14              12           A34     A46          2096   \n",
       "3             A11              42           A32     A42          7882   \n",
       "4             A11              24           A33     A40          4870   \n",
       "\n",
       "  SavingAccounts PresentEmployment  InstallmentRate PersonalStatus  \\\n",
       "0            A65               A75                4            A93   \n",
       "1            A61               A73                2            A92   \n",
       "2            A61               A74                2            A93   \n",
       "3            A61               A74                2            A93   \n",
       "4            A61               A73                3            A93   \n",
       "\n",
       "  OtherDebtors  ...  Property Age  OtherInstallmentPlans Housing  \\\n",
       "0         A101  ...      A121  67                   A143    A152   \n",
       "1         A101  ...      A121  22                   A143    A152   \n",
       "2         A101  ...      A121  49                   A143    A152   \n",
       "3         A103  ...      A122  45                   A143    A153   \n",
       "4         A101  ...      A124  53                   A143    A153   \n",
       "\n",
       "  ExistingCredits   Job NumLiables  Telephone ForeignWorker Class  \n",
       "0               2  A173          1       A192          A201     1  \n",
       "1               1  A173          1       A191          A201     2  \n",
       "2               1  A172          2       A191          A201     1  \n",
       "3               1  A173          2       A191          A201     1  \n",
       "4               2  A173          2       A191          A201     2  \n",
       "\n",
       "[5 rows x 21 columns]"
      ]
     },
     "execution_count": 5,
     "metadata": {},
     "output_type": "execute_result"
    }
   ],
   "source": [
    "df.head()"
   ]
  },
  {
   "cell_type": "code",
   "execution_count": 6,
   "metadata": {},
   "outputs": [
    {
     "data": {
      "text/html": [
       "<div>\n",
       "<style scoped>\n",
       "    .dataframe tbody tr th:only-of-type {\n",
       "        vertical-align: middle;\n",
       "    }\n",
       "\n",
       "    .dataframe tbody tr th {\n",
       "        vertical-align: top;\n",
       "    }\n",
       "\n",
       "    .dataframe thead th {\n",
       "        text-align: right;\n",
       "    }\n",
       "</style>\n",
       "<table border=\"1\" class=\"dataframe\">\n",
       "  <thead>\n",
       "    <tr style=\"text-align: right;\">\n",
       "      <th></th>\n",
       "      <th>DurationMonths</th>\n",
       "      <th>CreditAmount</th>\n",
       "      <th>InstallmentRate</th>\n",
       "      <th>PresentResidence</th>\n",
       "      <th>Age</th>\n",
       "      <th>ExistingCredits</th>\n",
       "      <th>NumLiables</th>\n",
       "      <th>Class</th>\n",
       "    </tr>\n",
       "  </thead>\n",
       "  <tbody>\n",
       "    <tr>\n",
       "      <th>count</th>\n",
       "      <td>1000.000000</td>\n",
       "      <td>1000.000000</td>\n",
       "      <td>1000.000000</td>\n",
       "      <td>1000.000000</td>\n",
       "      <td>1000.000000</td>\n",
       "      <td>1000.000000</td>\n",
       "      <td>1000.000000</td>\n",
       "      <td>1000.000000</td>\n",
       "    </tr>\n",
       "    <tr>\n",
       "      <th>mean</th>\n",
       "      <td>20.903000</td>\n",
       "      <td>3271.258000</td>\n",
       "      <td>2.973000</td>\n",
       "      <td>2.845000</td>\n",
       "      <td>35.546000</td>\n",
       "      <td>1.407000</td>\n",
       "      <td>1.155000</td>\n",
       "      <td>1.300000</td>\n",
       "    </tr>\n",
       "    <tr>\n",
       "      <th>std</th>\n",
       "      <td>12.058814</td>\n",
       "      <td>2822.736876</td>\n",
       "      <td>1.118715</td>\n",
       "      <td>1.103718</td>\n",
       "      <td>11.375469</td>\n",
       "      <td>0.577654</td>\n",
       "      <td>0.362086</td>\n",
       "      <td>0.458487</td>\n",
       "    </tr>\n",
       "    <tr>\n",
       "      <th>min</th>\n",
       "      <td>4.000000</td>\n",
       "      <td>250.000000</td>\n",
       "      <td>1.000000</td>\n",
       "      <td>1.000000</td>\n",
       "      <td>19.000000</td>\n",
       "      <td>1.000000</td>\n",
       "      <td>1.000000</td>\n",
       "      <td>1.000000</td>\n",
       "    </tr>\n",
       "    <tr>\n",
       "      <th>25%</th>\n",
       "      <td>12.000000</td>\n",
       "      <td>1365.500000</td>\n",
       "      <td>2.000000</td>\n",
       "      <td>2.000000</td>\n",
       "      <td>27.000000</td>\n",
       "      <td>1.000000</td>\n",
       "      <td>1.000000</td>\n",
       "      <td>1.000000</td>\n",
       "    </tr>\n",
       "    <tr>\n",
       "      <th>50%</th>\n",
       "      <td>18.000000</td>\n",
       "      <td>2319.500000</td>\n",
       "      <td>3.000000</td>\n",
       "      <td>3.000000</td>\n",
       "      <td>33.000000</td>\n",
       "      <td>1.000000</td>\n",
       "      <td>1.000000</td>\n",
       "      <td>1.000000</td>\n",
       "    </tr>\n",
       "    <tr>\n",
       "      <th>75%</th>\n",
       "      <td>24.000000</td>\n",
       "      <td>3972.250000</td>\n",
       "      <td>4.000000</td>\n",
       "      <td>4.000000</td>\n",
       "      <td>42.000000</td>\n",
       "      <td>2.000000</td>\n",
       "      <td>1.000000</td>\n",
       "      <td>2.000000</td>\n",
       "    </tr>\n",
       "    <tr>\n",
       "      <th>max</th>\n",
       "      <td>72.000000</td>\n",
       "      <td>18424.000000</td>\n",
       "      <td>4.000000</td>\n",
       "      <td>4.000000</td>\n",
       "      <td>75.000000</td>\n",
       "      <td>4.000000</td>\n",
       "      <td>2.000000</td>\n",
       "      <td>2.000000</td>\n",
       "    </tr>\n",
       "  </tbody>\n",
       "</table>\n",
       "</div>"
      ],
      "text/plain": [
       "       DurationMonths  CreditAmount  InstallmentRate  PresentResidence  \\\n",
       "count     1000.000000   1000.000000      1000.000000       1000.000000   \n",
       "mean        20.903000   3271.258000         2.973000          2.845000   \n",
       "std         12.058814   2822.736876         1.118715          1.103718   \n",
       "min          4.000000    250.000000         1.000000          1.000000   \n",
       "25%         12.000000   1365.500000         2.000000          2.000000   \n",
       "50%         18.000000   2319.500000         3.000000          3.000000   \n",
       "75%         24.000000   3972.250000         4.000000          4.000000   \n",
       "max         72.000000  18424.000000         4.000000          4.000000   \n",
       "\n",
       "               Age  ExistingCredits   NumLiables        Class  \n",
       "count  1000.000000      1000.000000  1000.000000  1000.000000  \n",
       "mean     35.546000         1.407000     1.155000     1.300000  \n",
       "std      11.375469         0.577654     0.362086     0.458487  \n",
       "min      19.000000         1.000000     1.000000     1.000000  \n",
       "25%      27.000000         1.000000     1.000000     1.000000  \n",
       "50%      33.000000         1.000000     1.000000     1.000000  \n",
       "75%      42.000000         2.000000     1.000000     2.000000  \n",
       "max      75.000000         4.000000     2.000000     2.000000  "
      ]
     },
     "execution_count": 6,
     "metadata": {},
     "output_type": "execute_result"
    }
   ],
   "source": [
    "df.describe()"
   ]
  },
  {
   "cell_type": "code",
   "execution_count": 7,
   "metadata": {},
   "outputs": [
    {
     "name": "stdout",
     "output_type": "stream",
     "text": [
      "<class 'pandas.core.frame.DataFrame'>\n",
      "RangeIndex: 1000 entries, 0 to 999\n",
      "Data columns (total 21 columns):\n",
      "CheckingAccount          1000 non-null object\n",
      "DurationMonths           1000 non-null int64\n",
      "CreditHistory            1000 non-null object\n",
      "Purpose                  1000 non-null object\n",
      "CreditAmount             1000 non-null int64\n",
      "SavingAccounts           1000 non-null object\n",
      "PresentEmployment        1000 non-null object\n",
      "InstallmentRate          1000 non-null int64\n",
      "PersonalStatus           1000 non-null object\n",
      "OtherDebtors             1000 non-null object\n",
      "PresentResidence         1000 non-null int64\n",
      "Property                 1000 non-null object\n",
      "Age                      1000 non-null int64\n",
      "OtherInstallmentPlans    1000 non-null object\n",
      "Housing                  1000 non-null object\n",
      "ExistingCredits          1000 non-null int64\n",
      "Job                      1000 non-null object\n",
      "NumLiables               1000 non-null int64\n",
      "Telephone                1000 non-null object\n",
      "ForeignWorker            1000 non-null object\n",
      "Class                    1000 non-null int64\n",
      "dtypes: int64(8), object(13)\n",
      "memory usage: 164.2+ KB\n"
     ]
    }
   ],
   "source": [
    "df.info()"
   ]
  },
  {
   "cell_type": "code",
   "execution_count": 8,
   "metadata": {},
   "outputs": [
    {
     "name": "stdout",
     "output_type": "stream",
     "text": [
      "CheckingAccount            4\n",
      "DurationMonths            33\n",
      "CreditHistory              5\n",
      "Purpose                   10\n",
      "CreditAmount             921\n",
      "SavingAccounts             5\n",
      "PresentEmployment          5\n",
      "InstallmentRate            4\n",
      "PersonalStatus             4\n",
      "OtherDebtors               3\n",
      "PresentResidence           4\n",
      "Property                   4\n",
      "Age                       53\n",
      "OtherInstallmentPlans      3\n",
      "Housing                    3\n",
      "ExistingCredits            4\n",
      "Job                        4\n",
      "NumLiables                 2\n",
      "Telephone                  2\n",
      "ForeignWorker              2\n",
      "Class                      2\n",
      "dtype: int64\n",
      "  CheckingAccount  DurationMonths CreditHistory Purpose  CreditAmount  \\\n",
      "0             A11               6           A34     A43          1169   \n",
      "1             A12              48           A32     A43          5951   \n",
      "2             A14              12           A34     A46          2096   \n",
      "3             A11              42           A32     A42          7882   \n",
      "4             A11              24           A33     A40          4870   \n",
      "\n",
      "  SavingAccounts PresentEmployment  InstallmentRate PersonalStatus  \\\n",
      "0            A65               A75                4            A93   \n",
      "1            A61               A73                2            A92   \n",
      "2            A61               A74                2            A93   \n",
      "3            A61               A74                2            A93   \n",
      "4            A61               A73                3            A93   \n",
      "\n",
      "  OtherDebtors  ...  Property Age  OtherInstallmentPlans Housing  \\\n",
      "0         A101  ...      A121  67                   A143    A152   \n",
      "1         A101  ...      A121  22                   A143    A152   \n",
      "2         A101  ...      A121  49                   A143    A152   \n",
      "3         A103  ...      A122  45                   A143    A153   \n",
      "4         A101  ...      A124  53                   A143    A153   \n",
      "\n",
      "  ExistingCredits   Job NumLiables  Telephone ForeignWorker Class  \n",
      "0               2  A173          1       A192          A201     1  \n",
      "1               1  A173          1       A191          A201     2  \n",
      "2               1  A172          2       A191          A201     1  \n",
      "3               1  A173          2       A191          A201     1  \n",
      "4               2  A173          2       A191          A201     2  \n",
      "\n",
      "[5 rows x 21 columns]\n"
     ]
    }
   ],
   "source": [
    "print(df.nunique())\n",
    "#Looking the data\n",
    "print(df.head())"
   ]
  },
  {
   "cell_type": "code",
   "execution_count": 9,
   "metadata": {},
   "outputs": [
    {
     "data": {
      "text/html": [
       "        <script type=\"text/javascript\">\n",
       "        window.PlotlyConfig = {MathJaxConfig: 'local'};\n",
       "        if (window.MathJax) {MathJax.Hub.Config({SVG: {font: \"STIX-Web\"}});}\n",
       "        if (typeof require !== 'undefined') {\n",
       "        require.undef(\"plotly\");\n",
       "        requirejs.config({\n",
       "            paths: {\n",
       "                'plotly': ['https://cdn.plot.ly/plotly-latest.min']\n",
       "            }\n",
       "        });\n",
       "        require(['plotly'], function(Plotly) {\n",
       "            window._Plotly = Plotly;\n",
       "        });\n",
       "        }\n",
       "        </script>\n",
       "        "
      ]
     },
     "metadata": {},
     "output_type": "display_data"
    }
   ],
   "source": [
    "import plotly.offline as py \n",
    "py.init_notebook_mode(connected=True) # this code, allow us to work with offline plotly version\n",
    "import plotly.graph_objs as go # it's like \"plt\" of matplot\n",
    "import plotly.tools as tls # It's useful to we get some tools of plotly\n",
    "import warnings # This library will be used to ignore some warnings\n",
    "from collections import Counter # To do counter of some features"
   ]
  },
  {
   "cell_type": "code",
   "execution_count": 10,
   "metadata": {},
   "outputs": [],
   "source": [
    "GoodCount= df[df['Class']==1]['Class'].count()\n",
    "BadCount= df[df['Class']==2]['Class'].count()"
   ]
  },
  {
   "cell_type": "code",
   "execution_count": 11,
   "metadata": {},
   "outputs": [
    {
     "data": {
      "image/png": "[encoded data removed]",
      "text/plain": [
       "<Figure size 432x288 with 1 Axes>"
      ]
     },
     "metadata": {
      "needs_background": "light"
     },
     "output_type": "display_data"
    }
   ],
   "source": [
    "\n",
    "\n",
    "\n",
    "objects = ('Good', 'Bad')\n",
    "y_pos = np.arange(len(objects))\n",
    "performance = [GoodCount, BadCount]\n",
    "\n",
    "plt.bar(y_pos, performance, align='center', alpha=0.5, color=('b','g'))\n",
    "plt.xticks(y_pos, objects)\n",
    "plt.ylabel('Count')\n",
    "plt.title('CreditRisk')\n",
    "\n",
    "plt.show()"
   ]
  },
  {
   "cell_type": "code",
   "execution_count": 12,
   "metadata": {},
   "outputs": [
    {
     "name": "stderr",
     "output_type": "stream",
     "text": [
      "C:\\Users\\ahmed\\Anaconda3\\envs\\tf_gpu\\lib\\site-packages\\plotly\\tools.py:465: DeprecationWarning:\n",
      "\n",
      "plotly.tools.make_subplots is deprecated, please use plotly.subplots.make_subplots instead\n",
      "\n"
     ]
    },
    {
     "data": {
      "application/vnd.plotly.v1+json": {
       "config": {
        "linkText": "Export to plot.ly",
        "plotlyServerURL": "https://plot.ly",
        "showLink": false
       },
       "data": [
        {
         "histnorm": "probability",
         "name": "Good Credit",
         "type": "histogram",
         "x": [
          67,
          49,
          45,
          35,
          53,
          35,
          61,
          22,
          28,
          53,
          25,
          31,
          48,
          44,
          48,
          44,
          26,
          36,
          39,
          42,
          34,
          36,
          27,
          30,
          57,
          33,
          31,
          37,
          24,
          30,
          26,
          44,
          24,
          35,
          39,
          23,
          39,
          28,
          29,
          30,
          25,
          31,
          26,
          31,
          23,
          27,
          50,
          26,
          48,
          29,
          22,
          25,
          30,
          46,
          51,
          41,
          66,
          51,
          39,
          22,
          47,
          24,
          58,
          52,
          29,
          27,
          30,
          56,
          54,
          20,
          54,
          61,
          34,
          36,
          36,
          41,
          24,
          24,
          35,
          26,
          32,
          30,
          35,
          31,
          23,
          28,
          35,
          47,
          27,
          36,
          41,
          24,
          63,
          30,
          40,
          34,
          24,
          27,
          47,
          21,
          38,
          27,
          35,
          44,
          27,
          30,
          27,
          23,
          30,
          39,
          51,
          28,
          46,
          42,
          38,
          24,
          29,
          36,
          48,
          45,
          38,
          34,
          36,
          30,
          36,
          70,
          36,
          32,
          20,
          25,
          26,
          33,
          42,
          52,
          31,
          65,
          50,
          31,
          68,
          33,
          29,
          28,
          36,
          52,
          27,
          26,
          38,
          38,
          43,
          26,
          21,
          55,
          33,
          45,
          51,
          39,
          31,
          23,
          24,
          64,
          26,
          23,
          30,
          32,
          30,
          27,
          22,
          51,
          35,
          25,
          42,
          35,
          39,
          51,
          27,
          35,
          25,
          52,
          35,
          26,
          39,
          46,
          35,
          24,
          27,
          35,
          23,
          57,
          27,
          55,
          36,
          57,
          32,
          36,
          38,
          25,
          32,
          37,
          36,
          32,
          26,
          49,
          29,
          23,
          50,
          49,
          63,
          37,
          35,
          26,
          31,
          49,
          26,
          44,
          56,
          46,
          20,
          45,
          43,
          32,
          54,
          49,
          33,
          24,
          22,
          40,
          25,
          26,
          29,
          38,
          48,
          32,
          27,
          34,
          28,
          36,
          39,
          49,
          34,
          31,
          28,
          75,
          23,
          28,
          31,
          24,
          26,
          25,
          33,
          37,
          43,
          23,
          23,
          34,
          23,
          38,
          46,
          49,
          28,
          61,
          37,
          36,
          21,
          36,
          27,
          22,
          40,
          36,
          33,
          23,
          63,
          34,
          36,
          52,
          39,
          25,
          26,
          26,
          25,
          21,
          40,
          27,
          27,
          30,
          19,
          39,
          31,
          31,
          32,
          55,
          46,
          43,
          39,
          28,
          27,
          43,
          43,
          27,
          26,
          20,
          35,
          40,
          35,
          23,
          31,
          20,
          30,
          47,
          34,
          21,
          29,
          46,
          20,
          74,
          36,
          33,
          25,
          23,
          37,
          65,
          39,
          30,
          29,
          41,
          35,
          55,
          30,
          29,
          34,
          35,
          29,
          36,
          27,
          32,
          37,
          36,
          34,
          38,
          34,
          63,
          32,
          26,
          35,
          36,
          24,
          25,
          39,
          44,
          23,
          26,
          57,
          30,
          44,
          52,
          62,
          35,
          26,
          26,
          27,
          38,
          39,
          40,
          32,
          28,
          42,
          49,
          36,
          28,
          45,
          32,
          26,
          20,
          54,
          37,
          40,
          43,
          36,
          44,
          23,
          26,
          30,
          31,
          42,
          41,
          32,
          41,
          26,
          25,
          75,
          37,
          45,
          60,
          61,
          37,
          32,
          35,
          23,
          45,
          27,
          67,
          49,
          29,
          37,
          23,
          34,
          41,
          38,
          26,
          22,
          27,
          24,
          27,
          33,
          27,
          49,
          26,
          52,
          36,
          21,
          58,
          42,
          36,
          32,
          45,
          23,
          22,
          74,
          33,
          45,
          29,
          22,
          48,
          27,
          37,
          49,
          27,
          22,
          35,
          41,
          36,
          64,
          28,
          23,
          47,
          28,
          21,
          34,
          38,
          33,
          32,
          32,
          50,
          35,
          22,
          37,
          28,
          41,
          23,
          50,
          35,
          50,
          27,
          34,
          27,
          47,
          27,
          31,
          42,
          24,
          26,
          33,
          64,
          26,
          56,
          37,
          33,
          47,
          31,
          34,
          27,
          30,
          35,
          31,
          25,
          25,
          29,
          44,
          28,
          50,
          29,
          38,
          24,
          40,
          47,
          41,
          32,
          35,
          25,
          37,
          32,
          46,
          25,
          63,
          40,
          32,
          31,
          31,
          66,
          41,
          47,
          36,
          33,
          44,
          28,
          37,
          29,
          35,
          45,
          32,
          23,
          41,
          22,
          30,
          28,
          23,
          26,
          33,
          49,
          23,
          25,
          74,
          31,
          59,
          24,
          27,
          40,
          31,
          28,
          63,
          26,
          36,
          52,
          66,
          37,
          25,
          38,
          67,
          60,
          31,
          60,
          35,
          40,
          38,
          41,
          27,
          51,
          32,
          22,
          22,
          54,
          35,
          54,
          48,
          24,
          35,
          24,
          26,
          65,
          55,
          26,
          28,
          54,
          62,
          24,
          43,
          27,
          24,
          47,
          35,
          30,
          38,
          44,
          42,
          21,
          23,
          63,
          46,
          28,
          50,
          47,
          35,
          28,
          59,
          43,
          35,
          45,
          33,
          40,
          28,
          26,
          27,
          32,
          20,
          27,
          42,
          37,
          24,
          40,
          46,
          26,
          24,
          29,
          40,
          36,
          28,
          36,
          38,
          48,
          36,
          65,
          34,
          34,
          40,
          43,
          46,
          38,
          34,
          29,
          31,
          28,
          35,
          33,
          44,
          42,
          40,
          36,
          20,
          24,
          27,
          46,
          33,
          34,
          25,
          28,
          32,
          28,
          37,
          30,
          21,
          58,
          43,
          24,
          30,
          42,
          23,
          30,
          46,
          45,
          31,
          31,
          42,
          46,
          30,
          38,
          40,
          29,
          57,
          49,
          37,
          30,
          30,
          47,
          29,
          22,
          26,
          54,
          29,
          40,
          22,
          43,
          33,
          57,
          64,
          42,
          28,
          30,
          25,
          33,
          64,
          29,
          48,
          37,
          34,
          23,
          30,
          50,
          31,
          40,
          38,
          27
         ],
         "xaxis": "x",
         "yaxis": "y"
        },
        {
         "histnorm": "probability",
         "name": "Bad Credit",
         "type": "histogram",
         "x": [
          22,
          53,
          28,
          25,
          24,
          60,
          32,
          44,
          63,
          25,
          37,
          58,
          57,
          52,
          23,
          61,
          25,
          37,
          40,
          34,
          44,
          47,
          28,
          33,
          58,
          39,
          39,
          25,
          30,
          23,
          25,
          27,
          30,
          29,
          29,
          66,
          22,
          20,
          33,
          31,
          33,
          34,
          26,
          53,
          28,
          30,
          40,
          36,
          74,
          20,
          54,
          34,
          36,
          21,
          34,
          27,
          40,
          21,
          50,
          66,
          27,
          53,
          22,
          26,
          30,
          23,
          61,
          29,
          24,
          22,
          24,
          29,
          37,
          45,
          28,
          34,
          32,
          48,
          28,
          26,
          42,
          37,
          44,
          33,
          24,
          25,
          31,
          28,
          32,
          30,
          24,
          24,
          23,
          44,
          24,
          32,
          29,
          28,
          23,
          26,
          23,
          25,
          42,
          60,
          37,
          57,
          38,
          46,
          27,
          22,
          28,
          42,
          35,
          33,
          33,
          25,
          55,
          29,
          25,
          26,
          41,
          30,
          34,
          61,
          31,
          35,
          29,
          22,
          23,
          28,
          33,
          26,
          47,
          42,
          20,
          29,
          27,
          38,
          24,
          27,
          34,
          26,
          23,
          24,
          53,
          31,
          28,
          33,
          42,
          23,
          31,
          34,
          43,
          24,
          34,
          22,
          28,
          29,
          27,
          31,
          24,
          37,
          36,
          31,
          23,
          27,
          30,
          33,
          20,
          47,
          60,
          20,
          40,
          32,
          23,
          36,
          31,
          30,
          34,
          28,
          50,
          22,
          48,
          22,
          21,
          32,
          38,
          65,
          29,
          44,
          19,
          25,
          26,
          27,
          40,
          27,
          26,
          38,
          40,
          37,
          45,
          42,
          41,
          23,
          43,
          41,
          24,
          29,
          46,
          24,
          25,
          35,
          27,
          34,
          24,
          24,
          21,
          25,
          59,
          21,
          23,
          26,
          37,
          23,
          55,
          32,
          39,
          35,
          24,
          30,
          31,
          25,
          25,
          25,
          23,
          50,
          27,
          39,
          51,
          24,
          26,
          24,
          54,
          46,
          26,
          41,
          33,
          36,
          47,
          23,
          29,
          25,
          48,
          29,
          23,
          68,
          57,
          33,
          32,
          29,
          28,
          35,
          25,
          27,
          43,
          53,
          23,
          42,
          43,
          25,
          31,
          32,
          68,
          33,
          39,
          22,
          55,
          46,
          39,
          22,
          30,
          28,
          42,
          30,
          43,
          31,
          24,
          28,
          26,
          45,
          35,
          23,
          29,
          36,
          47,
          25,
          49,
          33,
          26,
          23
         ],
         "xaxis": "x2",
         "yaxis": "y2"
        },
        {
         "histnorm": "probability",
         "name": "Overall Age",
         "type": "histogram",
         "x": [
          67,
          22,
          49,
          45,
          53,
          35,
          53,
          35,
          61,
          28,
          25,
          24,
          22,
          60,
          28,
          32,
          53,
          25,
          44,
          31,
          48,
          44,
          48,
          44,
          26,
          36,
          39,
          42,
          34,
          63,
          36,
          27,
          30,
          57,
          33,
          25,
          31,
          37,
          37,
          24,
          30,
          26,
          44,
          24,
          58,
          35,
          39,
          23,
          39,
          28,
          29,
          30,
          25,
          31,
          57,
          26,
          52,
          31,
          23,
          23,
          27,
          50,
          61,
          25,
          26,
          48,
          29,
          22,
          37,
          25,
          30,
          46,
          51,
          41,
          40,
          66,
          34,
          51,
          39,
          22,
          44,
          47,
          24,
          58,
          52,
          29,
          27,
          47,
          30,
          28,
          56,
          54,
          33,
          20,
          54,
          58,
          61,
          34,
          36,
          36,
          41,
          24,
          24,
          35,
          26,
          39,
          39,
          32,
          30,
          35,
          31,
          23,
          28,
          25,
          35,
          47,
          30,
          27,
          23,
          36,
          25,
          41,
          24,
          63,
          27,
          30,
          40,
          30,
          34,
          29,
          24,
          29,
          27,
          47,
          21,
          38,
          27,
          66,
          35,
          44,
          27,
          30,
          27,
          22,
          23,
          30,
          39,
          51,
          28,
          46,
          42,
          38,
          24,
          29,
          36,
          20,
          48,
          45,
          38,
          34,
          36,
          30,
          36,
          70,
          36,
          32,
          33,
          20,
          25,
          31,
          33,
          26,
          34,
          33,
          26,
          53,
          42,
          52,
          31,
          65,
          28,
          30,
          40,
          50,
          36,
          31,
          74,
          68,
          20,
          33,
          54,
          34,
          36,
          29,
          21,
          34,
          28,
          27,
          36,
          40,
          52,
          27,
          26,
          21,
          38,
          38,
          43,
          26,
          21,
          55,
          33,
          45,
          50,
          66,
          51,
          39,
          31,
          23,
          24,
          64,
          26,
          23,
          30,
          32,
          30,
          27,
          27,
          53,
          22,
          22,
          26,
          51,
          35,
          25,
          42,
          30,
          23,
          61,
          35,
          39,
          29,
          51,
          24,
          27,
          35,
          25,
          52,
          35,
          26,
          22,
          39,
          46,
          24,
          35,
          24,
          27,
          35,
          29,
          23,
          57,
          27,
          55,
          36,
          57,
          32,
          37,
          36,
          38,
          45,
          25,
          32,
          37,
          36,
          28,
          34,
          32,
          26,
          49,
          32,
          29,
          23,
          50,
          49,
          63,
          37,
          35,
          26,
          31,
          49,
          48,
          26,
          28,
          44,
          56,
          46,
          26,
          20,
          45,
          43,
          32,
          54,
          42,
          37,
          49,
          44,
          33,
          24,
          33,
          24,
          22,
          40,
          25,
          26,
          25,
          29,
          31,
          38,
          48,
          32,
          27,
          28,
          32,
          34,
          28,
          36,
          39,
          49,
          34,
          31,
          28,
          75,
          30,
          24,
          24,
          23,
          44,
          23,
          24,
          28,
          31,
          24,
          26,
          25,
          33,
          37,
          43,
          23,
          23,
          34,
          32,
          23,
          29,
          38,
          28,
          46,
          23,
          49,
          26,
          28,
          23,
          61,
          37,
          36,
          21,
          25,
          36,
          27,
          22,
          42,
          40,
          36,
          33,
          23,
          63,
          60,
          37,
          34,
          36,
          57,
          52,
          39,
          38,
          25,
          26,
          26,
          25,
          21,
          40,
          27,
          27,
          30,
          19,
          39,
          31,
          31,
          32,
          55,
          46,
          46,
          43,
          39,
          28,
          27,
          27,
          43,
          22,
          43,
          27,
          26,
          28,
          20,
          35,
          42,
          40,
          35,
          35,
          33,
          23,
          31,
          33,
          20,
          30,
          47,
          34,
          25,
          21,
          29,
          46,
          20,
          55,
          74,
          29,
          36,
          33,
          25,
          25,
          23,
          37,
          65,
          26,
          39,
          30,
          29,
          41,
          30,
          41,
          34,
          35,
          55,
          61,
          30,
          29,
          34,
          35,
          31,
          29,
          36,
          35,
          27,
          32,
          37,
          36,
          34,
          38,
          34,
          63,
          29,
          32,
          26,
          35,
          22,
          23,
          28,
          36,
          33,
          26,
          24,
          25,
          39,
          44,
          23,
          26,
          57,
          30,
          44,
          47,
          52,
          62,
          35,
          26,
          26,
          42,
          27,
          38,
          39,
          20,
          29,
          40,
          32,
          28,
          27,
          42,
          49,
          38,
          24,
          27,
          36,
          34,
          28,
          45,
          26,
          32,
          26,
          20,
          54,
          37,
          40,
          23,
          43,
          36,
          44,
          24,
          53,
          23,
          26,
          30,
          31,
          42,
          31,
          41,
          32,
          28,
          41,
          26,
          25,
          33,
          75,
          37,
          42,
          45,
          23,
          60,
          31,
          34,
          61,
          43,
          37,
          32,
          24,
          35,
          23,
          45,
          34,
          27,
          67,
          22,
          28,
          29,
          27,
          31,
          49,
          24,
          29,
          37,
          37,
          23,
          36,
          34,
          41,
          31,
          23,
          38,
          26,
          22,
          27,
          24,
          27,
          33,
          27,
          27,
          30,
          49,
          26,
          33,
          52,
          20,
          36,
          21,
          47,
          60,
          58,
          42,
          36,
          20,
          40,
          32,
          23,
          36,
          31,
          32,
          45,
          30,
          34,
          28,
          23,
          22,
          74,
          50,
          33,
          45,
          22,
          48,
          29,
          22,
          22,
          48,
          27,
          37,
          21,
          49,
          27,
          32,
          38,
          22,
          65,
          35,
          41,
          29,
          36,
          64,
          28,
          44,
          23,
          19,
          25,
          47,
          28,
          21,
          34,
          26,
          27,
          38,
          40,
          33,
          32,
          27,
          32,
          26,
          38,
          40,
          50,
          37,
          45,
          42,
          35,
          22,
          41,
          37,
          28,
          41,
          23,
          23,
          50,
          35,
          50,
          27,
          34,
          27,
          43,
          47,
          27,
          31,
          42,
          24,
          41,
          26,
          33,
          24,
          64,
          26,
          56,
          37,
          33,
          47,
          31,
          34,
          27,
          30,
          35,
          31,
          25,
          25,
          29,
          44,
          28,
          50,
          29,
          38,
          24,
          40,
          29,
          46,
          47,
          41,
          32,
          35,
          24,
          25,
          25,
          37,
          32,
          35,
          46,
          25,
          27,
          63,
          40,
          32,
          31,
          31,
          34,
          24,
          24,
          66,
          21,
          41,
          47,
          25,
          59,
          36,
          33,
          21,
          44,
          28,
          37,
          29,
          23,
          35,
          45,
          26,
          32,
          23,
          41,
          22,
          30,
          28,
          23,
          37,
          26,
          33,
          49,
          23,
          23,
          25,
          55,
          32,
          74,
          39,
          31,
          35,
          59,
          24,
          24,
          30,
          27,
          40,
          31,
          31,
          28,
          63,
          26,
          25,
          36,
          52,
          66,
          25,
          37,
          25,
          38,
          67,
          25,
          60,
          31,
          23,
          60,
          35,
          40,
          38,
          50,
          27,
          39,
          41,
          27,
          51,
          32,
          22,
          51,
          22,
          54,
          35,
          54,
          48,
          24,
          35,
          24,
          24,
          26,
          65,
          55,
          26,
          26,
          28,
          24,
          54,
          46,
          54,
          62,
          24,
          43,
          26,
          27,
          24,
          41,
          47,
          35,
          30,
          33,
          36,
          47,
          38,
          44,
          23,
          29,
          42,
          25,
          48,
          21,
          23,
          63,
          46,
          29,
          28,
          23,
          50,
          47,
          35,
          68,
          28,
          59,
          57,
          33,
          43,
          35,
          32,
          45,
          33,
          40,
          28,
          29,
          26,
          27,
          28,
          35,
          32,
          25,
          20,
          27,
          42,
          37,
          24,
          40,
          46,
          26,
          24,
          29,
          40,
          36,
          28,
          27,
          36,
          38,
          48,
          36,
          65,
          43,
          53,
          34,
          23,
          34,
          40,
          43,
          46,
          38,
          34,
          29,
          31,
          28,
          35,
          33,
          42,
          43,
          44,
          42,
          40,
          36,
          20,
          24,
          27,
          46,
          33,
          34,
          25,
          25,
          28,
          31,
          32,
          32,
          68,
          33,
          39,
          28,
          37,
          22,
          30,
          55,
          46,
          21,
          39,
          58,
          43,
          24,
          22,
          30,
          42,
          23,
          30,
          28,
          30,
          42,
          46,
          45,
          31,
          31,
          42,
          46,
          30,
          30,
          38,
          43,
          31,
          40,
          24,
          28,
          26,
          29,
          57,
          49,
          37,
          45,
          30,
          30,
          47,
          29,
          35,
          22,
          26,
          23,
          54,
          29,
          40,
          22,
          43,
          29,
          36,
          33,
          57,
          64,
          42,
          47,
          25,
          49,
          33,
          28,
          26,
          30,
          25,
          33,
          64,
          29,
          48,
          37,
          34,
          23,
          30,
          50,
          31,
          40,
          38,
          23,
          27
         ],
         "xaxis": "x3",
         "yaxis": "y3"
        }
       ],
       "layout": {
        "annotations": [
         {
          "font": {
           "size": 16
          },
          "showarrow": false,
          "text": "Good",
          "x": 0.225,
          "xanchor": "center",
          "xref": "paper",
          "y": 1,
          "yanchor": "bottom",
          "yref": "paper"
         },
         {
          "font": {
           "size": 16
          },
          "showarrow": false,
          "text": "Bad",
          "x": 0.775,
          "xanchor": "center",
          "xref": "paper",
          "y": 1,
          "yanchor": "bottom",
          "yref": "paper"
         },
         {
          "font": {
           "size": 16
          },
          "showarrow": false,
          "text": "General Distribuition",
          "x": 0.5,
          "xanchor": "center",
          "xref": "paper",
          "y": 0.375,
          "yanchor": "bottom",
          "yref": "paper"
         }
        ],
        "bargap": 0.05,
        "showlegend": true,
        "template": {
         "data": {
          "bar": [
           {
            "error_x": {
             "color": "#2a3f5f"
            },
            "error_y": {
             "color": "#2a3f5f"
            },
            "marker": {
             "line": {
              "color": "#E5ECF6",
              "width": 0.5
             }
            },
            "type": "bar"
           }
          ],
          "barpolar": [
           {
            "marker": {
             "line": {
              "color": "#E5ECF6",
              "width": 0.5
             }
            },
            "type": "barpolar"
           }
          ],
          "carpet": [
           {
            "aaxis": {
             "endlinecolor": "#2a3f5f",
             "gridcolor": "white",
             "linecolor": "white",
             "minorgridcolor": "white",
             "startlinecolor": "#2a3f5f"
            },
            "baxis": {
             "endlinecolor": "#2a3f5f",
             "gridcolor": "white",
             "linecolor": "white",
             "minorgridcolor": "white",
             "startlinecolor": "#2a3f5f"
            },
            "type": "carpet"
           }
          ],
          "choropleth": [
           {
            "colorbar": {
             "outlinewidth": 0,
             "ticks": ""
            },
            "type": "choropleth"
           }
          ],
          "contour": [
           {
            "colorbar": {
             "outlinewidth": 0,
             "ticks": ""
            },
            "colorscale": [
             [
              0,
              "#0d0887"
             ],
             [
              0.1111111111111111,
              "#46039f"
             ],
             [
              0.2222222222222222,
              "#7201a8"
             ],
             [
              0.3333333333333333,
              "#9c179e"
             ],
             [
              0.4444444444444444,
              "#bd3786"
             ],
             [
              0.5555555555555556,
              "#d8576b"
             ],
             [
              0.6666666666666666,
              "#ed7953"
             ],
             [
              0.7777777777777778,
              "#fb9f3a"
             ],
             [
              0.8888888888888888,
              "#fdca26"
             ],
             [
              1,
              "#f0f921"
             ]
            ],
            "type": "contour"
           }
          ],
          "contourcarpet": [
           {
            "colorbar": {
             "outlinewidth": 0,
             "ticks": ""
            },
            "type": "contourcarpet"
           }
          ],
          "heatmap": [
           {
            "colorbar": {
             "outlinewidth": 0,
             "ticks": ""
            },
            "colorscale": [
             [
              0,
              "#0d0887"
             ],
             [
              0.1111111111111111,
              "#46039f"
             ],
             [
              0.2222222222222222,
              "#7201a8"
             ],
             [
              0.3333333333333333,
              "#9c179e"
             ],
             [
              0.4444444444444444,
              "#bd3786"
             ],
             [
              0.5555555555555556,
              "#d8576b"
             ],
             [
              0.6666666666666666,
              "#ed7953"
             ],
             [
              0.7777777777777778,
              "#fb9f3a"
             ],
             [
              0.8888888888888888,
              "#fdca26"
             ],
             [
              1,
              "#f0f921"
             ]
            ],
            "type": "heatmap"
           }
          ],
          "heatmapgl": [
           {
            "colorbar": {
             "outlinewidth": 0,
             "ticks": ""
            },
            "colorscale": [
             [
              0,
              "#0d0887"
             ],
             [
              0.1111111111111111,
              "#46039f"
             ],
             [
              0.2222222222222222,
              "#7201a8"
             ],
             [
              0.3333333333333333,
              "#9c179e"
             ],
             [
              0.4444444444444444,
              "#bd3786"
             ],
             [
              0.5555555555555556,
              "#d8576b"
             ],
             [
              0.6666666666666666,
              "#ed7953"
             ],
             [
              0.7777777777777778,
              "#fb9f3a"
             ],
             [
              0.8888888888888888,
              "#fdca26"
             ],
             [
              1,
              "#f0f921"
             ]
            ],
            "type": "heatmapgl"
           }
          ],
          "histogram": [
           {
            "marker": {
             "colorbar": {
              "outlinewidth": 0,
              "ticks": ""
             }
            },
            "type": "histogram"
           }
          ],
          "histogram2d": [
           {
            "colorbar": {
             "outlinewidth": 0,
             "ticks": ""
            },
            "colorscale": [
             [
              0,
              "#0d0887"
             ],
             [
              0.1111111111111111,
              "#46039f"
             ],
             [
              0.2222222222222222,
              "#7201a8"
             ],
             [
              0.3333333333333333,
              "#9c179e"
             ],
             [
              0.4444444444444444,
              "#bd3786"
             ],
             [
              0.5555555555555556,
              "#d8576b"
             ],
             [
              0.6666666666666666,
              "#ed7953"
             ],
             [
              0.7777777777777778,
              "#fb9f3a"
             ],
             [
              0.8888888888888888,
              "#fdca26"
             ],
             [
              1,
              "#f0f921"
             ]
            ],
            "type": "histogram2d"
           }
          ],
          "histogram2dcontour": [
           {
            "colorbar": {
             "outlinewidth": 0,
             "ticks": ""
            },
            "colorscale": [
             [
              0,
              "#0d0887"
             ],
             [
              0.1111111111111111,
              "#46039f"
             ],
             [
              0.2222222222222222,
              "#7201a8"
             ],
             [
              0.3333333333333333,
              "#9c179e"
             ],
             [
              0.4444444444444444,
              "#bd3786"
             ],
             [
              0.5555555555555556,
              "#d8576b"
             ],
             [
              0.6666666666666666,
              "#ed7953"
             ],
             [
              0.7777777777777778,
              "#fb9f3a"
             ],
             [
              0.8888888888888888,
              "#fdca26"
             ],
             [
              1,
              "#f0f921"
             ]
            ],
            "type": "histogram2dcontour"
           }
          ],
          "mesh3d": [
           {
            "colorbar": {
             "outlinewidth": 0,
             "ticks": ""
            },
            "type": "mesh3d"
           }
          ],
          "parcoords": [
           {
            "line": {
             "colorbar": {
              "outlinewidth": 0,
              "ticks": ""
             }
            },
            "type": "parcoords"
           }
          ],
          "pie": [
           {
            "automargin": true,
            "type": "pie"
           }
          ],
          "scatter": [
           {
            "marker": {
             "colorbar": {
              "outlinewidth": 0,
              "ticks": ""
             }
            },
            "type": "scatter"
           }
          ],
          "scatter3d": [
           {
            "line": {
             "colorbar": {
              "outlinewidth": 0,
              "ticks": ""
             }
            },
            "marker": {
             "colorbar": {
              "outlinewidth": 0,
              "ticks": ""
             }
            },
            "type": "scatter3d"
           }
          ],
          "scattercarpet": [
           {
            "marker": {
             "colorbar": {
              "outlinewidth": 0,
              "ticks": ""
             }
            },
            "type": "scattercarpet"
           }
          ],
          "scattergeo": [
           {
            "marker": {
             "colorbar": {
              "outlinewidth": 0,
              "ticks": ""
             }
            },
            "type": "scattergeo"
           }
          ],
          "scattergl": [
           {
            "marker": {
             "colorbar": {
              "outlinewidth": 0,
              "ticks": ""
             }
            },
            "type": "scattergl"
           }
          ],
          "scattermapbox": [
           {
            "marker": {
             "colorbar": {
              "outlinewidth": 0,
              "ticks": ""
             }
            },
            "type": "scattermapbox"
           }
          ],
          "scatterpolar": [
           {
            "marker": {
             "colorbar": {
              "outlinewidth": 0,
              "ticks": ""
             }
            },
            "type": "scatterpolar"
           }
          ],
          "scatterpolargl": [
           {
            "marker": {
             "colorbar": {
              "outlinewidth": 0,
              "ticks": ""
             }
            },
            "type": "scatterpolargl"
           }
          ],
          "scatterternary": [
           {
            "marker": {
             "colorbar": {
              "outlinewidth": 0,
              "ticks": ""
             }
            },
            "type": "scatterternary"
           }
          ],
          "surface": [
           {
            "colorbar": {
             "outlinewidth": 0,
             "ticks": ""
            },
            "colorscale": [
             [
              0,
              "#0d0887"
             ],
             [
              0.1111111111111111,
              "#46039f"
             ],
             [
              0.2222222222222222,
              "#7201a8"
             ],
             [
              0.3333333333333333,
              "#9c179e"
             ],
             [
              0.4444444444444444,
              "#bd3786"
             ],
             [
              0.5555555555555556,
              "#d8576b"
             ],
             [
              0.6666666666666666,
              "#ed7953"
             ],
             [
              0.7777777777777778,
              "#fb9f3a"
             ],
             [
              0.8888888888888888,
              "#fdca26"
             ],
             [
              1,
              "#f0f921"
             ]
            ],
            "type": "surface"
           }
          ],
          "table": [
           {
            "cells": {
             "fill": {
              "color": "#EBF0F8"
             },
             "line": {
              "color": "white"
             }
            },
            "header": {
             "fill": {
              "color": "#C8D4E3"
             },
             "line": {
              "color": "white"
             }
            },
            "type": "table"
           }
          ]
         },
         "layout": {
          "annotationdefaults": {
           "arrowcolor": "#2a3f5f",
           "arrowhead": 0,
           "arrowwidth": 1
          },
          "coloraxis": {
           "colorbar": {
            "outlinewidth": 0,
            "ticks": ""
           }
          },
          "colorscale": {
           "diverging": [
            [
             0,
             "#8e0152"
            ],
            [
             0.1,
             "#c51b7d"
            ],
            [
             0.2,
             "#de77ae"
            ],
            [
             0.3,
             "#f1b6da"
            ],
            [
             0.4,
             "#fde0ef"
            ],
            [
             0.5,
             "#f7f7f7"
            ],
            [
             0.6,
             "#e6f5d0"
            ],
            [
             0.7,
             "#b8e186"
            ],
            [
             0.8,
             "#7fbc41"
            ],
            [
             0.9,
             "#4d9221"
            ],
            [
             1,
             "#276419"
            ]
           ],
           "sequential": [
            [
             0,
             "#0d0887"
            ],
            [
             0.1111111111111111,
             "#46039f"
            ],
            [
             0.2222222222222222,
             "#7201a8"
            ],
            [
             0.3333333333333333,
             "#9c179e"
            ],
            [
             0.4444444444444444,
             "#bd3786"
            ],
            [
             0.5555555555555556,
             "#d8576b"
            ],
            [
             0.6666666666666666,
             "#ed7953"
            ],
            [
             0.7777777777777778,
             "#fb9f3a"
            ],
            [
             0.8888888888888888,
             "#fdca26"
            ],
            [
             1,
             "#f0f921"
            ]
           ],
           "sequentialminus": [
            [
             0,
             "#0d0887"
            ],
            [
             0.1111111111111111,
             "#46039f"
            ],
            [
             0.2222222222222222,
             "#7201a8"
            ],
            [
             0.3333333333333333,
             "#9c179e"
            ],
            [
             0.4444444444444444,
             "#bd3786"
            ],
            [
             0.5555555555555556,
             "#d8576b"
            ],
            [
             0.6666666666666666,
             "#ed7953"
            ],
            [
             0.7777777777777778,
             "#fb9f3a"
            ],
            [
             0.8888888888888888,
             "#fdca26"
            ],
            [
             1,
             "#f0f921"
            ]
           ]
          },
          "colorway": [
           "#636efa",
           "#EF553B",
           "#00cc96",
           "#ab63fa",
           "#FFA15A",
           "#19d3f3",
           "#FF6692",
           "#B6E880",
           "#FF97FF",
           "#FECB52"
          ],
          "font": {
           "color": "#2a3f5f"
          },
          "geo": {
           "bgcolor": "white",
           "lakecolor": "white",
           "landcolor": "#E5ECF6",
           "showlakes": true,
           "showland": true,
           "subunitcolor": "white"
          },
          "hoverlabel": {
           "align": "left"
          },
          "hovermode": "closest",
          "mapbox": {
           "style": "light"
          },
          "paper_bgcolor": "white",
          "plot_bgcolor": "#E5ECF6",
          "polar": {
           "angularaxis": {
            "gridcolor": "white",
            "linecolor": "white",
            "ticks": ""
           },
           "bgcolor": "#E5ECF6",
           "radialaxis": {
            "gridcolor": "white",
            "linecolor": "white",
            "ticks": ""
           }
          },
          "scene": {
           "xaxis": {
            "backgroundcolor": "#E5ECF6",
            "gridcolor": "white",
            "gridwidth": 2,
            "linecolor": "white",
            "showbackground": true,
            "ticks": "",
            "zerolinecolor": "white"
           },
           "yaxis": {
            "backgroundcolor": "#E5ECF6",
            "gridcolor": "white",
            "gridwidth": 2,
            "linecolor": "white",
            "showbackground": true,
            "ticks": "",
            "zerolinecolor": "white"
           },
           "zaxis": {
            "backgroundcolor": "#E5ECF6",
            "gridcolor": "white",
            "gridwidth": 2,
            "linecolor": "white",
            "showbackground": true,
            "ticks": "",
            "zerolinecolor": "white"
           }
          },
          "shapedefaults": {
           "line": {
            "color": "#2a3f5f"
           }
          },
          "ternary": {
           "aaxis": {
            "gridcolor": "white",
            "linecolor": "white",
            "ticks": ""
           },
           "baxis": {
            "gridcolor": "white",
            "linecolor": "white",
            "ticks": ""
           },
           "bgcolor": "#E5ECF6",
           "caxis": {
            "gridcolor": "white",
            "linecolor": "white",
            "ticks": ""
           }
          },
          "title": {
           "x": 0.05
          },
          "xaxis": {
           "automargin": true,
           "gridcolor": "white",
           "linecolor": "white",
           "ticks": "",
           "title": {
            "standoff": 15
           },
           "zerolinecolor": "white",
           "zerolinewidth": 2
          },
          "yaxis": {
           "automargin": true,
           "gridcolor": "white",
           "linecolor": "white",
           "ticks": "",
           "title": {
            "standoff": 15
           },
           "zerolinecolor": "white",
           "zerolinewidth": 2
          }
         }
        },
        "title": {
         "text": "Age Distribuition"
        },
        "xaxis": {
         "anchor": "y",
         "domain": [
          0,
          0.45
         ]
        },
        "xaxis2": {
         "anchor": "y2",
         "domain": [
          0.55,
          1
         ]
        },
        "xaxis3": {
         "anchor": "y3",
         "domain": [
          0,
          1
         ]
        },
        "yaxis": {
         "anchor": "x",
         "domain": [
          0.625,
          1
         ]
        },
        "yaxis2": {
         "anchor": "x2",
         "domain": [
          0.625,
          1
         ]
        },
        "yaxis3": {
         "anchor": "x3",
         "domain": [
          0,
          0.375
         ]
        }
       }
      },
      "text/html": [
       "<div>\n",
       "        \n",
       "        \n",
       "            <div id=\"8f16ee51-0a6a-4cc9-a018-85dbf4b4328b\" class=\"plotly-graph-div\" style=\"height:525px; width:100%;\"></div>\n",
       "            <script type=\"text/javascript\">\n",
       "                require([\"plotly\"], function(Plotly) {\n",
       "                    window.PLOTLYENV=window.PLOTLYENV || {};\n",
       "                    \n",
       "                if (document.getElementById(\"8f16ee51-0a6a-4cc9-a018-85dbf4b4328b\")) {\n",
       "                    Plotly.newPlot(\n",
       "                        '8f16ee51-0a6a-4cc9-a018-85dbf4b4328b',\n",
       "                        [{\"histnorm\": \"probability\", \"name\": \"Good Credit\", \"type\": \"histogram\", \"x\": [67, 49, 45, 35, 53, 35, 61, 22, 28, 53, 25, 31, 48, 44, 48, 44, 26, 36, 39, 42, 34, 36, 27, 30, 57, 33, 31, 37, 24, 30, 26, 44, 24, 35, 39, 23, 39, 28, 29, 30, 25, 31, 26, 31, 23, 27, 50, 26, 48, 29, 22, 25, 30, 46, 51, 41, 66, 51, 39, 22, 47, 24, 58, 52, 29, 27, 30, 56, 54, 20, 54, 61, 34, 36, 36, 41, 24, 24, 35, 26, 32, 30, 35, 31, 23, 28, 35, 47, 27, 36, 41, 24, 63, 30, 40, 34, 24, 27, 47, 21, 38, 27, 35, 44, 27, 30, 27, 23, 30, 39, 51, 28, 46, 42, 38, 24, 29, 36, 48, 45, 38, 34, 36, 30, 36, 70, 36, 32, 20, 25, 26, 33, 42, 52, 31, 65, 50, 31, 68, 33, 29, 28, 36, 52, 27, 26, 38, 38, 43, 26, 21, 55, 33, 45, 51, 39, 31, 23, 24, 64, 26, 23, 30, 32, 30, 27, 22, 51, 35, 25, 42, 35, 39, 51, 27, 35, 25, 52, 35, 26, 39, 46, 35, 24, 27, 35, 23, 57, 27, 55, 36, 57, 32, 36, 38, 25, 32, 37, 36, 32, 26, 49, 29, 23, 50, 49, 63, 37, 35, 26, 31, 49, 26, 44, 56, 46, 20, 45, 43, 32, 54, 49, 33, 24, 22, 40, 25, 26, 29, 38, 48, 32, 27, 34, 28, 36, 39, 49, 34, 31, 28, 75, 23, 28, 31, 24, 26, 25, 33, 37, 43, 23, 23, 34, 23, 38, 46, 49, 28, 61, 37, 36, 21, 36, 27, 22, 40, 36, 33, 23, 63, 34, 36, 52, 39, 25, 26, 26, 25, 21, 40, 27, 27, 30, 19, 39, 31, 31, 32, 55, 46, 43, 39, 28, 27, 43, 43, 27, 26, 20, 35, 40, 35, 23, 31, 20, 30, 47, 34, 21, 29, 46, 20, 74, 36, 33, 25, 23, 37, 65, 39, 30, 29, 41, 35, 55, 30, 29, 34, 35, 29, 36, 27, 32, 37, 36, 34, 38, 34, 63, 32, 26, 35, 36, 24, 25, 39, 44, 23, 26, 57, 30, 44, 52, 62, 35, 26, 26, 27, 38, 39, 40, 32, 28, 42, 49, 36, 28, 45, 32, 26, 20, 54, 37, 40, 43, 36, 44, 23, 26, 30, 31, 42, 41, 32, 41, 26, 25, 75, 37, 45, 60, 61, 37, 32, 35, 23, 45, 27, 67, 49, 29, 37, 23, 34, 41, 38, 26, 22, 27, 24, 27, 33, 27, 49, 26, 52, 36, 21, 58, 42, 36, 32, 45, 23, 22, 74, 33, 45, 29, 22, 48, 27, 37, 49, 27, 22, 35, 41, 36, 64, 28, 23, 47, 28, 21, 34, 38, 33, 32, 32, 50, 35, 22, 37, 28, 41, 23, 50, 35, 50, 27, 34, 27, 47, 27, 31, 42, 24, 26, 33, 64, 26, 56, 37, 33, 47, 31, 34, 27, 30, 35, 31, 25, 25, 29, 44, 28, 50, 29, 38, 24, 40, 47, 41, 32, 35, 25, 37, 32, 46, 25, 63, 40, 32, 31, 31, 66, 41, 47, 36, 33, 44, 28, 37, 29, 35, 45, 32, 23, 41, 22, 30, 28, 23, 26, 33, 49, 23, 25, 74, 31, 59, 24, 27, 40, 31, 28, 63, 26, 36, 52, 66, 37, 25, 38, 67, 60, 31, 60, 35, 40, 38, 41, 27, 51, 32, 22, 22, 54, 35, 54, 48, 24, 35, 24, 26, 65, 55, 26, 28, 54, 62, 24, 43, 27, 24, 47, 35, 30, 38, 44, 42, 21, 23, 63, 46, 28, 50, 47, 35, 28, 59, 43, 35, 45, 33, 40, 28, 26, 27, 32, 20, 27, 42, 37, 24, 40, 46, 26, 24, 29, 40, 36, 28, 36, 38, 48, 36, 65, 34, 34, 40, 43, 46, 38, 34, 29, 31, 28, 35, 33, 44, 42, 40, 36, 20, 24, 27, 46, 33, 34, 25, 28, 32, 28, 37, 30, 21, 58, 43, 24, 30, 42, 23, 30, 46, 45, 31, 31, 42, 46, 30, 38, 40, 29, 57, 49, 37, 30, 30, 47, 29, 22, 26, 54, 29, 40, 22, 43, 33, 57, 64, 42, 28, 30, 25, 33, 64, 29, 48, 37, 34, 23, 30, 50, 31, 40, 38, 27], \"xaxis\": \"x\", \"yaxis\": \"y\"}, {\"histnorm\": \"probability\", \"name\": \"Bad Credit\", \"type\": \"histogram\", \"x\": [22, 53, 28, 25, 24, 60, 32, 44, 63, 25, 37, 58, 57, 52, 23, 61, 25, 37, 40, 34, 44, 47, 28, 33, 58, 39, 39, 25, 30, 23, 25, 27, 30, 29, 29, 66, 22, 20, 33, 31, 33, 34, 26, 53, 28, 30, 40, 36, 74, 20, 54, 34, 36, 21, 34, 27, 40, 21, 50, 66, 27, 53, 22, 26, 30, 23, 61, 29, 24, 22, 24, 29, 37, 45, 28, 34, 32, 48, 28, 26, 42, 37, 44, 33, 24, 25, 31, 28, 32, 30, 24, 24, 23, 44, 24, 32, 29, 28, 23, 26, 23, 25, 42, 60, 37, 57, 38, 46, 27, 22, 28, 42, 35, 33, 33, 25, 55, 29, 25, 26, 41, 30, 34, 61, 31, 35, 29, 22, 23, 28, 33, 26, 47, 42, 20, 29, 27, 38, 24, 27, 34, 26, 23, 24, 53, 31, 28, 33, 42, 23, 31, 34, 43, 24, 34, 22, 28, 29, 27, 31, 24, 37, 36, 31, 23, 27, 30, 33, 20, 47, 60, 20, 40, 32, 23, 36, 31, 30, 34, 28, 50, 22, 48, 22, 21, 32, 38, 65, 29, 44, 19, 25, 26, 27, 40, 27, 26, 38, 40, 37, 45, 42, 41, 23, 43, 41, 24, 29, 46, 24, 25, 35, 27, 34, 24, 24, 21, 25, 59, 21, 23, 26, 37, 23, 55, 32, 39, 35, 24, 30, 31, 25, 25, 25, 23, 50, 27, 39, 51, 24, 26, 24, 54, 46, 26, 41, 33, 36, 47, 23, 29, 25, 48, 29, 23, 68, 57, 33, 32, 29, 28, 35, 25, 27, 43, 53, 23, 42, 43, 25, 31, 32, 68, 33, 39, 22, 55, 46, 39, 22, 30, 28, 42, 30, 43, 31, 24, 28, 26, 45, 35, 23, 29, 36, 47, 25, 49, 33, 26, 23], \"xaxis\": \"x2\", \"yaxis\": \"y2\"}, {\"histnorm\": \"probability\", \"name\": \"Overall Age\", \"type\": \"histogram\", \"x\": [67, 22, 49, 45, 53, 35, 53, 35, 61, 28, 25, 24, 22, 60, 28, 32, 53, 25, 44, 31, 48, 44, 48, 44, 26, 36, 39, 42, 34, 63, 36, 27, 30, 57, 33, 25, 31, 37, 37, 24, 30, 26, 44, 24, 58, 35, 39, 23, 39, 28, 29, 30, 25, 31, 57, 26, 52, 31, 23, 23, 27, 50, 61, 25, 26, 48, 29, 22, 37, 25, 30, 46, 51, 41, 40, 66, 34, 51, 39, 22, 44, 47, 24, 58, 52, 29, 27, 47, 30, 28, 56, 54, 33, 20, 54, 58, 61, 34, 36, 36, 41, 24, 24, 35, 26, 39, 39, 32, 30, 35, 31, 23, 28, 25, 35, 47, 30, 27, 23, 36, 25, 41, 24, 63, 27, 30, 40, 30, 34, 29, 24, 29, 27, 47, 21, 38, 27, 66, 35, 44, 27, 30, 27, 22, 23, 30, 39, 51, 28, 46, 42, 38, 24, 29, 36, 20, 48, 45, 38, 34, 36, 30, 36, 70, 36, 32, 33, 20, 25, 31, 33, 26, 34, 33, 26, 53, 42, 52, 31, 65, 28, 30, 40, 50, 36, 31, 74, 68, 20, 33, 54, 34, 36, 29, 21, 34, 28, 27, 36, 40, 52, 27, 26, 21, 38, 38, 43, 26, 21, 55, 33, 45, 50, 66, 51, 39, 31, 23, 24, 64, 26, 23, 30, 32, 30, 27, 27, 53, 22, 22, 26, 51, 35, 25, 42, 30, 23, 61, 35, 39, 29, 51, 24, 27, 35, 25, 52, 35, 26, 22, 39, 46, 24, 35, 24, 27, 35, 29, 23, 57, 27, 55, 36, 57, 32, 37, 36, 38, 45, 25, 32, 37, 36, 28, 34, 32, 26, 49, 32, 29, 23, 50, 49, 63, 37, 35, 26, 31, 49, 48, 26, 28, 44, 56, 46, 26, 20, 45, 43, 32, 54, 42, 37, 49, 44, 33, 24, 33, 24, 22, 40, 25, 26, 25, 29, 31, 38, 48, 32, 27, 28, 32, 34, 28, 36, 39, 49, 34, 31, 28, 75, 30, 24, 24, 23, 44, 23, 24, 28, 31, 24, 26, 25, 33, 37, 43, 23, 23, 34, 32, 23, 29, 38, 28, 46, 23, 49, 26, 28, 23, 61, 37, 36, 21, 25, 36, 27, 22, 42, 40, 36, 33, 23, 63, 60, 37, 34, 36, 57, 52, 39, 38, 25, 26, 26, 25, 21, 40, 27, 27, 30, 19, 39, 31, 31, 32, 55, 46, 46, 43, 39, 28, 27, 27, 43, 22, 43, 27, 26, 28, 20, 35, 42, 40, 35, 35, 33, 23, 31, 33, 20, 30, 47, 34, 25, 21, 29, 46, 20, 55, 74, 29, 36, 33, 25, 25, 23, 37, 65, 26, 39, 30, 29, 41, 30, 41, 34, 35, 55, 61, 30, 29, 34, 35, 31, 29, 36, 35, 27, 32, 37, 36, 34, 38, 34, 63, 29, 32, 26, 35, 22, 23, 28, 36, 33, 26, 24, 25, 39, 44, 23, 26, 57, 30, 44, 47, 52, 62, 35, 26, 26, 42, 27, 38, 39, 20, 29, 40, 32, 28, 27, 42, 49, 38, 24, 27, 36, 34, 28, 45, 26, 32, 26, 20, 54, 37, 40, 23, 43, 36, 44, 24, 53, 23, 26, 30, 31, 42, 31, 41, 32, 28, 41, 26, 25, 33, 75, 37, 42, 45, 23, 60, 31, 34, 61, 43, 37, 32, 24, 35, 23, 45, 34, 27, 67, 22, 28, 29, 27, 31, 49, 24, 29, 37, 37, 23, 36, 34, 41, 31, 23, 38, 26, 22, 27, 24, 27, 33, 27, 27, 30, 49, 26, 33, 52, 20, 36, 21, 47, 60, 58, 42, 36, 20, 40, 32, 23, 36, 31, 32, 45, 30, 34, 28, 23, 22, 74, 50, 33, 45, 22, 48, 29, 22, 22, 48, 27, 37, 21, 49, 27, 32, 38, 22, 65, 35, 41, 29, 36, 64, 28, 44, 23, 19, 25, 47, 28, 21, 34, 26, 27, 38, 40, 33, 32, 27, 32, 26, 38, 40, 50, 37, 45, 42, 35, 22, 41, 37, 28, 41, 23, 23, 50, 35, 50, 27, 34, 27, 43, 47, 27, 31, 42, 24, 41, 26, 33, 24, 64, 26, 56, 37, 33, 47, 31, 34, 27, 30, 35, 31, 25, 25, 29, 44, 28, 50, 29, 38, 24, 40, 29, 46, 47, 41, 32, 35, 24, 25, 25, 37, 32, 35, 46, 25, 27, 63, 40, 32, 31, 31, 34, 24, 24, 66, 21, 41, 47, 25, 59, 36, 33, 21, 44, 28, 37, 29, 23, 35, 45, 26, 32, 23, 41, 22, 30, 28, 23, 37, 26, 33, 49, 23, 23, 25, 55, 32, 74, 39, 31, 35, 59, 24, 24, 30, 27, 40, 31, 31, 28, 63, 26, 25, 36, 52, 66, 25, 37, 25, 38, 67, 25, 60, 31, 23, 60, 35, 40, 38, 50, 27, 39, 41, 27, 51, 32, 22, 51, 22, 54, 35, 54, 48, 24, 35, 24, 24, 26, 65, 55, 26, 26, 28, 24, 54, 46, 54, 62, 24, 43, 26, 27, 24, 41, 47, 35, 30, 33, 36, 47, 38, 44, 23, 29, 42, 25, 48, 21, 23, 63, 46, 29, 28, 23, 50, 47, 35, 68, 28, 59, 57, 33, 43, 35, 32, 45, 33, 40, 28, 29, 26, 27, 28, 35, 32, 25, 20, 27, 42, 37, 24, 40, 46, 26, 24, 29, 40, 36, 28, 27, 36, 38, 48, 36, 65, 43, 53, 34, 23, 34, 40, 43, 46, 38, 34, 29, 31, 28, 35, 33, 42, 43, 44, 42, 40, 36, 20, 24, 27, 46, 33, 34, 25, 25, 28, 31, 32, 32, 68, 33, 39, 28, 37, 22, 30, 55, 46, 21, 39, 58, 43, 24, 22, 30, 42, 23, 30, 28, 30, 42, 46, 45, 31, 31, 42, 46, 30, 30, 38, 43, 31, 40, 24, 28, 26, 29, 57, 49, 37, 45, 30, 30, 47, 29, 35, 22, 26, 23, 54, 29, 40, 22, 43, 29, 36, 33, 57, 64, 42, 47, 25, 49, 33, 28, 26, 30, 25, 33, 64, 29, 48, 37, 34, 23, 30, 50, 31, 40, 38, 23, 27], \"xaxis\": \"x3\", \"yaxis\": \"y3\"}],\n",
       "                        {\"annotations\": [{\"font\": {\"size\": 16}, \"showarrow\": false, \"text\": \"Good\", \"x\": 0.225, \"xanchor\": \"center\", \"xref\": \"paper\", \"y\": 1.0, \"yanchor\": \"bottom\", \"yref\": \"paper\"}, {\"font\": {\"size\": 16}, \"showarrow\": false, \"text\": \"Bad\", \"x\": 0.775, \"xanchor\": \"center\", \"xref\": \"paper\", \"y\": 1.0, \"yanchor\": \"bottom\", \"yref\": \"paper\"}, {\"font\": {\"size\": 16}, \"showarrow\": false, \"text\": \"General Distribuition\", \"x\": 0.5, \"xanchor\": \"center\", \"xref\": \"paper\", \"y\": 0.375, \"yanchor\": \"bottom\", \"yref\": \"paper\"}], \"bargap\": 0.05, \"showlegend\": true, \"template\": {\"data\": {\"bar\": [{\"error_x\": {\"color\": \"#2a3f5f\"}, \"error_y\": {\"color\": \"#2a3f5f\"}, \"marker\": {\"line\": {\"color\": \"#E5ECF6\", \"width\": 0.5}}, \"type\": \"bar\"}], \"barpolar\": [{\"marker\": {\"line\": {\"color\": \"#E5ECF6\", \"width\": 0.5}}, \"type\": \"barpolar\"}], \"carpet\": [{\"aaxis\": {\"endlinecolor\": \"#2a3f5f\", \"gridcolor\": \"white\", \"linecolor\": \"white\", \"minorgridcolor\": \"white\", \"startlinecolor\": \"#2a3f5f\"}, \"baxis\": {\"endlinecolor\": \"#2a3f5f\", \"gridcolor\": \"white\", \"linecolor\": \"white\", \"minorgridcolor\": \"white\", \"startlinecolor\": \"#2a3f5f\"}, \"type\": \"carpet\"}], \"choropleth\": [{\"colorbar\": {\"outlinewidth\": 0, \"ticks\": \"\"}, \"type\": \"choropleth\"}], \"contour\": [{\"colorbar\": {\"outlinewidth\": 0, \"ticks\": \"\"}, \"colorscale\": [[0.0, \"#0d0887\"], [0.1111111111111111, \"#46039f\"], [0.2222222222222222, \"#7201a8\"], [0.3333333333333333, \"#9c179e\"], [0.4444444444444444, \"#bd3786\"], [0.5555555555555556, \"#d8576b\"], [0.6666666666666666, \"#ed7953\"], [0.7777777777777778, \"#fb9f3a\"], [0.8888888888888888, \"#fdca26\"], [1.0, \"#f0f921\"]], \"type\": \"contour\"}], \"contourcarpet\": [{\"colorbar\": {\"outlinewidth\": 0, \"ticks\": \"\"}, \"type\": \"contourcarpet\"}], \"heatmap\": [{\"colorbar\": {\"outlinewidth\": 0, \"ticks\": \"\"}, \"colorscale\": [[0.0, \"#0d0887\"], [0.1111111111111111, \"#46039f\"], [0.2222222222222222, \"#7201a8\"], [0.3333333333333333, \"#9c179e\"], [0.4444444444444444, \"#bd3786\"], [0.5555555555555556, \"#d8576b\"], [0.6666666666666666, \"#ed7953\"], [0.7777777777777778, \"#fb9f3a\"], [0.8888888888888888, \"#fdca26\"], [1.0, \"#f0f921\"]], \"type\": \"heatmap\"}], \"heatmapgl\": [{\"colorbar\": {\"outlinewidth\": 0, \"ticks\": \"\"}, \"colorscale\": [[0.0, \"#0d0887\"], [0.1111111111111111, \"#46039f\"], [0.2222222222222222, \"#7201a8\"], [0.3333333333333333, \"#9c179e\"], [0.4444444444444444, \"#bd3786\"], [0.5555555555555556, \"#d8576b\"], [0.6666666666666666, \"#ed7953\"], [0.7777777777777778, \"#fb9f3a\"], [0.8888888888888888, \"#fdca26\"], [1.0, \"#f0f921\"]], \"type\": \"heatmapgl\"}], \"histogram\": [{\"marker\": {\"colorbar\": {\"outlinewidth\": 0, \"ticks\": \"\"}}, \"type\": \"histogram\"}], \"histogram2d\": [{\"colorbar\": {\"outlinewidth\": 0, \"ticks\": \"\"}, \"colorscale\": [[0.0, \"#0d0887\"], [0.1111111111111111, \"#46039f\"], [0.2222222222222222, \"#7201a8\"], [0.3333333333333333, \"#9c179e\"], [0.4444444444444444, \"#bd3786\"], [0.5555555555555556, \"#d8576b\"], [0.6666666666666666, \"#ed7953\"], [0.7777777777777778, \"#fb9f3a\"], [0.8888888888888888, \"#fdca26\"], [1.0, \"#f0f921\"]], \"type\": \"histogram2d\"}], \"histogram2dcontour\": [{\"colorbar\": {\"outlinewidth\": 0, \"ticks\": \"\"}, \"colorscale\": [[0.0, \"#0d0887\"], [0.1111111111111111, \"#46039f\"], [0.2222222222222222, \"#7201a8\"], [0.3333333333333333, \"#9c179e\"], [0.4444444444444444, \"#bd3786\"], [0.5555555555555556, \"#d8576b\"], [0.6666666666666666, \"#ed7953\"], [0.7777777777777778, \"#fb9f3a\"], [0.8888888888888888, \"#fdca26\"], [1.0, \"#f0f921\"]], \"type\": \"histogram2dcontour\"}], \"mesh3d\": [{\"colorbar\": {\"outlinewidth\": 0, \"ticks\": \"\"}, \"type\": \"mesh3d\"}], \"parcoords\": [{\"line\": {\"colorbar\": {\"outlinewidth\": 0, \"ticks\": \"\"}}, \"type\": \"parcoords\"}], \"pie\": [{\"automargin\": true, \"type\": \"pie\"}], \"scatter\": [{\"marker\": {\"colorbar\": {\"outlinewidth\": 0, \"ticks\": \"\"}}, \"type\": \"scatter\"}], \"scatter3d\": [{\"line\": {\"colorbar\": {\"outlinewidth\": 0, \"ticks\": \"\"}}, \"marker\": {\"colorbar\": {\"outlinewidth\": 0, \"ticks\": \"\"}}, \"type\": \"scatter3d\"}], \"scattercarpet\": [{\"marker\": {\"colorbar\": {\"outlinewidth\": 0, \"ticks\": \"\"}}, \"type\": \"scattercarpet\"}], \"scattergeo\": [{\"marker\": {\"colorbar\": {\"outlinewidth\": 0, \"ticks\": \"\"}}, \"type\": \"scattergeo\"}], \"scattergl\": [{\"marker\": {\"colorbar\": {\"outlinewidth\": 0, \"ticks\": \"\"}}, \"type\": \"scattergl\"}], \"scattermapbox\": [{\"marker\": {\"colorbar\": {\"outlinewidth\": 0, \"ticks\": \"\"}}, \"type\": \"scattermapbox\"}], \"scatterpolar\": [{\"marker\": {\"colorbar\": {\"outlinewidth\": 0, \"ticks\": \"\"}}, \"type\": \"scatterpolar\"}], \"scatterpolargl\": [{\"marker\": {\"colorbar\": {\"outlinewidth\": 0, \"ticks\": \"\"}}, \"type\": \"scatterpolargl\"}], \"scatterternary\": [{\"marker\": {\"colorbar\": {\"outlinewidth\": 0, \"ticks\": \"\"}}, \"type\": \"scatterternary\"}], \"surface\": [{\"colorbar\": {\"outlinewidth\": 0, \"ticks\": \"\"}, \"colorscale\": [[0.0, \"#0d0887\"], [0.1111111111111111, \"#46039f\"], [0.2222222222222222, \"#7201a8\"], [0.3333333333333333, \"#9c179e\"], [0.4444444444444444, \"#bd3786\"], [0.5555555555555556, \"#d8576b\"], [0.6666666666666666, \"#ed7953\"], [0.7777777777777778, \"#fb9f3a\"], [0.8888888888888888, \"#fdca26\"], [1.0, \"#f0f921\"]], \"type\": \"surface\"}], \"table\": [{\"cells\": {\"fill\": {\"color\": \"#EBF0F8\"}, \"line\": {\"color\": \"white\"}}, \"header\": {\"fill\": {\"color\": \"#C8D4E3\"}, \"line\": {\"color\": \"white\"}}, \"type\": \"table\"}]}, \"layout\": {\"annotationdefaults\": {\"arrowcolor\": \"#2a3f5f\", \"arrowhead\": 0, \"arrowwidth\": 1}, \"coloraxis\": {\"colorbar\": {\"outlinewidth\": 0, \"ticks\": \"\"}}, \"colorscale\": {\"diverging\": [[0, \"#8e0152\"], [0.1, \"#c51b7d\"], [0.2, \"#de77ae\"], [0.3, \"#f1b6da\"], [0.4, \"#fde0ef\"], [0.5, \"#f7f7f7\"], [0.6, \"#e6f5d0\"], [0.7, \"#b8e186\"], [0.8, \"#7fbc41\"], [0.9, \"#4d9221\"], [1, \"#276419\"]], \"sequential\": [[0.0, \"#0d0887\"], [0.1111111111111111, \"#46039f\"], [0.2222222222222222, \"#7201a8\"], [0.3333333333333333, \"#9c179e\"], [0.4444444444444444, \"#bd3786\"], [0.5555555555555556, \"#d8576b\"], [0.6666666666666666, \"#ed7953\"], [0.7777777777777778, \"#fb9f3a\"], [0.8888888888888888, \"#fdca26\"], [1.0, \"#f0f921\"]], \"sequentialminus\": [[0.0, \"#0d0887\"], [0.1111111111111111, \"#46039f\"], [0.2222222222222222, \"#7201a8\"], [0.3333333333333333, \"#9c179e\"], [0.4444444444444444, \"#bd3786\"], [0.5555555555555556, \"#d8576b\"], [0.6666666666666666, \"#ed7953\"], [0.7777777777777778, \"#fb9f3a\"], [0.8888888888888888, \"#fdca26\"], [1.0, \"#f0f921\"]]}, \"colorway\": [\"#636efa\", \"#EF553B\", \"#00cc96\", \"#ab63fa\", \"#FFA15A\", \"#19d3f3\", \"#FF6692\", \"#B6E880\", \"#FF97FF\", \"#FECB52\"], \"font\": {\"color\": \"#2a3f5f\"}, \"geo\": {\"bgcolor\": \"white\", \"lakecolor\": \"white\", \"landcolor\": \"#E5ECF6\", \"showlakes\": true, \"showland\": true, \"subunitcolor\": \"white\"}, \"hoverlabel\": {\"align\": \"left\"}, \"hovermode\": \"closest\", \"mapbox\": {\"style\": \"light\"}, \"paper_bgcolor\": \"white\", \"plot_bgcolor\": \"#E5ECF6\", \"polar\": {\"angularaxis\": {\"gridcolor\": \"white\", \"linecolor\": \"white\", \"ticks\": \"\"}, \"bgcolor\": \"#E5ECF6\", \"radialaxis\": {\"gridcolor\": \"white\", \"linecolor\": \"white\", \"ticks\": \"\"}}, \"scene\": {\"xaxis\": {\"backgroundcolor\": \"#E5ECF6\", \"gridcolor\": \"white\", \"gridwidth\": 2, \"linecolor\": \"white\", \"showbackground\": true, \"ticks\": \"\", \"zerolinecolor\": \"white\"}, \"yaxis\": {\"backgroundcolor\": \"#E5ECF6\", \"gridcolor\": \"white\", \"gridwidth\": 2, \"linecolor\": \"white\", \"showbackground\": true, \"ticks\": \"\", \"zerolinecolor\": \"white\"}, \"zaxis\": {\"backgroundcolor\": \"#E5ECF6\", \"gridcolor\": \"white\", \"gridwidth\": 2, \"linecolor\": \"white\", \"showbackground\": true, \"ticks\": \"\", \"zerolinecolor\": \"white\"}}, \"shapedefaults\": {\"line\": {\"color\": \"#2a3f5f\"}}, \"ternary\": {\"aaxis\": {\"gridcolor\": \"white\", \"linecolor\": \"white\", \"ticks\": \"\"}, \"baxis\": {\"gridcolor\": \"white\", \"linecolor\": \"white\", \"ticks\": \"\"}, \"bgcolor\": \"#E5ECF6\", \"caxis\": {\"gridcolor\": \"white\", \"linecolor\": \"white\", \"ticks\": \"\"}}, \"title\": {\"x\": 0.05}, \"xaxis\": {\"automargin\": true, \"gridcolor\": \"white\", \"linecolor\": \"white\", \"ticks\": \"\", \"title\": {\"standoff\": 15}, \"zerolinecolor\": \"white\", \"zerolinewidth\": 2}, \"yaxis\": {\"automargin\": true, \"gridcolor\": \"white\", \"linecolor\": \"white\", \"ticks\": \"\", \"title\": {\"standoff\": 15}, \"zerolinecolor\": \"white\", \"zerolinewidth\": 2}}}, \"title\": {\"text\": \"Age Distribuition\"}, \"xaxis\": {\"anchor\": \"y\", \"domain\": [0.0, 0.45]}, \"xaxis2\": {\"anchor\": \"y2\", \"domain\": [0.55, 1.0]}, \"xaxis3\": {\"anchor\": \"y3\", \"domain\": [0.0, 1.0]}, \"yaxis\": {\"anchor\": \"x\", \"domain\": [0.625, 1.0]}, \"yaxis2\": {\"anchor\": \"x2\", \"domain\": [0.625, 1.0]}, \"yaxis3\": {\"anchor\": \"x3\", \"domain\": [0.0, 0.375]}},\n",
       "                        {\"responsive\": true}\n",
       "                    ).then(function(){\n",
       "                            \n",
       "var gd = document.getElementById('8f16ee51-0a6a-4cc9-a018-85dbf4b4328b');\n",
       "var x = new MutationObserver(function (mutations, observer) {{\n",
       "        var display = window.getComputedStyle(gd).display;\n",
       "        if (!display || display === 'none') {{\n",
       "            console.log([gd, 'removed!']);\n",
       "            Plotly.purge(gd);\n",
       "            observer.disconnect();\n",
       "        }}\n",
       "}});\n",
       "\n",
       "// Listen for the removal of the full notebook cells\n",
       "var notebookContainer = gd.closest('#notebook-container');\n",
       "if (notebookContainer) {{\n",
       "    x.observe(notebookContainer, {childList: true});\n",
       "}}\n",
       "\n",
       "// Listen for the clearing of the current output cell\n",
       "var outputEl = gd.closest('.output');\n",
       "if (outputEl) {{\n",
       "    x.observe(outputEl, {childList: true});\n",
       "}}\n",
       "\n",
       "                        })\n",
       "                };\n",
       "                });\n",
       "            </script>\n",
       "        </div>"
      ]
     },
     "metadata": {},
     "output_type": "display_data"
    }
   ],
   "source": [
    "df_good = df.loc[df[\"Class\"] == 1]['Age'].values.tolist()\n",
    "df_bad = df.loc[df[\"Class\"] == 2]['Age'].values.tolist()\n",
    "df_age = df['Age'].values.tolist()\n",
    "\n",
    "#First plot\n",
    "trace0 = go.Histogram(\n",
    "    x=df_good,\n",
    "    histnorm='probability',\n",
    "    name=\"Good Credit\"\n",
    ")\n",
    "#Second plot\n",
    "trace1 = go.Histogram(\n",
    "    x=df_bad,\n",
    "    histnorm='probability',\n",
    "    name=\"Bad Credit\"\n",
    ")\n",
    "#Third plot\n",
    "trace2 = go.Histogram(\n",
    "    x=df_age,\n",
    "    histnorm='probability',\n",
    "    name=\"Overall Age\"\n",
    ")\n",
    "\n",
    "#Creating the grid\n",
    "fig = tls.make_subplots(rows=2, cols=2, specs=[[{}, {}], [{'colspan': 2}, None]],\n",
    "                          subplot_titles=('Good','Bad', 'General Distribuition'))\n",
    "\n",
    "#setting the figs\n",
    "fig.append_trace(trace0, 1, 1)\n",
    "fig.append_trace(trace1, 1, 2)\n",
    "fig.append_trace(trace2, 2, 1)\n",
    "\n",
    "fig['layout'].update(showlegend=True, title='Age Distribuition', bargap=0.05)\n",
    "py.iplot(fig, filename='custom-sized-subplot-with-subplot-titles')\n"
   ]
  },
  {
   "cell_type": "code",
   "execution_count": 13,
   "metadata": {},
   "outputs": [
    {
     "data": {
      "application/vnd.plotly.v1+json": {
       "config": {
        "linkText": "Export to plot.ly",
        "plotlyServerURL": "https://plot.ly",
        "showLink": false
       },
       "data": [
        {
         "name": "Good credit Distribuition",
         "type": "bar",
         "x": [
          "A173",
          "A172",
          "A174",
          "A171"
         ],
         "y": [
          444,
          144,
          97,
          15
         ]
        },
        {
         "name": "Bad Credit Distribuition",
         "type": "bar",
         "x": [
          "A173",
          "A172",
          "A174",
          "A171"
         ],
         "y": [
          186,
          56,
          51,
          7
         ]
        }
       ],
       "layout": {
        "template": {
         "data": {
          "bar": [
           {
            "error_x": {
             "color": "#2a3f5f"
            },
            "error_y": {
             "color": "#2a3f5f"
            },
            "marker": {
             "line": {
              "color": "#E5ECF6",
              "width": 0.5
             }
            },
            "type": "bar"
           }
          ],
          "barpolar": [
           {
            "marker": {
             "line": {
              "color": "#E5ECF6",
              "width": 0.5
             }
            },
            "type": "barpolar"
           }
          ],
          "carpet": [
           {
            "aaxis": {
             "endlinecolor": "#2a3f5f",
             "gridcolor": "white",
             "linecolor": "white",
             "minorgridcolor": "white",
             "startlinecolor": "#2a3f5f"
            },
            "baxis": {
             "endlinecolor": "#2a3f5f",
             "gridcolor": "white",
             "linecolor": "white",
             "minorgridcolor": "white",
             "startlinecolor": "#2a3f5f"
            },
            "type": "carpet"
           }
          ],
          "choropleth": [
           {
            "colorbar": {
             "outlinewidth": 0,
             "ticks": ""
            },
            "type": "choropleth"
           }
          ],
          "contour": [
           {
            "colorbar": {
             "outlinewidth": 0,
             "ticks": ""
            },
            "colorscale": [
             [
              0,
              "#0d0887"
             ],
             [
              0.1111111111111111,
              "#46039f"
             ],
             [
              0.2222222222222222,
              "#7201a8"
             ],
             [
              0.3333333333333333,
              "#9c179e"
             ],
             [
              0.4444444444444444,
              "#bd3786"
             ],
             [
              0.5555555555555556,
              "#d8576b"
             ],
             [
              0.6666666666666666,
              "#ed7953"
             ],
             [
              0.7777777777777778,
              "#fb9f3a"
             ],
             [
              0.8888888888888888,
              "#fdca26"
             ],
             [
              1,
              "#f0f921"
             ]
            ],
            "type": "contour"
           }
          ],
          "contourcarpet": [
           {
            "colorbar": {
             "outlinewidth": 0,
             "ticks": ""
            },
            "type": "contourcarpet"
           }
          ],
          "heatmap": [
           {
            "colorbar": {
             "outlinewidth": 0,
             "ticks": ""
            },
            "colorscale": [
             [
              0,
              "#0d0887"
             ],
             [
              0.1111111111111111,
              "#46039f"
             ],
             [
              0.2222222222222222,
              "#7201a8"
             ],
             [
              0.3333333333333333,
              "#9c179e"
             ],
             [
              0.4444444444444444,
              "#bd3786"
             ],
             [
              0.5555555555555556,
              "#d8576b"
             ],
             [
              0.6666666666666666,
              "#ed7953"
             ],
             [
              0.7777777777777778,
              "#fb9f3a"
             ],
             [
              0.8888888888888888,
              "#fdca26"
             ],
             [
              1,
              "#f0f921"
             ]
            ],
            "type": "heatmap"
           }
          ],
          "heatmapgl": [
           {
            "colorbar": {
             "outlinewidth": 0,
             "ticks": ""
            },
            "colorscale": [
             [
              0,
              "#0d0887"
             ],
             [
              0.1111111111111111,
              "#46039f"
             ],
             [
              0.2222222222222222,
              "#7201a8"
             ],
             [
              0.3333333333333333,
              "#9c179e"
             ],
             [
              0.4444444444444444,
              "#bd3786"
             ],
             [
              0.5555555555555556,
              "#d8576b"
             ],
             [
              0.6666666666666666,
              "#ed7953"
             ],
             [
              0.7777777777777778,
              "#fb9f3a"
             ],
             [
              0.8888888888888888,
              "#fdca26"
             ],
             [
              1,
              "#f0f921"
             ]
            ],
            "type": "heatmapgl"
           }
          ],
          "histogram": [
           {
            "marker": {
             "colorbar": {
              "outlinewidth": 0,
              "ticks": ""
             }
            },
            "type": "histogram"
           }
          ],
          "histogram2d": [
           {
            "colorbar": {
             "outlinewidth": 0,
             "ticks": ""
            },
            "colorscale": [
             [
              0,
              "#0d0887"
             ],
             [
              0.1111111111111111,
              "#46039f"
             ],
             [
              0.2222222222222222,
              "#7201a8"
             ],
             [
              0.3333333333333333,
              "#9c179e"
             ],
             [
              0.4444444444444444,
              "#bd3786"
             ],
             [
              0.5555555555555556,
              "#d8576b"
             ],
             [
              0.6666666666666666,
              "#ed7953"
             ],
             [
              0.7777777777777778,
              "#fb9f3a"
             ],
             [
              0.8888888888888888,
              "#fdca26"
             ],
             [
              1,
              "#f0f921"
             ]
            ],
            "type": "histogram2d"
           }
          ],
          "histogram2dcontour": [
           {
            "colorbar": {
             "outlinewidth": 0,
             "ticks": ""
            },
            "colorscale": [
             [
              0,
              "#0d0887"
             ],
             [
              0.1111111111111111,
              "#46039f"
             ],
             [
              0.2222222222222222,
              "#7201a8"
             ],
             [
              0.3333333333333333,
              "#9c179e"
             ],
             [
              0.4444444444444444,
              "#bd3786"
             ],
             [
              0.5555555555555556,
              "#d8576b"
             ],
             [
              0.6666666666666666,
              "#ed7953"
             ],
             [
              0.7777777777777778,
              "#fb9f3a"
             ],
             [
              0.8888888888888888,
              "#fdca26"
             ],
             [
              1,
              "#f0f921"
             ]
            ],
            "type": "histogram2dcontour"
           }
          ],
          "mesh3d": [
           {
            "colorbar": {
             "outlinewidth": 0,
             "ticks": ""
            },
            "type": "mesh3d"
           }
          ],
          "parcoords": [
           {
            "line": {
             "colorbar": {
              "outlinewidth": 0,
              "ticks": ""
             }
            },
            "type": "parcoords"
           }
          ],
          "pie": [
           {
            "automargin": true,
            "type": "pie"
           }
          ],
          "scatter": [
           {
            "marker": {
             "colorbar": {
              "outlinewidth": 0,
              "ticks": ""
             }
            },
            "type": "scatter"
           }
          ],
          "scatter3d": [
           {
            "line": {
             "colorbar": {
              "outlinewidth": 0,
              "ticks": ""
             }
            },
            "marker": {
             "colorbar": {
              "outlinewidth": 0,
              "ticks": ""
             }
            },
            "type": "scatter3d"
           }
          ],
          "scattercarpet": [
           {
            "marker": {
             "colorbar": {
              "outlinewidth": 0,
              "ticks": ""
             }
            },
            "type": "scattercarpet"
           }
          ],
          "scattergeo": [
           {
            "marker": {
             "colorbar": {
              "outlinewidth": 0,
              "ticks": ""
             }
            },
            "type": "scattergeo"
           }
          ],
          "scattergl": [
           {
            "marker": {
             "colorbar": {
              "outlinewidth": 0,
              "ticks": ""
             }
            },
            "type": "scattergl"
           }
          ],
          "scattermapbox": [
           {
            "marker": {
             "colorbar": {
              "outlinewidth": 0,
              "ticks": ""
             }
            },
            "type": "scattermapbox"
           }
          ],
          "scatterpolar": [
           {
            "marker": {
             "colorbar": {
              "outlinewidth": 0,
              "ticks": ""
             }
            },
            "type": "scatterpolar"
           }
          ],
          "scatterpolargl": [
           {
            "marker": {
             "colorbar": {
              "outlinewidth": 0,
              "ticks": ""
             }
            },
            "type": "scatterpolargl"
           }
          ],
          "scatterternary": [
           {
            "marker": {
             "colorbar": {
              "outlinewidth": 0,
              "ticks": ""
             }
            },
            "type": "scatterternary"
           }
          ],
          "surface": [
           {
            "colorbar": {
             "outlinewidth": 0,
             "ticks": ""
            },
            "colorscale": [
             [
              0,
              "#0d0887"
             ],
             [
              0.1111111111111111,
              "#46039f"
             ],
             [
              0.2222222222222222,
              "#7201a8"
             ],
             [
              0.3333333333333333,
              "#9c179e"
             ],
             [
              0.4444444444444444,
              "#bd3786"
             ],
             [
              0.5555555555555556,
              "#d8576b"
             ],
             [
              0.6666666666666666,
              "#ed7953"
             ],
             [
              0.7777777777777778,
              "#fb9f3a"
             ],
             [
              0.8888888888888888,
              "#fdca26"
             ],
             [
              1,
              "#f0f921"
             ]
            ],
            "type": "surface"
           }
          ],
          "table": [
           {
            "cells": {
             "fill": {
              "color": "#EBF0F8"
             },
             "line": {
              "color": "white"
             }
            },
            "header": {
             "fill": {
              "color": "#C8D4E3"
             },
             "line": {
              "color": "white"
             }
            },
            "type": "table"
           }
          ]
         },
         "layout": {
          "annotationdefaults": {
           "arrowcolor": "#2a3f5f",
           "arrowhead": 0,
           "arrowwidth": 1
          },
          "coloraxis": {
           "colorbar": {
            "outlinewidth": 0,
            "ticks": ""
           }
          },
          "colorscale": {
           "diverging": [
            [
             0,
             "#8e0152"
            ],
            [
             0.1,
             "#c51b7d"
            ],
            [
             0.2,
             "#de77ae"
            ],
            [
             0.3,
             "#f1b6da"
            ],
            [
             0.4,
             "#fde0ef"
            ],
            [
             0.5,
             "#f7f7f7"
            ],
            [
             0.6,
             "#e6f5d0"
            ],
            [
             0.7,
             "#b8e186"
            ],
            [
             0.8,
             "#7fbc41"
            ],
            [
             0.9,
             "#4d9221"
            ],
            [
             1,
             "#276419"
            ]
           ],
           "sequential": [
            [
             0,
             "#0d0887"
            ],
            [
             0.1111111111111111,
             "#46039f"
            ],
            [
             0.2222222222222222,
             "#7201a8"
            ],
            [
             0.3333333333333333,
             "#9c179e"
            ],
            [
             0.4444444444444444,
             "#bd3786"
            ],
            [
             0.5555555555555556,
             "#d8576b"
            ],
            [
             0.6666666666666666,
             "#ed7953"
            ],
            [
             0.7777777777777778,
             "#fb9f3a"
            ],
            [
             0.8888888888888888,
             "#fdca26"
            ],
            [
             1,
             "#f0f921"
            ]
           ],
           "sequentialminus": [
            [
             0,
             "#0d0887"
            ],
            [
             0.1111111111111111,
             "#46039f"
            ],
            [
             0.2222222222222222,
             "#7201a8"
            ],
            [
             0.3333333333333333,
             "#9c179e"
            ],
            [
             0.4444444444444444,
             "#bd3786"
            ],
            [
             0.5555555555555556,
             "#d8576b"
            ],
            [
             0.6666666666666666,
             "#ed7953"
            ],
            [
             0.7777777777777778,
             "#fb9f3a"
            ],
            [
             0.8888888888888888,
             "#fdca26"
            ],
            [
             1,
             "#f0f921"
            ]
           ]
          },
          "colorway": [
           "#636efa",
           "#EF553B",
           "#00cc96",
           "#ab63fa",
           "#FFA15A",
           "#19d3f3",
           "#FF6692",
           "#B6E880",
           "#FF97FF",
           "#FECB52"
          ],
          "font": {
           "color": "#2a3f5f"
          },
          "geo": {
           "bgcolor": "white",
           "lakecolor": "white",
           "landcolor": "#E5ECF6",
           "showlakes": true,
           "showland": true,
           "subunitcolor": "white"
          },
          "hoverlabel": {
           "align": "left"
          },
          "hovermode": "closest",
          "mapbox": {
           "style": "light"
          },
          "paper_bgcolor": "white",
          "plot_bgcolor": "#E5ECF6",
          "polar": {
           "angularaxis": {
            "gridcolor": "white",
            "linecolor": "white",
            "ticks": ""
           },
           "bgcolor": "#E5ECF6",
           "radialaxis": {
            "gridcolor": "white",
            "linecolor": "white",
            "ticks": ""
           }
          },
          "scene": {
           "xaxis": {
            "backgroundcolor": "#E5ECF6",
            "gridcolor": "white",
            "gridwidth": 2,
            "linecolor": "white",
            "showbackground": true,
            "ticks": "",
            "zerolinecolor": "white"
           },
           "yaxis": {
            "backgroundcolor": "#E5ECF6",
            "gridcolor": "white",
            "gridwidth": 2,
            "linecolor": "white",
            "showbackground": true,
            "ticks": "",
            "zerolinecolor": "white"
           },
           "zaxis": {
            "backgroundcolor": "#E5ECF6",
            "gridcolor": "white",
            "gridwidth": 2,
            "linecolor": "white",
            "showbackground": true,
            "ticks": "",
            "zerolinecolor": "white"
           }
          },
          "shapedefaults": {
           "line": {
            "color": "#2a3f5f"
           }
          },
          "ternary": {
           "aaxis": {
            "gridcolor": "white",
            "linecolor": "white",
            "ticks": ""
           },
           "baxis": {
            "gridcolor": "white",
            "linecolor": "white",
            "ticks": ""
           },
           "bgcolor": "#E5ECF6",
           "caxis": {
            "gridcolor": "white",
            "linecolor": "white",
            "ticks": ""
           }
          },
          "title": {
           "x": 0.05
          },
          "xaxis": {
           "automargin": true,
           "gridcolor": "white",
           "linecolor": "white",
           "ticks": "",
           "title": {
            "standoff": 15
           },
           "zerolinecolor": "white",
           "zerolinewidth": 2
          },
          "yaxis": {
           "automargin": true,
           "gridcolor": "white",
           "linecolor": "white",
           "ticks": "",
           "title": {
            "standoff": 15
           },
           "zerolinecolor": "white",
           "zerolinewidth": 2
          }
         }
        },
        "title": {
         "text": "Job Distribuition"
        }
       }
      },
      "text/html": [
       "<div>\n",
       "        \n",
       "        \n",
       "            <div id=\"e5f49afe-261d-4522-96c9-44f09ae5567f\" class=\"plotly-graph-div\" style=\"height:525px; width:100%;\"></div>\n",
       "            <script type=\"text/javascript\">\n",
       "                require([\"plotly\"], function(Plotly) {\n",
       "                    window.PLOTLYENV=window.PLOTLYENV || {};\n",
       "                    \n",
       "                if (document.getElementById(\"e5f49afe-261d-4522-96c9-44f09ae5567f\")) {\n",
       "                    Plotly.newPlot(\n",
       "                        'e5f49afe-261d-4522-96c9-44f09ae5567f',\n",
       "                        [{\"name\": \"Good credit Distribuition\", \"type\": \"bar\", \"x\": [\"A173\", \"A172\", \"A174\", \"A171\"], \"y\": [444, 144, 97, 15]}, {\"name\": \"Bad Credit Distribuition\", \"type\": \"bar\", \"x\": [\"A173\", \"A172\", \"A174\", \"A171\"], \"y\": [186, 56, 51, 7]}],\n",
       "                        {\"template\": {\"data\": {\"bar\": [{\"error_x\": {\"color\": \"#2a3f5f\"}, \"error_y\": {\"color\": \"#2a3f5f\"}, \"marker\": {\"line\": {\"color\": \"#E5ECF6\", \"width\": 0.5}}, \"type\": \"bar\"}], \"barpolar\": [{\"marker\": {\"line\": {\"color\": \"#E5ECF6\", \"width\": 0.5}}, \"type\": \"barpolar\"}], \"carpet\": [{\"aaxis\": {\"endlinecolor\": \"#2a3f5f\", \"gridcolor\": \"white\", \"linecolor\": \"white\", \"minorgridcolor\": \"white\", \"startlinecolor\": \"#2a3f5f\"}, \"baxis\": {\"endlinecolor\": \"#2a3f5f\", \"gridcolor\": \"white\", \"linecolor\": \"white\", \"minorgridcolor\": \"white\", \"startlinecolor\": \"#2a3f5f\"}, \"type\": \"carpet\"}], \"choropleth\": [{\"colorbar\": {\"outlinewidth\": 0, \"ticks\": \"\"}, \"type\": \"choropleth\"}], \"contour\": [{\"colorbar\": {\"outlinewidth\": 0, \"ticks\": \"\"}, \"colorscale\": [[0.0, \"#0d0887\"], [0.1111111111111111, \"#46039f\"], [0.2222222222222222, \"#7201a8\"], [0.3333333333333333, \"#9c179e\"], [0.4444444444444444, \"#bd3786\"], [0.5555555555555556, \"#d8576b\"], [0.6666666666666666, \"#ed7953\"], [0.7777777777777778, \"#fb9f3a\"], [0.8888888888888888, \"#fdca26\"], [1.0, \"#f0f921\"]], \"type\": \"contour\"}], \"contourcarpet\": [{\"colorbar\": {\"outlinewidth\": 0, \"ticks\": \"\"}, \"type\": \"contourcarpet\"}], \"heatmap\": [{\"colorbar\": {\"outlinewidth\": 0, \"ticks\": \"\"}, \"colorscale\": [[0.0, \"#0d0887\"], [0.1111111111111111, \"#46039f\"], [0.2222222222222222, \"#7201a8\"], [0.3333333333333333, \"#9c179e\"], [0.4444444444444444, \"#bd3786\"], [0.5555555555555556, \"#d8576b\"], [0.6666666666666666, \"#ed7953\"], [0.7777777777777778, \"#fb9f3a\"], [0.8888888888888888, \"#fdca26\"], [1.0, \"#f0f921\"]], \"type\": \"heatmap\"}], \"heatmapgl\": [{\"colorbar\": {\"outlinewidth\": 0, \"ticks\": \"\"}, \"colorscale\": [[0.0, \"#0d0887\"], [0.1111111111111111, \"#46039f\"], [0.2222222222222222, \"#7201a8\"], [0.3333333333333333, \"#9c179e\"], [0.4444444444444444, \"#bd3786\"], [0.5555555555555556, \"#d8576b\"], [0.6666666666666666, \"#ed7953\"], [0.7777777777777778, \"#fb9f3a\"], [0.8888888888888888, \"#fdca26\"], [1.0, \"#f0f921\"]], \"type\": \"heatmapgl\"}], \"histogram\": [{\"marker\": {\"colorbar\": {\"outlinewidth\": 0, \"ticks\": \"\"}}, \"type\": \"histogram\"}], \"histogram2d\": [{\"colorbar\": {\"outlinewidth\": 0, \"ticks\": \"\"}, \"colorscale\": [[0.0, \"#0d0887\"], [0.1111111111111111, \"#46039f\"], [0.2222222222222222, \"#7201a8\"], [0.3333333333333333, \"#9c179e\"], [0.4444444444444444, \"#bd3786\"], [0.5555555555555556, \"#d8576b\"], [0.6666666666666666, \"#ed7953\"], [0.7777777777777778, \"#fb9f3a\"], [0.8888888888888888, \"#fdca26\"], [1.0, \"#f0f921\"]], \"type\": \"histogram2d\"}], \"histogram2dcontour\": [{\"colorbar\": {\"outlinewidth\": 0, \"ticks\": \"\"}, \"colorscale\": [[0.0, \"#0d0887\"], [0.1111111111111111, \"#46039f\"], [0.2222222222222222, \"#7201a8\"], [0.3333333333333333, \"#9c179e\"], [0.4444444444444444, \"#bd3786\"], [0.5555555555555556, \"#d8576b\"], [0.6666666666666666, \"#ed7953\"], [0.7777777777777778, \"#fb9f3a\"], [0.8888888888888888, \"#fdca26\"], [1.0, \"#f0f921\"]], \"type\": \"histogram2dcontour\"}], \"mesh3d\": [{\"colorbar\": {\"outlinewidth\": 0, \"ticks\": \"\"}, \"type\": \"mesh3d\"}], \"parcoords\": [{\"line\": {\"colorbar\": {\"outlinewidth\": 0, \"ticks\": \"\"}}, \"type\": \"parcoords\"}], \"pie\": [{\"automargin\": true, \"type\": \"pie\"}], \"scatter\": [{\"marker\": {\"colorbar\": {\"outlinewidth\": 0, \"ticks\": \"\"}}, \"type\": \"scatter\"}], \"scatter3d\": [{\"line\": {\"colorbar\": {\"outlinewidth\": 0, \"ticks\": \"\"}}, \"marker\": {\"colorbar\": {\"outlinewidth\": 0, \"ticks\": \"\"}}, \"type\": \"scatter3d\"}], \"scattercarpet\": [{\"marker\": {\"colorbar\": {\"outlinewidth\": 0, \"ticks\": \"\"}}, \"type\": \"scattercarpet\"}], \"scattergeo\": [{\"marker\": {\"colorbar\": {\"outlinewidth\": 0, \"ticks\": \"\"}}, \"type\": \"scattergeo\"}], \"scattergl\": [{\"marker\": {\"colorbar\": {\"outlinewidth\": 0, \"ticks\": \"\"}}, \"type\": \"scattergl\"}], \"scattermapbox\": [{\"marker\": {\"colorbar\": {\"outlinewidth\": 0, \"ticks\": \"\"}}, \"type\": \"scattermapbox\"}], \"scatterpolar\": [{\"marker\": {\"colorbar\": {\"outlinewidth\": 0, \"ticks\": \"\"}}, \"type\": \"scatterpolar\"}], \"scatterpolargl\": [{\"marker\": {\"colorbar\": {\"outlinewidth\": 0, \"ticks\": \"\"}}, \"type\": \"scatterpolargl\"}], \"scatterternary\": [{\"marker\": {\"colorbar\": {\"outlinewidth\": 0, \"ticks\": \"\"}}, \"type\": \"scatterternary\"}], \"surface\": [{\"colorbar\": {\"outlinewidth\": 0, \"ticks\": \"\"}, \"colorscale\": [[0.0, \"#0d0887\"], [0.1111111111111111, \"#46039f\"], [0.2222222222222222, \"#7201a8\"], [0.3333333333333333, \"#9c179e\"], [0.4444444444444444, \"#bd3786\"], [0.5555555555555556, \"#d8576b\"], [0.6666666666666666, \"#ed7953\"], [0.7777777777777778, \"#fb9f3a\"], [0.8888888888888888, \"#fdca26\"], [1.0, \"#f0f921\"]], \"type\": \"surface\"}], \"table\": [{\"cells\": {\"fill\": {\"color\": \"#EBF0F8\"}, \"line\": {\"color\": \"white\"}}, \"header\": {\"fill\": {\"color\": \"#C8D4E3\"}, \"line\": {\"color\": \"white\"}}, \"type\": \"table\"}]}, \"layout\": {\"annotationdefaults\": {\"arrowcolor\": \"#2a3f5f\", \"arrowhead\": 0, \"arrowwidth\": 1}, \"coloraxis\": {\"colorbar\": {\"outlinewidth\": 0, \"ticks\": \"\"}}, \"colorscale\": {\"diverging\": [[0, \"#8e0152\"], [0.1, \"#c51b7d\"], [0.2, \"#de77ae\"], [0.3, \"#f1b6da\"], [0.4, \"#fde0ef\"], [0.5, \"#f7f7f7\"], [0.6, \"#e6f5d0\"], [0.7, \"#b8e186\"], [0.8, \"#7fbc41\"], [0.9, \"#4d9221\"], [1, \"#276419\"]], \"sequential\": [[0.0, \"#0d0887\"], [0.1111111111111111, \"#46039f\"], [0.2222222222222222, \"#7201a8\"], [0.3333333333333333, \"#9c179e\"], [0.4444444444444444, \"#bd3786\"], [0.5555555555555556, \"#d8576b\"], [0.6666666666666666, \"#ed7953\"], [0.7777777777777778, \"#fb9f3a\"], [0.8888888888888888, \"#fdca26\"], [1.0, \"#f0f921\"]], \"sequentialminus\": [[0.0, \"#0d0887\"], [0.1111111111111111, \"#46039f\"], [0.2222222222222222, \"#7201a8\"], [0.3333333333333333, \"#9c179e\"], [0.4444444444444444, \"#bd3786\"], [0.5555555555555556, \"#d8576b\"], [0.6666666666666666, \"#ed7953\"], [0.7777777777777778, \"#fb9f3a\"], [0.8888888888888888, \"#fdca26\"], [1.0, \"#f0f921\"]]}, \"colorway\": [\"#636efa\", \"#EF553B\", \"#00cc96\", \"#ab63fa\", \"#FFA15A\", \"#19d3f3\", \"#FF6692\", \"#B6E880\", \"#FF97FF\", \"#FECB52\"], \"font\": {\"color\": \"#2a3f5f\"}, \"geo\": {\"bgcolor\": \"white\", \"lakecolor\": \"white\", \"landcolor\": \"#E5ECF6\", \"showlakes\": true, \"showland\": true, \"subunitcolor\": \"white\"}, \"hoverlabel\": {\"align\": \"left\"}, \"hovermode\": \"closest\", \"mapbox\": {\"style\": \"light\"}, \"paper_bgcolor\": \"white\", \"plot_bgcolor\": \"#E5ECF6\", \"polar\": {\"angularaxis\": {\"gridcolor\": \"white\", \"linecolor\": \"white\", \"ticks\": \"\"}, \"bgcolor\": \"#E5ECF6\", \"radialaxis\": {\"gridcolor\": \"white\", \"linecolor\": \"white\", \"ticks\": \"\"}}, \"scene\": {\"xaxis\": {\"backgroundcolor\": \"#E5ECF6\", \"gridcolor\": \"white\", \"gridwidth\": 2, \"linecolor\": \"white\", \"showbackground\": true, \"ticks\": \"\", \"zerolinecolor\": \"white\"}, \"yaxis\": {\"backgroundcolor\": \"#E5ECF6\", \"gridcolor\": \"white\", \"gridwidth\": 2, \"linecolor\": \"white\", \"showbackground\": true, \"ticks\": \"\", \"zerolinecolor\": \"white\"}, \"zaxis\": {\"backgroundcolor\": \"#E5ECF6\", \"gridcolor\": \"white\", \"gridwidth\": 2, \"linecolor\": \"white\", \"showbackground\": true, \"ticks\": \"\", \"zerolinecolor\": \"white\"}}, \"shapedefaults\": {\"line\": {\"color\": \"#2a3f5f\"}}, \"ternary\": {\"aaxis\": {\"gridcolor\": \"white\", \"linecolor\": \"white\", \"ticks\": \"\"}, \"baxis\": {\"gridcolor\": \"white\", \"linecolor\": \"white\", \"ticks\": \"\"}, \"bgcolor\": \"#E5ECF6\", \"caxis\": {\"gridcolor\": \"white\", \"linecolor\": \"white\", \"ticks\": \"\"}}, \"title\": {\"x\": 0.05}, \"xaxis\": {\"automargin\": true, \"gridcolor\": \"white\", \"linecolor\": \"white\", \"ticks\": \"\", \"title\": {\"standoff\": 15}, \"zerolinecolor\": \"white\", \"zerolinewidth\": 2}, \"yaxis\": {\"automargin\": true, \"gridcolor\": \"white\", \"linecolor\": \"white\", \"ticks\": \"\", \"title\": {\"standoff\": 15}, \"zerolinecolor\": \"white\", \"zerolinewidth\": 2}}}, \"title\": {\"text\": \"Job Distribuition\"}},\n",
       "                        {\"responsive\": true}\n",
       "                    ).then(function(){\n",
       "                            \n",
       "var gd = document.getElementById('e5f49afe-261d-4522-96c9-44f09ae5567f');\n",
       "var x = new MutationObserver(function (mutations, observer) {{\n",
       "        var display = window.getComputedStyle(gd).display;\n",
       "        if (!display || display === 'none') {{\n",
       "            console.log([gd, 'removed!']);\n",
       "            Plotly.purge(gd);\n",
       "            observer.disconnect();\n",
       "        }}\n",
       "}});\n",
       "\n",
       "// Listen for the removal of the full notebook cells\n",
       "var notebookContainer = gd.closest('#notebook-container');\n",
       "if (notebookContainer) {{\n",
       "    x.observe(notebookContainer, {childList: true});\n",
       "}}\n",
       "\n",
       "// Listen for the clearing of the current output cell\n",
       "var outputEl = gd.closest('.output');\n",
       "if (outputEl) {{\n",
       "    x.observe(outputEl, {childList: true});\n",
       "}}\n",
       "\n",
       "                        })\n",
       "                };\n",
       "                });\n",
       "            </script>\n",
       "        </div>"
      ]
     },
     "metadata": {},
     "output_type": "display_data"
    }
   ],
   "source": [
    "trace0 = go.Bar(\n",
    "    x = df[df[\"Class\"]== 1][\"Job\"].value_counts().index.values,\n",
    "    y = df[df[\"Class\"]== 1][\"Job\"].value_counts().values,\n",
    "    name='Good credit Distribuition'\n",
    ")\n",
    "\n",
    "#Second plot\n",
    "trace1 = go.Bar(\n",
    "    x = df[df[\"Class\"]== 2][\"Job\"].value_counts().index.values,\n",
    "    y = df[df[\"Class\"]== 2][\"Job\"].value_counts().values,\n",
    "    name=\"Bad Credit Distribuition\"\n",
    ")\n",
    "\n",
    "data = [trace0, trace1]\n",
    "\n",
    "layout = go.Layout(\n",
    "    title='Job Distribuition'\n",
    ")\n",
    "\n",
    "fig = go.Figure(data=data, layout=layout)\n",
    "\n",
    "py.iplot(fig, filename='grouped-bar')"
   ]
  },
  {
   "cell_type": "code",
   "execution_count": null,
   "metadata": {},
   "outputs": [],
   "source": [
    "\n"
   ]
  },
  {
   "cell_type": "code",
   "execution_count": 14,
   "metadata": {},
   "outputs": [
    {
     "data": {
      "application/vnd.plotly.v1+json": {
       "config": {
        "linkText": "Export to plot.ly",
        "plotlyServerURL": "https://plot.ly",
        "showLink": false
       },
       "data": [
        {
         "name": "Good credit Distribution",
         "type": "bar",
         "x": [
          "A14",
          "A12",
          "A11",
          "A13"
         ],
         "y": [
          348,
          164,
          139,
          49
         ]
        },
        {
         "name": "Bad Credit Distribution",
         "type": "bar",
         "x": [
          "A11",
          "A12",
          "A14",
          "A13"
         ],
         "y": [
          135,
          105,
          46,
          14
         ]
        }
       ],
       "layout": {
        "barmode": "group",
        "template": {
         "data": {
          "bar": [
           {
            "error_x": {
             "color": "#2a3f5f"
            },
            "error_y": {
             "color": "#2a3f5f"
            },
            "marker": {
             "line": {
              "color": "#E5ECF6",
              "width": 0.5
             }
            },
            "type": "bar"
           }
          ],
          "barpolar": [
           {
            "marker": {
             "line": {
              "color": "#E5ECF6",
              "width": 0.5
             }
            },
            "type": "barpolar"
           }
          ],
          "carpet": [
           {
            "aaxis": {
             "endlinecolor": "#2a3f5f",
             "gridcolor": "white",
             "linecolor": "white",
             "minorgridcolor": "white",
             "startlinecolor": "#2a3f5f"
            },
            "baxis": {
             "endlinecolor": "#2a3f5f",
             "gridcolor": "white",
             "linecolor": "white",
             "minorgridcolor": "white",
             "startlinecolor": "#2a3f5f"
            },
            "type": "carpet"
           }
          ],
          "choropleth": [
           {
            "colorbar": {
             "outlinewidth": 0,
             "ticks": ""
            },
            "type": "choropleth"
           }
          ],
          "contour": [
           {
            "colorbar": {
             "outlinewidth": 0,
             "ticks": ""
            },
            "colorscale": [
             [
              0,
              "#0d0887"
             ],
             [
              0.1111111111111111,
              "#46039f"
             ],
             [
              0.2222222222222222,
              "#7201a8"
             ],
             [
              0.3333333333333333,
              "#9c179e"
             ],
             [
              0.4444444444444444,
              "#bd3786"
             ],
             [
              0.5555555555555556,
              "#d8576b"
             ],
             [
              0.6666666666666666,
              "#ed7953"
             ],
             [
              0.7777777777777778,
              "#fb9f3a"
             ],
             [
              0.8888888888888888,
              "#fdca26"
             ],
             [
              1,
              "#f0f921"
             ]
            ],
            "type": "contour"
           }
          ],
          "contourcarpet": [
           {
            "colorbar": {
             "outlinewidth": 0,
             "ticks": ""
            },
            "type": "contourcarpet"
           }
          ],
          "heatmap": [
           {
            "colorbar": {
             "outlinewidth": 0,
             "ticks": ""
            },
            "colorscale": [
             [
              0,
              "#0d0887"
             ],
             [
              0.1111111111111111,
              "#46039f"
             ],
             [
              0.2222222222222222,
              "#7201a8"
             ],
             [
              0.3333333333333333,
              "#9c179e"
             ],
             [
              0.4444444444444444,
              "#bd3786"
             ],
             [
              0.5555555555555556,
              "#d8576b"
             ],
             [
              0.6666666666666666,
              "#ed7953"
             ],
             [
              0.7777777777777778,
              "#fb9f3a"
             ],
             [
              0.8888888888888888,
              "#fdca26"
             ],
             [
              1,
              "#f0f921"
             ]
            ],
            "type": "heatmap"
           }
          ],
          "heatmapgl": [
           {
            "colorbar": {
             "outlinewidth": 0,
             "ticks": ""
            },
            "colorscale": [
             [
              0,
              "#0d0887"
             ],
             [
              0.1111111111111111,
              "#46039f"
             ],
             [
              0.2222222222222222,
              "#7201a8"
             ],
             [
              0.3333333333333333,
              "#9c179e"
             ],
             [
              0.4444444444444444,
              "#bd3786"
             ],
             [
              0.5555555555555556,
              "#d8576b"
             ],
             [
              0.6666666666666666,
              "#ed7953"
             ],
             [
              0.7777777777777778,
              "#fb9f3a"
             ],
             [
              0.8888888888888888,
              "#fdca26"
             ],
             [
              1,
              "#f0f921"
             ]
            ],
            "type": "heatmapgl"
           }
          ],
          "histogram": [
           {
            "marker": {
             "colorbar": {
              "outlinewidth": 0,
              "ticks": ""
             }
            },
            "type": "histogram"
           }
          ],
          "histogram2d": [
           {
            "colorbar": {
             "outlinewidth": 0,
             "ticks": ""
            },
            "colorscale": [
             [
              0,
              "#0d0887"
             ],
             [
              0.1111111111111111,
              "#46039f"
             ],
             [
              0.2222222222222222,
              "#7201a8"
             ],
             [
              0.3333333333333333,
              "#9c179e"
             ],
             [
              0.4444444444444444,
              "#bd3786"
             ],
             [
              0.5555555555555556,
              "#d8576b"
             ],
             [
              0.6666666666666666,
              "#ed7953"
             ],
             [
              0.7777777777777778,
              "#fb9f3a"
             ],
             [
              0.8888888888888888,
              "#fdca26"
             ],
             [
              1,
              "#f0f921"
             ]
            ],
            "type": "histogram2d"
           }
          ],
          "histogram2dcontour": [
           {
            "colorbar": {
             "outlinewidth": 0,
             "ticks": ""
            },
            "colorscale": [
             [
              0,
              "#0d0887"
             ],
             [
              0.1111111111111111,
              "#46039f"
             ],
             [
              0.2222222222222222,
              "#7201a8"
             ],
             [
              0.3333333333333333,
              "#9c179e"
             ],
             [
              0.4444444444444444,
              "#bd3786"
             ],
             [
              0.5555555555555556,
              "#d8576b"
             ],
             [
              0.6666666666666666,
              "#ed7953"
             ],
             [
              0.7777777777777778,
              "#fb9f3a"
             ],
             [
              0.8888888888888888,
              "#fdca26"
             ],
             [
              1,
              "#f0f921"
             ]
            ],
            "type": "histogram2dcontour"
           }
          ],
          "mesh3d": [
           {
            "colorbar": {
             "outlinewidth": 0,
             "ticks": ""
            },
            "type": "mesh3d"
           }
          ],
          "parcoords": [
           {
            "line": {
             "colorbar": {
              "outlinewidth": 0,
              "ticks": ""
             }
            },
            "type": "parcoords"
           }
          ],
          "pie": [
           {
            "automargin": true,
            "type": "pie"
           }
          ],
          "scatter": [
           {
            "marker": {
             "colorbar": {
              "outlinewidth": 0,
              "ticks": ""
             }
            },
            "type": "scatter"
           }
          ],
          "scatter3d": [
           {
            "line": {
             "colorbar": {
              "outlinewidth": 0,
              "ticks": ""
             }
            },
            "marker": {
             "colorbar": {
              "outlinewidth": 0,
              "ticks": ""
             }
            },
            "type": "scatter3d"
           }
          ],
          "scattercarpet": [
           {
            "marker": {
             "colorbar": {
              "outlinewidth": 0,
              "ticks": ""
             }
            },
            "type": "scattercarpet"
           }
          ],
          "scattergeo": [
           {
            "marker": {
             "colorbar": {
              "outlinewidth": 0,
              "ticks": ""
             }
            },
            "type": "scattergeo"
           }
          ],
          "scattergl": [
           {
            "marker": {
             "colorbar": {
              "outlinewidth": 0,
              "ticks": ""
             }
            },
            "type": "scattergl"
           }
          ],
          "scattermapbox": [
           {
            "marker": {
             "colorbar": {
              "outlinewidth": 0,
              "ticks": ""
             }
            },
            "type": "scattermapbox"
           }
          ],
          "scatterpolar": [
           {
            "marker": {
             "colorbar": {
              "outlinewidth": 0,
              "ticks": ""
             }
            },
            "type": "scatterpolar"
           }
          ],
          "scatterpolargl": [
           {
            "marker": {
             "colorbar": {
              "outlinewidth": 0,
              "ticks": ""
             }
            },
            "type": "scatterpolargl"
           }
          ],
          "scatterternary": [
           {
            "marker": {
             "colorbar": {
              "outlinewidth": 0,
              "ticks": ""
             }
            },
            "type": "scatterternary"
           }
          ],
          "surface": [
           {
            "colorbar": {
             "outlinewidth": 0,
             "ticks": ""
            },
            "colorscale": [
             [
              0,
              "#0d0887"
             ],
             [
              0.1111111111111111,
              "#46039f"
             ],
             [
              0.2222222222222222,
              "#7201a8"
             ],
             [
              0.3333333333333333,
              "#9c179e"
             ],
             [
              0.4444444444444444,
              "#bd3786"
             ],
             [
              0.5555555555555556,
              "#d8576b"
             ],
             [
              0.6666666666666666,
              "#ed7953"
             ],
             [
              0.7777777777777778,
              "#fb9f3a"
             ],
             [
              0.8888888888888888,
              "#fdca26"
             ],
             [
              1,
              "#f0f921"
             ]
            ],
            "type": "surface"
           }
          ],
          "table": [
           {
            "cells": {
             "fill": {
              "color": "#EBF0F8"
             },
             "line": {
              "color": "white"
             }
            },
            "header": {
             "fill": {
              "color": "#C8D4E3"
             },
             "line": {
              "color": "white"
             }
            },
            "type": "table"
           }
          ]
         },
         "layout": {
          "annotationdefaults": {
           "arrowcolor": "#2a3f5f",
           "arrowhead": 0,
           "arrowwidth": 1
          },
          "coloraxis": {
           "colorbar": {
            "outlinewidth": 0,
            "ticks": ""
           }
          },
          "colorscale": {
           "diverging": [
            [
             0,
             "#8e0152"
            ],
            [
             0.1,
             "#c51b7d"
            ],
            [
             0.2,
             "#de77ae"
            ],
            [
             0.3,
             "#f1b6da"
            ],
            [
             0.4,
             "#fde0ef"
            ],
            [
             0.5,
             "#f7f7f7"
            ],
            [
             0.6,
             "#e6f5d0"
            ],
            [
             0.7,
             "#b8e186"
            ],
            [
             0.8,
             "#7fbc41"
            ],
            [
             0.9,
             "#4d9221"
            ],
            [
             1,
             "#276419"
            ]
           ],
           "sequential": [
            [
             0,
             "#0d0887"
            ],
            [
             0.1111111111111111,
             "#46039f"
            ],
            [
             0.2222222222222222,
             "#7201a8"
            ],
            [
             0.3333333333333333,
             "#9c179e"
            ],
            [
             0.4444444444444444,
             "#bd3786"
            ],
            [
             0.5555555555555556,
             "#d8576b"
            ],
            [
             0.6666666666666666,
             "#ed7953"
            ],
            [
             0.7777777777777778,
             "#fb9f3a"
            ],
            [
             0.8888888888888888,
             "#fdca26"
            ],
            [
             1,
             "#f0f921"
            ]
           ],
           "sequentialminus": [
            [
             0,
             "#0d0887"
            ],
            [
             0.1111111111111111,
             "#46039f"
            ],
            [
             0.2222222222222222,
             "#7201a8"
            ],
            [
             0.3333333333333333,
             "#9c179e"
            ],
            [
             0.4444444444444444,
             "#bd3786"
            ],
            [
             0.5555555555555556,
             "#d8576b"
            ],
            [
             0.6666666666666666,
             "#ed7953"
            ],
            [
             0.7777777777777778,
             "#fb9f3a"
            ],
            [
             0.8888888888888888,
             "#fdca26"
            ],
            [
             1,
             "#f0f921"
            ]
           ]
          },
          "colorway": [
           "#636efa",
           "#EF553B",
           "#00cc96",
           "#ab63fa",
           "#FFA15A",
           "#19d3f3",
           "#FF6692",
           "#B6E880",
           "#FF97FF",
           "#FECB52"
          ],
          "font": {
           "color": "#2a3f5f"
          },
          "geo": {
           "bgcolor": "white",
           "lakecolor": "white",
           "landcolor": "#E5ECF6",
           "showlakes": true,
           "showland": true,
           "subunitcolor": "white"
          },
          "hoverlabel": {
           "align": "left"
          },
          "hovermode": "closest",
          "mapbox": {
           "style": "light"
          },
          "paper_bgcolor": "white",
          "plot_bgcolor": "#E5ECF6",
          "polar": {
           "angularaxis": {
            "gridcolor": "white",
            "linecolor": "white",
            "ticks": ""
           },
           "bgcolor": "#E5ECF6",
           "radialaxis": {
            "gridcolor": "white",
            "linecolor": "white",
            "ticks": ""
           }
          },
          "scene": {
           "xaxis": {
            "backgroundcolor": "#E5ECF6",
            "gridcolor": "white",
            "gridwidth": 2,
            "linecolor": "white",
            "showbackground": true,
            "ticks": "",
            "zerolinecolor": "white"
           },
           "yaxis": {
            "backgroundcolor": "#E5ECF6",
            "gridcolor": "white",
            "gridwidth": 2,
            "linecolor": "white",
            "showbackground": true,
            "ticks": "",
            "zerolinecolor": "white"
           },
           "zaxis": {
            "backgroundcolor": "#E5ECF6",
            "gridcolor": "white",
            "gridwidth": 2,
            "linecolor": "white",
            "showbackground": true,
            "ticks": "",
            "zerolinecolor": "white"
           }
          },
          "shapedefaults": {
           "line": {
            "color": "#2a3f5f"
           }
          },
          "ternary": {
           "aaxis": {
            "gridcolor": "white",
            "linecolor": "white",
            "ticks": ""
           },
           "baxis": {
            "gridcolor": "white",
            "linecolor": "white",
            "ticks": ""
           },
           "bgcolor": "#E5ECF6",
           "caxis": {
            "gridcolor": "white",
            "linecolor": "white",
            "ticks": ""
           }
          },
          "title": {
           "x": 0.05
          },
          "xaxis": {
           "automargin": true,
           "gridcolor": "white",
           "linecolor": "white",
           "ticks": "",
           "title": {
            "standoff": 15
           },
           "zerolinecolor": "white",
           "zerolinewidth": 2
          },
          "yaxis": {
           "automargin": true,
           "gridcolor": "white",
           "linecolor": "white",
           "ticks": "",
           "title": {
            "standoff": 15
           },
           "zerolinecolor": "white",
           "zerolinewidth": 2
          }
         }
        },
        "title": {
         "text": "Checking accounts Distribuition"
        },
        "xaxis": {
         "title": {
          "text": "Checking accounts name"
         }
        },
        "yaxis": {
         "title": {
          "text": "Count"
         }
        }
       }
      },
      "text/html": [
       "<div>\n",
       "        \n",
       "        \n",
       "            <div id=\"695373ab-71bd-4cd3-9e5c-7742bc766797\" class=\"plotly-graph-div\" style=\"height:525px; width:100%;\"></div>\n",
       "            <script type=\"text/javascript\">\n",
       "                require([\"plotly\"], function(Plotly) {\n",
       "                    window.PLOTLYENV=window.PLOTLYENV || {};\n",
       "                    \n",
       "                if (document.getElementById(\"695373ab-71bd-4cd3-9e5c-7742bc766797\")) {\n",
       "                    Plotly.newPlot(\n",
       "                        '695373ab-71bd-4cd3-9e5c-7742bc766797',\n",
       "                        [{\"name\": \"Good credit Distribution\", \"type\": \"bar\", \"x\": [\"A14\", \"A12\", \"A11\", \"A13\"], \"y\": [348, 164, 139, 49]}, {\"name\": \"Bad Credit Distribution\", \"type\": \"bar\", \"x\": [\"A11\", \"A12\", \"A14\", \"A13\"], \"y\": [135, 105, 46, 14]}],\n",
       "                        {\"barmode\": \"group\", \"template\": {\"data\": {\"bar\": [{\"error_x\": {\"color\": \"#2a3f5f\"}, \"error_y\": {\"color\": \"#2a3f5f\"}, \"marker\": {\"line\": {\"color\": \"#E5ECF6\", \"width\": 0.5}}, \"type\": \"bar\"}], \"barpolar\": [{\"marker\": {\"line\": {\"color\": \"#E5ECF6\", \"width\": 0.5}}, \"type\": \"barpolar\"}], \"carpet\": [{\"aaxis\": {\"endlinecolor\": \"#2a3f5f\", \"gridcolor\": \"white\", \"linecolor\": \"white\", \"minorgridcolor\": \"white\", \"startlinecolor\": \"#2a3f5f\"}, \"baxis\": {\"endlinecolor\": \"#2a3f5f\", \"gridcolor\": \"white\", \"linecolor\": \"white\", \"minorgridcolor\": \"white\", \"startlinecolor\": \"#2a3f5f\"}, \"type\": \"carpet\"}], \"choropleth\": [{\"colorbar\": {\"outlinewidth\": 0, \"ticks\": \"\"}, \"type\": \"choropleth\"}], \"contour\": [{\"colorbar\": {\"outlinewidth\": 0, \"ticks\": \"\"}, \"colorscale\": [[0.0, \"#0d0887\"], [0.1111111111111111, \"#46039f\"], [0.2222222222222222, \"#7201a8\"], [0.3333333333333333, \"#9c179e\"], [0.4444444444444444, \"#bd3786\"], [0.5555555555555556, \"#d8576b\"], [0.6666666666666666, \"#ed7953\"], [0.7777777777777778, \"#fb9f3a\"], [0.8888888888888888, \"#fdca26\"], [1.0, \"#f0f921\"]], \"type\": \"contour\"}], \"contourcarpet\": [{\"colorbar\": {\"outlinewidth\": 0, \"ticks\": \"\"}, \"type\": \"contourcarpet\"}], \"heatmap\": [{\"colorbar\": {\"outlinewidth\": 0, \"ticks\": \"\"}, \"colorscale\": [[0.0, \"#0d0887\"], [0.1111111111111111, \"#46039f\"], [0.2222222222222222, \"#7201a8\"], [0.3333333333333333, \"#9c179e\"], [0.4444444444444444, \"#bd3786\"], [0.5555555555555556, \"#d8576b\"], [0.6666666666666666, \"#ed7953\"], [0.7777777777777778, \"#fb9f3a\"], [0.8888888888888888, \"#fdca26\"], [1.0, \"#f0f921\"]], \"type\": \"heatmap\"}], \"heatmapgl\": [{\"colorbar\": {\"outlinewidth\": 0, \"ticks\": \"\"}, \"colorscale\": [[0.0, \"#0d0887\"], [0.1111111111111111, \"#46039f\"], [0.2222222222222222, \"#7201a8\"], [0.3333333333333333, \"#9c179e\"], [0.4444444444444444, \"#bd3786\"], [0.5555555555555556, \"#d8576b\"], [0.6666666666666666, \"#ed7953\"], [0.7777777777777778, \"#fb9f3a\"], [0.8888888888888888, \"#fdca26\"], [1.0, \"#f0f921\"]], \"type\": \"heatmapgl\"}], \"histogram\": [{\"marker\": {\"colorbar\": {\"outlinewidth\": 0, \"ticks\": \"\"}}, \"type\": \"histogram\"}], \"histogram2d\": [{\"colorbar\": {\"outlinewidth\": 0, \"ticks\": \"\"}, \"colorscale\": [[0.0, \"#0d0887\"], [0.1111111111111111, \"#46039f\"], [0.2222222222222222, \"#7201a8\"], [0.3333333333333333, \"#9c179e\"], [0.4444444444444444, \"#bd3786\"], [0.5555555555555556, \"#d8576b\"], [0.6666666666666666, \"#ed7953\"], [0.7777777777777778, \"#fb9f3a\"], [0.8888888888888888, \"#fdca26\"], [1.0, \"#f0f921\"]], \"type\": \"histogram2d\"}], \"histogram2dcontour\": [{\"colorbar\": {\"outlinewidth\": 0, \"ticks\": \"\"}, \"colorscale\": [[0.0, \"#0d0887\"], [0.1111111111111111, \"#46039f\"], [0.2222222222222222, \"#7201a8\"], [0.3333333333333333, \"#9c179e\"], [0.4444444444444444, \"#bd3786\"], [0.5555555555555556, \"#d8576b\"], [0.6666666666666666, \"#ed7953\"], [0.7777777777777778, \"#fb9f3a\"], [0.8888888888888888, \"#fdca26\"], [1.0, \"#f0f921\"]], \"type\": \"histogram2dcontour\"}], \"mesh3d\": [{\"colorbar\": {\"outlinewidth\": 0, \"ticks\": \"\"}, \"type\": \"mesh3d\"}], \"parcoords\": [{\"line\": {\"colorbar\": {\"outlinewidth\": 0, \"ticks\": \"\"}}, \"type\": \"parcoords\"}], \"pie\": [{\"automargin\": true, \"type\": \"pie\"}], \"scatter\": [{\"marker\": {\"colorbar\": {\"outlinewidth\": 0, \"ticks\": \"\"}}, \"type\": \"scatter\"}], \"scatter3d\": [{\"line\": {\"colorbar\": {\"outlinewidth\": 0, \"ticks\": \"\"}}, \"marker\": {\"colorbar\": {\"outlinewidth\": 0, \"ticks\": \"\"}}, \"type\": \"scatter3d\"}], \"scattercarpet\": [{\"marker\": {\"colorbar\": {\"outlinewidth\": 0, \"ticks\": \"\"}}, \"type\": \"scattercarpet\"}], \"scattergeo\": [{\"marker\": {\"colorbar\": {\"outlinewidth\": 0, \"ticks\": \"\"}}, \"type\": \"scattergeo\"}], \"scattergl\": [{\"marker\": {\"colorbar\": {\"outlinewidth\": 0, \"ticks\": \"\"}}, \"type\": \"scattergl\"}], \"scattermapbox\": [{\"marker\": {\"colorbar\": {\"outlinewidth\": 0, \"ticks\": \"\"}}, \"type\": \"scattermapbox\"}], \"scatterpolar\": [{\"marker\": {\"colorbar\": {\"outlinewidth\": 0, \"ticks\": \"\"}}, \"type\": \"scatterpolar\"}], \"scatterpolargl\": [{\"marker\": {\"colorbar\": {\"outlinewidth\": 0, \"ticks\": \"\"}}, \"type\": \"scatterpolargl\"}], \"scatterternary\": [{\"marker\": {\"colorbar\": {\"outlinewidth\": 0, \"ticks\": \"\"}}, \"type\": \"scatterternary\"}], \"surface\": [{\"colorbar\": {\"outlinewidth\": 0, \"ticks\": \"\"}, \"colorscale\": [[0.0, \"#0d0887\"], [0.1111111111111111, \"#46039f\"], [0.2222222222222222, \"#7201a8\"], [0.3333333333333333, \"#9c179e\"], [0.4444444444444444, \"#bd3786\"], [0.5555555555555556, \"#d8576b\"], [0.6666666666666666, \"#ed7953\"], [0.7777777777777778, \"#fb9f3a\"], [0.8888888888888888, \"#fdca26\"], [1.0, \"#f0f921\"]], \"type\": \"surface\"}], \"table\": [{\"cells\": {\"fill\": {\"color\": \"#EBF0F8\"}, \"line\": {\"color\": \"white\"}}, \"header\": {\"fill\": {\"color\": \"#C8D4E3\"}, \"line\": {\"color\": \"white\"}}, \"type\": \"table\"}]}, \"layout\": {\"annotationdefaults\": {\"arrowcolor\": \"#2a3f5f\", \"arrowhead\": 0, \"arrowwidth\": 1}, \"coloraxis\": {\"colorbar\": {\"outlinewidth\": 0, \"ticks\": \"\"}}, \"colorscale\": {\"diverging\": [[0, \"#8e0152\"], [0.1, \"#c51b7d\"], [0.2, \"#de77ae\"], [0.3, \"#f1b6da\"], [0.4, \"#fde0ef\"], [0.5, \"#f7f7f7\"], [0.6, \"#e6f5d0\"], [0.7, \"#b8e186\"], [0.8, \"#7fbc41\"], [0.9, \"#4d9221\"], [1, \"#276419\"]], \"sequential\": [[0.0, \"#0d0887\"], [0.1111111111111111, \"#46039f\"], [0.2222222222222222, \"#7201a8\"], [0.3333333333333333, \"#9c179e\"], [0.4444444444444444, \"#bd3786\"], [0.5555555555555556, \"#d8576b\"], [0.6666666666666666, \"#ed7953\"], [0.7777777777777778, \"#fb9f3a\"], [0.8888888888888888, \"#fdca26\"], [1.0, \"#f0f921\"]], \"sequentialminus\": [[0.0, \"#0d0887\"], [0.1111111111111111, \"#46039f\"], [0.2222222222222222, \"#7201a8\"], [0.3333333333333333, \"#9c179e\"], [0.4444444444444444, \"#bd3786\"], [0.5555555555555556, \"#d8576b\"], [0.6666666666666666, \"#ed7953\"], [0.7777777777777778, \"#fb9f3a\"], [0.8888888888888888, \"#fdca26\"], [1.0, \"#f0f921\"]]}, \"colorway\": [\"#636efa\", \"#EF553B\", \"#00cc96\", \"#ab63fa\", \"#FFA15A\", \"#19d3f3\", \"#FF6692\", \"#B6E880\", \"#FF97FF\", \"#FECB52\"], \"font\": {\"color\": \"#2a3f5f\"}, \"geo\": {\"bgcolor\": \"white\", \"lakecolor\": \"white\", \"landcolor\": \"#E5ECF6\", \"showlakes\": true, \"showland\": true, \"subunitcolor\": \"white\"}, \"hoverlabel\": {\"align\": \"left\"}, \"hovermode\": \"closest\", \"mapbox\": {\"style\": \"light\"}, \"paper_bgcolor\": \"white\", \"plot_bgcolor\": \"#E5ECF6\", \"polar\": {\"angularaxis\": {\"gridcolor\": \"white\", \"linecolor\": \"white\", \"ticks\": \"\"}, \"bgcolor\": \"#E5ECF6\", \"radialaxis\": {\"gridcolor\": \"white\", \"linecolor\": \"white\", \"ticks\": \"\"}}, \"scene\": {\"xaxis\": {\"backgroundcolor\": \"#E5ECF6\", \"gridcolor\": \"white\", \"gridwidth\": 2, \"linecolor\": \"white\", \"showbackground\": true, \"ticks\": \"\", \"zerolinecolor\": \"white\"}, \"yaxis\": {\"backgroundcolor\": \"#E5ECF6\", \"gridcolor\": \"white\", \"gridwidth\": 2, \"linecolor\": \"white\", \"showbackground\": true, \"ticks\": \"\", \"zerolinecolor\": \"white\"}, \"zaxis\": {\"backgroundcolor\": \"#E5ECF6\", \"gridcolor\": \"white\", \"gridwidth\": 2, \"linecolor\": \"white\", \"showbackground\": true, \"ticks\": \"\", \"zerolinecolor\": \"white\"}}, \"shapedefaults\": {\"line\": {\"color\": \"#2a3f5f\"}}, \"ternary\": {\"aaxis\": {\"gridcolor\": \"white\", \"linecolor\": \"white\", \"ticks\": \"\"}, \"baxis\": {\"gridcolor\": \"white\", \"linecolor\": \"white\", \"ticks\": \"\"}, \"bgcolor\": \"#E5ECF6\", \"caxis\": {\"gridcolor\": \"white\", \"linecolor\": \"white\", \"ticks\": \"\"}}, \"title\": {\"x\": 0.05}, \"xaxis\": {\"automargin\": true, \"gridcolor\": \"white\", \"linecolor\": \"white\", \"ticks\": \"\", \"title\": {\"standoff\": 15}, \"zerolinecolor\": \"white\", \"zerolinewidth\": 2}, \"yaxis\": {\"automargin\": true, \"gridcolor\": \"white\", \"linecolor\": \"white\", \"ticks\": \"\", \"title\": {\"standoff\": 15}, \"zerolinecolor\": \"white\", \"zerolinewidth\": 2}}}, \"title\": {\"text\": \"Checking accounts Distribuition\"}, \"xaxis\": {\"title\": {\"text\": \"Checking accounts name\"}}, \"yaxis\": {\"title\": {\"text\": \"Count\"}}},\n",
       "                        {\"responsive\": true}\n",
       "                    ).then(function(){\n",
       "                            \n",
       "var gd = document.getElementById('695373ab-71bd-4cd3-9e5c-7742bc766797');\n",
       "var x = new MutationObserver(function (mutations, observer) {{\n",
       "        var display = window.getComputedStyle(gd).display;\n",
       "        if (!display || display === 'none') {{\n",
       "            console.log([gd, 'removed!']);\n",
       "            Plotly.purge(gd);\n",
       "            observer.disconnect();\n",
       "        }}\n",
       "}});\n",
       "\n",
       "// Listen for the removal of the full notebook cells\n",
       "var notebookContainer = gd.closest('#notebook-container');\n",
       "if (notebookContainer) {{\n",
       "    x.observe(notebookContainer, {childList: true});\n",
       "}}\n",
       "\n",
       "// Listen for the clearing of the current output cell\n",
       "var outputEl = gd.closest('.output');\n",
       "if (outputEl) {{\n",
       "    x.observe(outputEl, {childList: true});\n",
       "}}\n",
       "\n",
       "                        })\n",
       "                };\n",
       "                });\n",
       "            </script>\n",
       "        </div>"
      ]
     },
     "metadata": {},
     "output_type": "display_data"
    }
   ],
   "source": [
    "trace0 = go.Bar(\n",
    "    x = df[df[\"Class\"]== 1][\"CheckingAccount\"].value_counts().index.values,\n",
    "    y = df[df[\"Class\"]== 1][\"CheckingAccount\"].value_counts().values,\n",
    "    name='Good credit Distribution' \n",
    "    \n",
    ")\n",
    "\n",
    "#Second plot\n",
    "trace1 = go.Bar(\n",
    "    x = df[df[\"Class\"]== 2][\"CheckingAccount\"].value_counts().index.values,\n",
    "    y = df[df[\"Class\"]== 2][\"CheckingAccount\"].value_counts().values,\n",
    "    name=\"Bad Credit Distribution\"\n",
    ")\n",
    "\n",
    "data = [trace0, trace1]\n",
    "\n",
    "layout = go.Layout(\n",
    "    title='Checking accounts Distribuition',\n",
    "    xaxis=dict(title='Checking accounts name'),\n",
    "    yaxis=dict(title='Count'),\n",
    "    barmode='group'\n",
    ")\n",
    "\n",
    "\n",
    "fig = go.Figure(data=data, layout=layout)\n",
    "\n",
    "py.iplot(fig, filename = 'Age-ba', validate = False)"
   ]
  },
  {
   "cell_type": "code",
   "execution_count": 15,
   "metadata": {},
   "outputs": [
    {
     "data": {
      "application/vnd.plotly.v1+json": {
       "config": {
        "linkText": "Export to plot.ly",
        "plotlyServerURL": "https://plot.ly",
        "showLink": false
       },
       "data": [
        {
         "marker": {
          "color": "#3D9970"
         },
         "name": "Good credit",
         "type": "box",
         "x": [
          "A11",
          "A14",
          "A11",
          "A14",
          "A14",
          "A12",
          "A14",
          "A12",
          "A11",
          "A14",
          "A11",
          "A14",
          "A14",
          "A11",
          "A11",
          "A12",
          "A14",
          "A11",
          "A14",
          "A13",
          "A12",
          "A12",
          "A11",
          "A12",
          "A14",
          "A13",
          "A14",
          "A13",
          "A12",
          "A14",
          "A12",
          "A12",
          "A11",
          "A14",
          "A14",
          "A11",
          "A14",
          "A14",
          "A12",
          "A12",
          "A14",
          "A14",
          "A14",
          "A14",
          "A13",
          "A12",
          "A12",
          "A14",
          "A14",
          "A14",
          "A12",
          "A14",
          "A14",
          "A14",
          "A11",
          "A12",
          "A11",
          "A12",
          "A14",
          "A12",
          "A14",
          "A14",
          "A11",
          "A11",
          "A14",
          "A12",
          "A11",
          "A14",
          "A11",
          "A13",
          "A12",
          "A14",
          "A12",
          "A12",
          "A12",
          "A14",
          "A12",
          "A14",
          "A12",
          "A14",
          "A12",
          "A11",
          "A12",
          "A12",
          "A13",
          "A12",
          "A11",
          "A14",
          "A11",
          "A12",
          "A14",
          "A14",
          "A13",
          "A11",
          "A11",
          "A12",
          "A12",
          "A14",
          "A14",
          "A14",
          "A14",
          "A14",
          "A12",
          "A13",
          "A13",
          "A12",
          "A11",
          "A14",
          "A12",
          "A11",
          "A14",
          "A11",
          "A14",
          "A14",
          "A14",
          "A13",
          "A12",
          "A12",
          "A11",
          "A11",
          "A12",
          "A14",
          "A14",
          "A14",
          "A14",
          "A12",
          "A14",
          "A14",
          "A12",
          "A14",
          "A14",
          "A12",
          "A11",
          "A11",
          "A14",
          "A11",
          "A14",
          "A14",
          "A12",
          "A12",
          "A14",
          "A14",
          "A12",
          "A14",
          "A11",
          "A14",
          "A14",
          "A11",
          "A14",
          "A12",
          "A11",
          "A14",
          "A14",
          "A14",
          "A14",
          "A12",
          "A11",
          "A13",
          "A11",
          "A14",
          "A12",
          "A11",
          "A14",
          "A14",
          "A14",
          "A14",
          "A11",
          "A14",
          "A14",
          "A12",
          "A14",
          "A14",
          "A11",
          "A14",
          "A14",
          "A14",
          "A14",
          "A14",
          "A14",
          "A13",
          "A11",
          "A13",
          "A14",
          "A12",
          "A12",
          "A14",
          "A14",
          "A14",
          "A11",
          "A11",
          "A11",
          "A14",
          "A14",
          "A14",
          "A14",
          "A14",
          "A14",
          "A14",
          "A12",
          "A14",
          "A14",
          "A11",
          "A14",
          "A14",
          "A14",
          "A13",
          "A14",
          "A12",
          "A11",
          "A11",
          "A12",
          "A12",
          "A14",
          "A11",
          "A13",
          "A14",
          "A14",
          "A14",
          "A14",
          "A12",
          "A14",
          "A11",
          "A14",
          "A14",
          "A12",
          "A12",
          "A14",
          "A13",
          "A13",
          "A11",
          "A12",
          "A14",
          "A11",
          "A11",
          "A11",
          "A14",
          "A11",
          "A14",
          "A14",
          "A13",
          "A12",
          "A11",
          "A12",
          "A11",
          "A12",
          "A12",
          "A11",
          "A12",
          "A12",
          "A13",
          "A14",
          "A12",
          "A12",
          "A14",
          "A14",
          "A14",
          "A14",
          "A14",
          "A14",
          "A12",
          "A13",
          "A13",
          "A14",
          "A14",
          "A14",
          "A11",
          "A12",
          "A14",
          "A14",
          "A14",
          "A14",
          "A14",
          "A14",
          "A14",
          "A11",
          "A14",
          "A13",
          "A14",
          "A14",
          "A14",
          "A12",
          "A12",
          "A14",
          "A14",
          "A12",
          "A11",
          "A11",
          "A14",
          "A12",
          "A11",
          "A11",
          "A14",
          "A14",
          "A12",
          "A14",
          "A12",
          "A14",
          "A11",
          "A14",
          "A12",
          "A14",
          "A14",
          "A14",
          "A11",
          "A14",
          "A14",
          "A12",
          "A12",
          "A14",
          "A12",
          "A14",
          "A14",
          "A14",
          "A14",
          "A11",
          "A14",
          "A11",
          "A14",
          "A14",
          "A11",
          "A14",
          "A11",
          "A12",
          "A14",
          "A12",
          "A13",
          "A14",
          "A14",
          "A14",
          "A14",
          "A14",
          "A11",
          "A11",
          "A14",
          "A11",
          "A11",
          "A12",
          "A12",
          "A14",
          "A11",
          "A14",
          "A14",
          "A14",
          "A14",
          "A14",
          "A13",
          "A12",
          "A11",
          "A12",
          "A12",
          "A11",
          "A14",
          "A14",
          "A14",
          "A14",
          "A14",
          "A14",
          "A14",
          "A14",
          "A12",
          "A11",
          "A14",
          "A12",
          "A13",
          "A11",
          "A13",
          "A13",
          "A14",
          "A14",
          "A14",
          "A13",
          "A12",
          "A14",
          "A11",
          "A11",
          "A11",
          "A14",
          "A14",
          "A14",
          "A12",
          "A12",
          "A14",
          "A14",
          "A11",
          "A12",
          "A14",
          "A14",
          "A14",
          "A11",
          "A12",
          "A13",
          "A14",
          "A14",
          "A14",
          "A14",
          "A14",
          "A14",
          "A14",
          "A12",
          "A12",
          "A11",
          "A13",
          "A12",
          "A12",
          "A14",
          "A12",
          "A14",
          "A14",
          "A11",
          "A12",
          "A14",
          "A12",
          "A14",
          "A14",
          "A12",
          "A14",
          "A14",
          "A11",
          "A11",
          "A11",
          "A12",
          "A14",
          "A14",
          "A12",
          "A13",
          "A11",
          "A14",
          "A14",
          "A14",
          "A11",
          "A11",
          "A12",
          "A12",
          "A11",
          "A14",
          "A12",
          "A11",
          "A14",
          "A13",
          "A14",
          "A14",
          "A11",
          "A12",
          "A14",
          "A14",
          "A14",
          "A14",
          "A12",
          "A14",
          "A11",
          "A11",
          "A11",
          "A14",
          "A11",
          "A14",
          "A12",
          "A12",
          "A13",
          "A14",
          "A12",
          "A13",
          "A14",
          "A12",
          "A14",
          "A13",
          "A14",
          "A14",
          "A14",
          "A14",
          "A14",
          "A14",
          "A11",
          "A14",
          "A14",
          "A14",
          "A14",
          "A14",
          "A12",
          "A14",
          "A13",
          "A12",
          "A14",
          "A11",
          "A11",
          "A12",
          "A12",
          "A11",
          "A14",
          "A14",
          "A12",
          "A14",
          "A14",
          "A13",
          "A13",
          "A12",
          "A12",
          "A14",
          "A12",
          "A12",
          "A14",
          "A14",
          "A11",
          "A14",
          "A14",
          "A14",
          "A13",
          "A12",
          "A12",
          "A14",
          "A14",
          "A13",
          "A12",
          "A12",
          "A14",
          "A14",
          "A12",
          "A11",
          "A14",
          "A11",
          "A12",
          "A14",
          "A11",
          "A11",
          "A11",
          "A11",
          "A14",
          "A14",
          "A11",
          "A12",
          "A14",
          "A13",
          "A14",
          "A14",
          "A11",
          "A14",
          "A12",
          "A14",
          "A12",
          "A14",
          "A11",
          "A14",
          "A14",
          "A13",
          "A14",
          "A11",
          "A14",
          "A12",
          "A14",
          "A12",
          "A12",
          "A12",
          "A14",
          "A14",
          "A14",
          "A14",
          "A13",
          "A14",
          "A14",
          "A14",
          "A14",
          "A12",
          "A14",
          "A12",
          "A11",
          "A14",
          "A12",
          "A12",
          "A14",
          "A12",
          "A12",
          "A12",
          "A12",
          "A14",
          "A14",
          "A11",
          "A14",
          "A13",
          "A11",
          "A14",
          "A11",
          "A12",
          "A14",
          "A12",
          "A14",
          "A14",
          "A11",
          "A14",
          "A14",
          "A14",
          "A14",
          "A12",
          "A14",
          "A11",
          "A14",
          "A14",
          "A14",
          "A14",
          "A14",
          "A14",
          "A14",
          "A14",
          "A14",
          "A14",
          "A11",
          "A14",
          "A14",
          "A11",
          "A14",
          "A13",
          "A11",
          "A14",
          "A11",
          "A12",
          "A11",
          "A14",
          "A14",
          "A14",
          "A14",
          "A12",
          "A14",
          "A12",
          "A14",
          "A14",
          "A11",
          "A14",
          "A11",
          "A12",
          "A14",
          "A14",
          "A11",
          "A14",
          "A14",
          "A14",
          "A14",
          "A14",
          "A14",
          "A11",
          "A11",
          "A12",
          "A14",
          "A12",
          "A14",
          "A12",
          "A14",
          "A14",
          "A14",
          "A14",
          "A12",
          "A11",
          "A14",
          "A11",
          "A11",
          "A14",
          "A14",
          "A11",
          "A12",
          "A14",
          "A14",
          "A14",
          "A14",
          "A14",
          "A11",
          "A12",
          "A14",
          "A12",
          "A11",
          "A11",
          "A13",
          "A12",
          "A12",
          "A14",
          "A12",
          "A14",
          "A12",
          "A12",
          "A14",
          "A14",
          "A11",
          "A12",
          "A14",
          "A14",
          "A13",
          "A12",
          "A12",
          "A13",
          "A14",
          "A11",
          "A13",
          "A14",
          "A11",
          "A12",
          "A14",
          "A14",
          "A11",
          "A11",
          "A14",
          "A14",
          "A11",
          "A14",
          "A12"
         ],
         "y": [
          1169,
          2096,
          7882,
          9055,
          2835,
          6948,
          3059,
          1567,
          1403,
          2424,
          8072,
          3430,
          2134,
          2647,
          2241,
          1804,
          2069,
          1374,
          426,
          409,
          2415,
          1913,
          4020,
          5866,
          1264,
          1474,
          6110,
          1225,
          458,
          2333,
          1158,
          6204,
          6187,
          1393,
          2299,
          1352,
          7228,
          2073,
          2333,
          5965,
          1262,
          3378,
          783,
          9566,
          1961,
          1391,
          1537,
          3181,
          5190,
          2171,
          1007,
          2394,
          8133,
          730,
          1164,
          5954,
          1526,
          4771,
          9436,
          3832,
          1213,
          1568,
          1755,
          2315,
          1412,
          1295,
          2249,
          618,
          1409,
          3617,
          1318,
          2012,
          2622,
          2337,
          7057,
          1469,
          2323,
          932,
          1919,
          2445,
          6078,
          7721,
          1410,
          1449,
          392,
          6260,
          1680,
          3578,
          2132,
          2366,
          3868,
          1768,
          781,
          2121,
          701,
          1860,
          8487,
          2708,
          1984,
          10144,
          1240,
          8613,
          2728,
          1881,
          709,
          4795,
          3416,
          2288,
          3566,
          860,
          682,
          5371,
          1582,
          1346,
          1924,
          5848,
          7758,
          6967,
          1288,
          339,
          3512,
          1898,
          2872,
          1055,
          1262,
          7308,
          909,
          2978,
          1577,
          3972,
          763,
          1414,
          2577,
          338,
          1963,
          571,
          3777,
          1360,
          1175,
          3244,
          2108,
          1382,
          2760,
          936,
          1168,
          5117,
          1495,
          10623,
          1935,
          1424,
          6568,
          1413,
          3074,
          3835,
          3342,
          932,
          3104,
          3913,
          3021,
          1364,
          625,
          1200,
          707,
          2978,
          4657,
          2613,
          3149,
          2507,
          2141,
          866,
          1544,
          1291,
          2522,
          1595,
          1185,
          3447,
          1258,
          717,
          1204,
          1925,
          666,
          2251,
          4151,
          2030,
          7418,
          2684,
          3812,
          1154,
          1657,
          1603,
          5302,
          2748,
          1231,
          6304,
          1533,
          999,
          2662,
          1402,
          12169,
          2697,
          2404,
          1262,
          1901,
          3368,
          1574,
          1445,
          1520,
          3878,
          10722,
          4788,
          7582,
          1092,
          1076,
          6419,
          4796,
          7629,
          4675,
          1287,
          2515,
          2745,
          672,
          1038,
          1543,
          4811,
          276,
          5381,
          5511,
          3749,
          1494,
          708,
          4351,
          701,
          3643,
          2910,
          2659,
          1028,
          3398,
          5801,
          1525,
          4473,
          1068,
          6615,
          2101,
          4169,
          1521,
          5743,
          3599,
          3213,
          4439,
          3949,
          1459,
          882,
          3758,
          1743,
          1236,
          3229,
          727,
          2331,
          776,
          1239,
          3399,
          2247,
          1766,
          1542,
          3850,
          3650,
          3001,
          3079,
          6070,
          2146,
          13756,
          2320,
          846,
          362,
          2212,
          1283,
          1330,
          4272,
          2238,
          1126,
          7374,
          2326,
          1449,
          1820,
          983,
          3249,
          1957,
          2406,
          11760,
          2578,
          2348,
          1516,
          1473,
          1887,
          802,
          2899,
          2197,
          1053,
          3235,
          1967,
          7253,
          1597,
          5842,
          8471,
          2782,
          3186,
          2028,
          958,
          1591,
          2779,
          2743,
          1149,
          1313,
          3448,
          1872,
          2058,
          2136,
          660,
          1287,
          3394,
          1884,
          1620,
          2629,
          1244,
          2576,
          1424,
          11054,
          518,
          2759,
          2670,
          2679,
          3905,
          343,
          4594,
          3620,
          1721,
          3017,
          754,
          1950,
          2924,
          7238,
          2764,
          4679,
          1238,
          2569,
          5152,
          1037,
          1478,
          3573,
          1201,
          3622,
          960,
          1163,
          3077,
          3757,
          1418,
          3518,
          1934,
          1237,
          368,
          2122,
          1585,
          1301,
          1323,
          5493,
          1126,
          2360,
          1413,
          8588,
          4686,
          2687,
          585,
          2255,
          609,
          1361,
          1203,
          700,
          5507,
          3488,
          1113,
          7966,
          1532,
          1503,
          662,
          2273,
          1503,
          1311,
          3105,
          1374,
          3612,
          3049,
          2032,
          1255,
          2022,
          1552,
          8858,
          996,
          1750,
          1995,
          1199,
          2964,
          683,
          4712,
          1553,
          2578,
          3979,
          5954,
          5433,
          806,
          1082,
          2788,
          2930,
          1927,
          937,
          3124,
          1388,
          2133,
          2799,
          1289,
          385,
          1965,
          1572,
          3863,
          2329,
          1275,
          2828,
          4526,
          2051,
          1300,
          3357,
          3632,
          12204,
          9157,
          3676,
          640,
          3652,
          1858,
          1979,
          2116,
          4042,
          3832,
          3660,
          1444,
          1393,
          1376,
          15653,
          1493,
          1308,
          1851,
          1880,
          4583,
          7476,
          2346,
          3973,
          10222,
          4221,
          6361,
          1297,
          2241,
          1050,
          1047,
          6314,
          3496,
          3609,
          3017,
          4139,
          5742,
          10366,
          2080,
          4530,
          5150,
          2384,
          1453,
          1538,
          2279,
          1478,
          5103,
          9857,
          6527,
          1347,
          2862,
          2753,
          3651,
          975,
          2631,
          2896,
          4716,
          2284,
          1236,
          1103,
          926,
          1800,
          1905,
          1377,
          2503,
          2528,
          5324,
          1206,
          2118,
          629,
          2476,
          1138,
          7596,
          3077,
          1505,
          3148,
          6148,
          790,
          250,
          1316,
          1275,
          6403,
          760,
          2603,
          3380,
          3990,
          4380,
          6761,
          2325,
          1048,
          3160,
          2483,
          14179,
          1797,
          2511,
          5248,
          3029,
          428,
          841,
          5771,
          1299,
          1393,
          5045,
          2214,
          2463,
          1155,
          2901,
          3617,
          1655,
          2812,
          3275,
          2223,
          1480,
          3535,
          3509,
          5711,
          3872,
          1940,
          1410,
          6468,
          1941,
          2675,
          2751,
          6313,
          1221,
          2892,
          3062,
          2301,
          1258,
          717,
          1549,
          1597,
          1795,
          4272,
          976,
          7472,
          590,
          930,
          9283,
          907,
          484,
          7432,
          1338,
          1554,
          15857,
          1101,
          3016,
          731,
          3780,
          1602,
          6681,
          2375,
          5084,
          886,
          601,
          2957,
          2611,
          2993,
          1559,
          3422,
          3976,
          1249,
          1364,
          4042,
          1471,
          10875,
          1474,
          894,
          3343,
          3577,
          5804,
          4526,
          2221,
          2389,
          3331,
          7409,
          652,
          7678,
          1343,
          1382,
          874,
          3590,
          1322,
          1940,
          3595,
          6742,
          7814,
          9277,
          2181,
          1098,
          2825,
          6614,
          7824,
          2442,
          1829,
          2171,
          5800,
          1169,
          8947,
          2606,
          1592,
          2186,
          3485,
          10477,
          1386,
          1278,
          1107,
          3763,
          3711,
          3594,
          3195,
          4454,
          2991,
          2142,
          2848,
          1817,
          12749,
          2002,
          1049,
          1867,
          1344,
          1747,
          1224,
          522,
          1498,
          2063,
          6842,
          3527,
          1546,
          929,
          1455,
          1845,
          8358,
          2859,
          3590,
          1893,
          1231,
          3656,
          1154,
          3069,
          1740,
          2353,
          3556,
          454,
          1715,
          3568,
          7166,
          3939,
          1514,
          7393,
          2831,
          1258,
          753,
          2427,
          2923,
          2028,
          1433,
          6289,
          1409,
          6579,
          1743,
          3565,
          1569,
          1936,
          3959,
          2390,
          1736,
          3857,
          804,
          4576
         ]
        },
        {
         "marker": {
          "color": "#FF4136"
         },
         "name": "Bad credit",
         "type": "box",
         "x": [
          "A12",
          "A11",
          "A12",
          "A12",
          "A11",
          "A11",
          "A11",
          "A12",
          "A11",
          "A12",
          "A13",
          "A11",
          "A12",
          "A12",
          "A11",
          "A12",
          "A12",
          "A14",
          "A11",
          "A11",
          "A14",
          "A12",
          "A11",
          "A14",
          "A12",
          "A12",
          "A14",
          "A14",
          "A11",
          "A11",
          "A11",
          "A12",
          "A12",
          "A11",
          "A11",
          "A12",
          "A11",
          "A11",
          "A11",
          "A12",
          "A11",
          "A12",
          "A11",
          "A14",
          "A14",
          "A12",
          "A11",
          "A12",
          "A12",
          "A11",
          "A14",
          "A12",
          "A12",
          "A12",
          "A12",
          "A12",
          "A12",
          "A11",
          "A11",
          "A13",
          "A12",
          "A11",
          "A14",
          "A13",
          "A11",
          "A12",
          "A12",
          "A11",
          "A11",
          "A14",
          "A12",
          "A11",
          "A12",
          "A11",
          "A12",
          "A11",
          "A14",
          "A11",
          "A12",
          "A12",
          "A12",
          "A13",
          "A14",
          "A11",
          "A12",
          "A12",
          "A11",
          "A12",
          "A11",
          "A14",
          "A12",
          "A14",
          "A11",
          "A11",
          "A11",
          "A12",
          "A12",
          "A11",
          "A12",
          "A14",
          "A11",
          "A11",
          "A11",
          "A12",
          "A11",
          "A12",
          "A12",
          "A12",
          "A14",
          "A12",
          "A13",
          "A14",
          "A11",
          "A11",
          "A12",
          "A12",
          "A11",
          "A12",
          "A12",
          "A13",
          "A14",
          "A12",
          "A11",
          "A12",
          "A11",
          "A11",
          "A11",
          "A12",
          "A11",
          "A11",
          "A12",
          "A11",
          "A12",
          "A12",
          "A11",
          "A12",
          "A11",
          "A12",
          "A11",
          "A14",
          "A12",
          "A11",
          "A14",
          "A11",
          "A11",
          "A11",
          "A12",
          "A13",
          "A11",
          "A12",
          "A11",
          "A13",
          "A11",
          "A11",
          "A11",
          "A12",
          "A12",
          "A14",
          "A11",
          "A12",
          "A11",
          "A12",
          "A11",
          "A11",
          "A11",
          "A12",
          "A12",
          "A12",
          "A11",
          "A11",
          "A11",
          "A12",
          "A11",
          "A12",
          "A11",
          "A12",
          "A14",
          "A12",
          "A12",
          "A14",
          "A12",
          "A11",
          "A13",
          "A14",
          "A12",
          "A14",
          "A14",
          "A11",
          "A12",
          "A11",
          "A14",
          "A12",
          "A11",
          "A11",
          "A14",
          "A14",
          "A14",
          "A13",
          "A11",
          "A12",
          "A11",
          "A12",
          "A12",
          "A11",
          "A11",
          "A14",
          "A12",
          "A14",
          "A11",
          "A12",
          "A12",
          "A11",
          "A12",
          "A13",
          "A12",
          "A11",
          "A14",
          "A11",
          "A12",
          "A11",
          "A12",
          "A12",
          "A11",
          "A11",
          "A14",
          "A11",
          "A13",
          "A11",
          "A11",
          "A14",
          "A11",
          "A11",
          "A11",
          "A12",
          "A12",
          "A12",
          "A11",
          "A12",
          "A11",
          "A11",
          "A12",
          "A11",
          "A11",
          "A11",
          "A11",
          "A11",
          "A11",
          "A14",
          "A11",
          "A11",
          "A11",
          "A13",
          "A11",
          "A11",
          "A14",
          "A14",
          "A11",
          "A11",
          "A11",
          "A11",
          "A14",
          "A11",
          "A14",
          "A11",
          "A12",
          "A11",
          "A12",
          "A11",
          "A11",
          "A12",
          "A11",
          "A12",
          "A11",
          "A11",
          "A11",
          "A11",
          "A11",
          "A11",
          "A11",
          "A12",
          "A12",
          "A13",
          "A12",
          "A11",
          "A14",
          "A14",
          "A11",
          "A12",
          "A14",
          "A11",
          "A14",
          "A12",
          "A11",
          "A11",
          "A14",
          "A12",
          "A12",
          "A14",
          "A11",
          "A11"
         ],
         "y": [
          5951,
          4870,
          5234,
          1295,
          4308,
          1199,
          1282,
          12579,
          6836,
          4746,
          2100,
          6143,
          2225,
          6468,
          6229,
          1953,
          14421,
          1819,
          1977,
          3965,
          5943,
          12612,
          1108,
          797,
          15945,
          11938,
          6458,
          7855,
          7174,
          4281,
          1835,
          1924,
          639,
          3499,
          6887,
          766,
          2462,
          1282,
          1131,
          1935,
          950,
          2064,
          3414,
          7485,
          9572,
          4455,
          1647,
          884,
          5129,
          674,
          4591,
          3844,
          3915,
          3031,
          1501,
          951,
          4297,
          902,
          5293,
          1908,
          10961,
          7865,
          1478,
          4210,
          1823,
          14555,
          2767,
          915,
          4605,
          433,
          2150,
          2149,
          802,
          8978,
          3060,
          11998,
          4611,
          1024,
          9398,
          9960,
          3804,
          1344,
          10127,
          727,
          1237,
          685,
          2746,
          4249,
          1938,
          1864,
          7408,
          11590,
          4110,
          3384,
          1275,
          1136,
          959,
          6199,
          1246,
          4463,
          2406,
          2473,
          3446,
          14782,
          7685,
          14318,
          12976,
          1223,
          8648,
          2039,
          939,
          2292,
          1381,
          2579,
          1042,
          2762,
          1190,
          11328,
          1484,
          609,
          719,
          5096,
          1842,
          1512,
          4817,
          3386,
          1659,
          3092,
          448,
          654,
          1245,
          3114,
          1209,
          8318,
          2996,
          9034,
          3123,
          1216,
          1207,
          1309,
          6850,
          759,
          7127,
          3190,
          7119,
          2302,
          2631,
          2319,
          7763,
          1534,
          6350,
          2864,
          1333,
          626,
          6999,
          1331,
          2278,
          5003,
          3552,
          1928,
          1546,
          12389,
          1372,
          6758,
          3234,
          2820,
          1056,
          2384,
          2039,
          1217,
          2246,
          2718,
          1358,
          931,
          1442,
          4241,
          2775,
          918,
          1837,
          3349,
          2671,
          741,
          1240,
          1808,
          3441,
          1530,
          3914,
          2600,
          1437,
          1553,
          1980,
          1355,
          4370,
          750,
          4623,
          7980,
          1386,
          947,
          684,
          1922,
          2303,
          8086,
          888,
          900,
          4843,
          2580,
          5595,
          1123,
          6331,
          6560,
          2969,
          1198,
          14027,
          1337,
          433,
          1228,
          2570,
          1882,
          6416,
          1987,
          11560,
          4280,
          1274,
          976,
          1555,
          1285,
          1271,
          691,
          2124,
          12680,
          3108,
          8065,
          1371,
          4933,
          836,
          6224,
          5998,
          1188,
          7511,
          9271,
          1778,
          9629,
          3051,
          3931,
          1345,
          2712,
          3966,
          4165,
          8335,
          1216,
          11816,
          2327,
          1082,
          5179,
          1943,
          6761,
          709,
          2235,
          1442,
          3959,
          2169,
          2439,
          2210,
          1422,
          4057,
          795,
          15672,
          4153,
          2625,
          4736,
          3161,
          18424,
          14896,
          2359,
          3345,
          1366,
          6872,
          697,
          10297,
          1670,
          1919,
          745,
          6288,
          3349,
          1533,
          3621,
          2145,
          4113,
          10974,
          4006,
          2397,
          2520,
          1193,
          7297,
          2538,
          1264,
          8386,
          4844,
          8229,
          1845
         ]
        }
       ],
       "layout": {
        "boxmode": "group",
        "template": {
         "data": {
          "bar": [
           {
            "error_x": {
             "color": "#2a3f5f"
            },
            "error_y": {
             "color": "#2a3f5f"
            },
            "marker": {
             "line": {
              "color": "#E5ECF6",
              "width": 0.5
             }
            },
            "type": "bar"
           }
          ],
          "barpolar": [
           {
            "marker": {
             "line": {
              "color": "#E5ECF6",
              "width": 0.5
             }
            },
            "type": "barpolar"
           }
          ],
          "carpet": [
           {
            "aaxis": {
             "endlinecolor": "#2a3f5f",
             "gridcolor": "white",
             "linecolor": "white",
             "minorgridcolor": "white",
             "startlinecolor": "#2a3f5f"
            },
            "baxis": {
             "endlinecolor": "#2a3f5f",
             "gridcolor": "white",
             "linecolor": "white",
             "minorgridcolor": "white",
             "startlinecolor": "#2a3f5f"
            },
            "type": "carpet"
           }
          ],
          "choropleth": [
           {
            "colorbar": {
             "outlinewidth": 0,
             "ticks": ""
            },
            "type": "choropleth"
           }
          ],
          "contour": [
           {
            "colorbar": {
             "outlinewidth": 0,
             "ticks": ""
            },
            "colorscale": [
             [
              0,
              "#0d0887"
             ],
             [
              0.1111111111111111,
              "#46039f"
             ],
             [
              0.2222222222222222,
              "#7201a8"
             ],
             [
              0.3333333333333333,
              "#9c179e"
             ],
             [
              0.4444444444444444,
              "#bd3786"
             ],
             [
              0.5555555555555556,
              "#d8576b"
             ],
             [
              0.6666666666666666,
              "#ed7953"
             ],
             [
              0.7777777777777778,
              "#fb9f3a"
             ],
             [
              0.8888888888888888,
              "#fdca26"
             ],
             [
              1,
              "#f0f921"
             ]
            ],
            "type": "contour"
           }
          ],
          "contourcarpet": [
           {
            "colorbar": {
             "outlinewidth": 0,
             "ticks": ""
            },
            "type": "contourcarpet"
           }
          ],
          "heatmap": [
           {
            "colorbar": {
             "outlinewidth": 0,
             "ticks": ""
            },
            "colorscale": [
             [
              0,
              "#0d0887"
             ],
             [
              0.1111111111111111,
              "#46039f"
             ],
             [
              0.2222222222222222,
              "#7201a8"
             ],
             [
              0.3333333333333333,
              "#9c179e"
             ],
             [
              0.4444444444444444,
              "#bd3786"
             ],
             [
              0.5555555555555556,
              "#d8576b"
             ],
             [
              0.6666666666666666,
              "#ed7953"
             ],
             [
              0.7777777777777778,
              "#fb9f3a"
             ],
             [
              0.8888888888888888,
              "#fdca26"
             ],
             [
              1,
              "#f0f921"
             ]
            ],
            "type": "heatmap"
           }
          ],
          "heatmapgl": [
           {
            "colorbar": {
             "outlinewidth": 0,
             "ticks": ""
            },
            "colorscale": [
             [
              0,
              "#0d0887"
             ],
             [
              0.1111111111111111,
              "#46039f"
             ],
             [
              0.2222222222222222,
              "#7201a8"
             ],
             [
              0.3333333333333333,
              "#9c179e"
             ],
             [
              0.4444444444444444,
              "#bd3786"
             ],
             [
              0.5555555555555556,
              "#d8576b"
             ],
             [
              0.6666666666666666,
              "#ed7953"
             ],
             [
              0.7777777777777778,
              "#fb9f3a"
             ],
             [
              0.8888888888888888,
              "#fdca26"
             ],
             [
              1,
              "#f0f921"
             ]
            ],
            "type": "heatmapgl"
           }
          ],
          "histogram": [
           {
            "marker": {
             "colorbar": {
              "outlinewidth": 0,
              "ticks": ""
             }
            },
            "type": "histogram"
           }
          ],
          "histogram2d": [
           {
            "colorbar": {
             "outlinewidth": 0,
             "ticks": ""
            },
            "colorscale": [
             [
              0,
              "#0d0887"
             ],
             [
              0.1111111111111111,
              "#46039f"
             ],
             [
              0.2222222222222222,
              "#7201a8"
             ],
             [
              0.3333333333333333,
              "#9c179e"
             ],
             [
              0.4444444444444444,
              "#bd3786"
             ],
             [
              0.5555555555555556,
              "#d8576b"
             ],
             [
              0.6666666666666666,
              "#ed7953"
             ],
             [
              0.7777777777777778,
              "#fb9f3a"
             ],
             [
              0.8888888888888888,
              "#fdca26"
             ],
             [
              1,
              "#f0f921"
             ]
            ],
            "type": "histogram2d"
           }
          ],
          "histogram2dcontour": [
           {
            "colorbar": {
             "outlinewidth": 0,
             "ticks": ""
            },
            "colorscale": [
             [
              0,
              "#0d0887"
             ],
             [
              0.1111111111111111,
              "#46039f"
             ],
             [
              0.2222222222222222,
              "#7201a8"
             ],
             [
              0.3333333333333333,
              "#9c179e"
             ],
             [
              0.4444444444444444,
              "#bd3786"
             ],
             [
              0.5555555555555556,
              "#d8576b"
             ],
             [
              0.6666666666666666,
              "#ed7953"
             ],
             [
              0.7777777777777778,
              "#fb9f3a"
             ],
             [
              0.8888888888888888,
              "#fdca26"
             ],
             [
              1,
              "#f0f921"
             ]
            ],
            "type": "histogram2dcontour"
           }
          ],
          "mesh3d": [
           {
            "colorbar": {
             "outlinewidth": 0,
             "ticks": ""
            },
            "type": "mesh3d"
           }
          ],
          "parcoords": [
           {
            "line": {
             "colorbar": {
              "outlinewidth": 0,
              "ticks": ""
             }
            },
            "type": "parcoords"
           }
          ],
          "pie": [
           {
            "automargin": true,
            "type": "pie"
           }
          ],
          "scatter": [
           {
            "marker": {
             "colorbar": {
              "outlinewidth": 0,
              "ticks": ""
             }
            },
            "type": "scatter"
           }
          ],
          "scatter3d": [
           {
            "line": {
             "colorbar": {
              "outlinewidth": 0,
              "ticks": ""
             }
            },
            "marker": {
             "colorbar": {
              "outlinewidth": 0,
              "ticks": ""
             }
            },
            "type": "scatter3d"
           }
          ],
          "scattercarpet": [
           {
            "marker": {
             "colorbar": {
              "outlinewidth": 0,
              "ticks": ""
             }
            },
            "type": "scattercarpet"
           }
          ],
          "scattergeo": [
           {
            "marker": {
             "colorbar": {
              "outlinewidth": 0,
              "ticks": ""
             }
            },
            "type": "scattergeo"
           }
          ],
          "scattergl": [
           {
            "marker": {
             "colorbar": {
              "outlinewidth": 0,
              "ticks": ""
             }
            },
            "type": "scattergl"
           }
          ],
          "scattermapbox": [
           {
            "marker": {
             "colorbar": {
              "outlinewidth": 0,
              "ticks": ""
             }
            },
            "type": "scattermapbox"
           }
          ],
          "scatterpolar": [
           {
            "marker": {
             "colorbar": {
              "outlinewidth": 0,
              "ticks": ""
             }
            },
            "type": "scatterpolar"
           }
          ],
          "scatterpolargl": [
           {
            "marker": {
             "colorbar": {
              "outlinewidth": 0,
              "ticks": ""
             }
            },
            "type": "scatterpolargl"
           }
          ],
          "scatterternary": [
           {
            "marker": {
             "colorbar": {
              "outlinewidth": 0,
              "ticks": ""
             }
            },
            "type": "scatterternary"
           }
          ],
          "surface": [
           {
            "colorbar": {
             "outlinewidth": 0,
             "ticks": ""
            },
            "colorscale": [
             [
              0,
              "#0d0887"
             ],
             [
              0.1111111111111111,
              "#46039f"
             ],
             [
              0.2222222222222222,
              "#7201a8"
             ],
             [
              0.3333333333333333,
              "#9c179e"
             ],
             [
              0.4444444444444444,
              "#bd3786"
             ],
             [
              0.5555555555555556,
              "#d8576b"
             ],
             [
              0.6666666666666666,
              "#ed7953"
             ],
             [
              0.7777777777777778,
              "#fb9f3a"
             ],
             [
              0.8888888888888888,
              "#fdca26"
             ],
             [
              1,
              "#f0f921"
             ]
            ],
            "type": "surface"
           }
          ],
          "table": [
           {
            "cells": {
             "fill": {
              "color": "#EBF0F8"
             },
             "line": {
              "color": "white"
             }
            },
            "header": {
             "fill": {
              "color": "#C8D4E3"
             },
             "line": {
              "color": "white"
             }
            },
            "type": "table"
           }
          ]
         },
         "layout": {
          "annotationdefaults": {
           "arrowcolor": "#2a3f5f",
           "arrowhead": 0,
           "arrowwidth": 1
          },
          "coloraxis": {
           "colorbar": {
            "outlinewidth": 0,
            "ticks": ""
           }
          },
          "colorscale": {
           "diverging": [
            [
             0,
             "#8e0152"
            ],
            [
             0.1,
             "#c51b7d"
            ],
            [
             0.2,
             "#de77ae"
            ],
            [
             0.3,
             "#f1b6da"
            ],
            [
             0.4,
             "#fde0ef"
            ],
            [
             0.5,
             "#f7f7f7"
            ],
            [
             0.6,
             "#e6f5d0"
            ],
            [
             0.7,
             "#b8e186"
            ],
            [
             0.8,
             "#7fbc41"
            ],
            [
             0.9,
             "#4d9221"
            ],
            [
             1,
             "#276419"
            ]
           ],
           "sequential": [
            [
             0,
             "#0d0887"
            ],
            [
             0.1111111111111111,
             "#46039f"
            ],
            [
             0.2222222222222222,
             "#7201a8"
            ],
            [
             0.3333333333333333,
             "#9c179e"
            ],
            [
             0.4444444444444444,
             "#bd3786"
            ],
            [
             0.5555555555555556,
             "#d8576b"
            ],
            [
             0.6666666666666666,
             "#ed7953"
            ],
            [
             0.7777777777777778,
             "#fb9f3a"
            ],
            [
             0.8888888888888888,
             "#fdca26"
            ],
            [
             1,
             "#f0f921"
            ]
           ],
           "sequentialminus": [
            [
             0,
             "#0d0887"
            ],
            [
             0.1111111111111111,
             "#46039f"
            ],
            [
             0.2222222222222222,
             "#7201a8"
            ],
            [
             0.3333333333333333,
             "#9c179e"
            ],
            [
             0.4444444444444444,
             "#bd3786"
            ],
            [
             0.5555555555555556,
             "#d8576b"
            ],
            [
             0.6666666666666666,
             "#ed7953"
            ],
            [
             0.7777777777777778,
             "#fb9f3a"
            ],
            [
             0.8888888888888888,
             "#fdca26"
            ],
            [
             1,
             "#f0f921"
            ]
           ]
          },
          "colorway": [
           "#636efa",
           "#EF553B",
           "#00cc96",
           "#ab63fa",
           "#FFA15A",
           "#19d3f3",
           "#FF6692",
           "#B6E880",
           "#FF97FF",
           "#FECB52"
          ],
          "font": {
           "color": "#2a3f5f"
          },
          "geo": {
           "bgcolor": "white",
           "lakecolor": "white",
           "landcolor": "#E5ECF6",
           "showlakes": true,
           "showland": true,
           "subunitcolor": "white"
          },
          "hoverlabel": {
           "align": "left"
          },
          "hovermode": "closest",
          "mapbox": {
           "style": "light"
          },
          "paper_bgcolor": "white",
          "plot_bgcolor": "#E5ECF6",
          "polar": {
           "angularaxis": {
            "gridcolor": "white",
            "linecolor": "white",
            "ticks": ""
           },
           "bgcolor": "#E5ECF6",
           "radialaxis": {
            "gridcolor": "white",
            "linecolor": "white",
            "ticks": ""
           }
          },
          "scene": {
           "xaxis": {
            "backgroundcolor": "#E5ECF6",
            "gridcolor": "white",
            "gridwidth": 2,
            "linecolor": "white",
            "showbackground": true,
            "ticks": "",
            "zerolinecolor": "white"
           },
           "yaxis": {
            "backgroundcolor": "#E5ECF6",
            "gridcolor": "white",
            "gridwidth": 2,
            "linecolor": "white",
            "showbackground": true,
            "ticks": "",
            "zerolinecolor": "white"
           },
           "zaxis": {
            "backgroundcolor": "#E5ECF6",
            "gridcolor": "white",
            "gridwidth": 2,
            "linecolor": "white",
            "showbackground": true,
            "ticks": "",
            "zerolinecolor": "white"
           }
          },
          "shapedefaults": {
           "line": {
            "color": "#2a3f5f"
           }
          },
          "ternary": {
           "aaxis": {
            "gridcolor": "white",
            "linecolor": "white",
            "ticks": ""
           },
           "baxis": {
            "gridcolor": "white",
            "linecolor": "white",
            "ticks": ""
           },
           "bgcolor": "#E5ECF6",
           "caxis": {
            "gridcolor": "white",
            "linecolor": "white",
            "ticks": ""
           }
          },
          "title": {
           "x": 0.05
          },
          "xaxis": {
           "automargin": true,
           "gridcolor": "white",
           "linecolor": "white",
           "ticks": "",
           "title": {
            "standoff": 15
           },
           "zerolinecolor": "white",
           "zerolinewidth": 2
          },
          "yaxis": {
           "automargin": true,
           "gridcolor": "white",
           "linecolor": "white",
           "ticks": "",
           "title": {
            "standoff": 15
           },
           "zerolinecolor": "white",
           "zerolinewidth": 2
          }
         }
        },
        "yaxis": {
         "title": {
          "text": "Cheking distribuition"
         }
        }
       }
      },
      "text/html": [
       "<div>\n",
       "        \n",
       "        \n",
       "            <div id=\"56144f1c-0ae3-43fc-99e0-1439bf525557\" class=\"plotly-graph-div\" style=\"height:525px; width:100%;\"></div>\n",
       "            <script type=\"text/javascript\">\n",
       "                require([\"plotly\"], function(Plotly) {\n",
       "                    window.PLOTLYENV=window.PLOTLYENV || {};\n",
       "                    \n",
       "                if (document.getElementById(\"56144f1c-0ae3-43fc-99e0-1439bf525557\")) {\n",
       "                    Plotly.newPlot(\n",
       "                        '56144f1c-0ae3-43fc-99e0-1439bf525557',\n",
       "                        [{\"marker\": {\"color\": \"#3D9970\"}, \"name\": \"Good credit\", \"type\": \"box\", \"x\": [\"A11\", \"A14\", \"A11\", \"A14\", \"A14\", \"A12\", \"A14\", \"A12\", \"A11\", \"A14\", \"A11\", \"A14\", \"A14\", \"A11\", \"A11\", \"A12\", \"A14\", \"A11\", \"A14\", \"A13\", \"A12\", \"A12\", \"A11\", \"A12\", \"A14\", \"A13\", \"A14\", \"A13\", \"A12\", \"A14\", \"A12\", \"A12\", \"A11\", \"A14\", \"A14\", \"A11\", \"A14\", \"A14\", \"A12\", \"A12\", \"A14\", \"A14\", \"A14\", \"A14\", \"A13\", \"A12\", \"A12\", \"A14\", \"A14\", \"A14\", \"A12\", \"A14\", \"A14\", \"A14\", \"A11\", \"A12\", \"A11\", \"A12\", \"A14\", \"A12\", \"A14\", \"A14\", \"A11\", \"A11\", \"A14\", \"A12\", \"A11\", \"A14\", \"A11\", \"A13\", \"A12\", \"A14\", \"A12\", \"A12\", \"A12\", \"A14\", \"A12\", \"A14\", \"A12\", \"A14\", \"A12\", \"A11\", \"A12\", \"A12\", \"A13\", \"A12\", \"A11\", \"A14\", \"A11\", \"A12\", \"A14\", \"A14\", \"A13\", \"A11\", \"A11\", \"A12\", \"A12\", \"A14\", \"A14\", \"A14\", \"A14\", \"A14\", \"A12\", \"A13\", \"A13\", \"A12\", \"A11\", \"A14\", \"A12\", \"A11\", \"A14\", \"A11\", \"A14\", \"A14\", \"A14\", \"A13\", \"A12\", \"A12\", \"A11\", \"A11\", \"A12\", \"A14\", \"A14\", \"A14\", \"A14\", \"A12\", \"A14\", \"A14\", \"A12\", \"A14\", \"A14\", \"A12\", \"A11\", \"A11\", \"A14\", \"A11\", \"A14\", \"A14\", \"A12\", \"A12\", \"A14\", \"A14\", \"A12\", \"A14\", \"A11\", \"A14\", \"A14\", \"A11\", \"A14\", \"A12\", \"A11\", \"A14\", \"A14\", \"A14\", \"A14\", \"A12\", \"A11\", \"A13\", \"A11\", \"A14\", \"A12\", \"A11\", \"A14\", \"A14\", \"A14\", \"A14\", \"A11\", \"A14\", \"A14\", \"A12\", \"A14\", \"A14\", \"A11\", \"A14\", \"A14\", \"A14\", \"A14\", \"A14\", \"A14\", \"A13\", \"A11\", \"A13\", \"A14\", \"A12\", \"A12\", \"A14\", \"A14\", \"A14\", \"A11\", \"A11\", \"A11\", \"A14\", \"A14\", \"A14\", \"A14\", \"A14\", \"A14\", \"A14\", \"A12\", \"A14\", \"A14\", \"A11\", \"A14\", \"A14\", \"A14\", \"A13\", \"A14\", \"A12\", \"A11\", \"A11\", \"A12\", \"A12\", \"A14\", \"A11\", \"A13\", \"A14\", \"A14\", \"A14\", \"A14\", \"A12\", \"A14\", \"A11\", \"A14\", \"A14\", \"A12\", \"A12\", \"A14\", \"A13\", \"A13\", \"A11\", \"A12\", \"A14\", \"A11\", \"A11\", \"A11\", \"A14\", \"A11\", \"A14\", \"A14\", \"A13\", \"A12\", \"A11\", \"A12\", \"A11\", \"A12\", \"A12\", \"A11\", \"A12\", \"A12\", \"A13\", \"A14\", \"A12\", \"A12\", \"A14\", \"A14\", \"A14\", \"A14\", \"A14\", \"A14\", \"A12\", \"A13\", \"A13\", \"A14\", \"A14\", \"A14\", \"A11\", \"A12\", \"A14\", \"A14\", \"A14\", \"A14\", \"A14\", \"A14\", \"A14\", \"A11\", \"A14\", \"A13\", \"A14\", \"A14\", \"A14\", \"A12\", \"A12\", \"A14\", \"A14\", \"A12\", \"A11\", \"A11\", \"A14\", \"A12\", \"A11\", \"A11\", \"A14\", \"A14\", \"A12\", \"A14\", \"A12\", \"A14\", \"A11\", \"A14\", \"A12\", \"A14\", \"A14\", \"A14\", \"A11\", \"A14\", \"A14\", \"A12\", \"A12\", \"A14\", \"A12\", \"A14\", \"A14\", \"A14\", \"A14\", \"A11\", \"A14\", \"A11\", \"A14\", \"A14\", \"A11\", \"A14\", \"A11\", \"A12\", \"A14\", \"A12\", \"A13\", \"A14\", \"A14\", \"A14\", \"A14\", \"A14\", \"A11\", \"A11\", \"A14\", \"A11\", \"A11\", \"A12\", \"A12\", \"A14\", \"A11\", \"A14\", \"A14\", \"A14\", \"A14\", \"A14\", \"A13\", \"A12\", \"A11\", \"A12\", \"A12\", \"A11\", \"A14\", \"A14\", \"A14\", \"A14\", \"A14\", \"A14\", \"A14\", \"A14\", \"A12\", \"A11\", \"A14\", \"A12\", \"A13\", \"A11\", \"A13\", \"A13\", \"A14\", \"A14\", \"A14\", \"A13\", \"A12\", \"A14\", \"A11\", \"A11\", \"A11\", \"A14\", \"A14\", \"A14\", \"A12\", \"A12\", \"A14\", \"A14\", \"A11\", \"A12\", \"A14\", \"A14\", \"A14\", \"A11\", \"A12\", \"A13\", \"A14\", \"A14\", \"A14\", \"A14\", \"A14\", \"A14\", \"A14\", \"A12\", \"A12\", \"A11\", \"A13\", \"A12\", \"A12\", \"A14\", \"A12\", \"A14\", \"A14\", \"A11\", \"A12\", \"A14\", \"A12\", \"A14\", \"A14\", \"A12\", \"A14\", \"A14\", \"A11\", \"A11\", \"A11\", \"A12\", \"A14\", \"A14\", \"A12\", \"A13\", \"A11\", \"A14\", \"A14\", \"A14\", \"A11\", \"A11\", \"A12\", \"A12\", \"A11\", \"A14\", \"A12\", \"A11\", \"A14\", \"A13\", \"A14\", \"A14\", \"A11\", \"A12\", \"A14\", \"A14\", \"A14\", \"A14\", \"A12\", \"A14\", \"A11\", \"A11\", \"A11\", \"A14\", \"A11\", \"A14\", \"A12\", \"A12\", \"A13\", \"A14\", \"A12\", \"A13\", \"A14\", \"A12\", \"A14\", \"A13\", \"A14\", \"A14\", \"A14\", \"A14\", \"A14\", \"A14\", \"A11\", \"A14\", \"A14\", \"A14\", \"A14\", \"A14\", \"A12\", \"A14\", \"A13\", \"A12\", \"A14\", \"A11\", \"A11\", \"A12\", \"A12\", \"A11\", \"A14\", \"A14\", \"A12\", \"A14\", \"A14\", \"A13\", \"A13\", \"A12\", \"A12\", \"A14\", \"A12\", \"A12\", \"A14\", \"A14\", \"A11\", \"A14\", \"A14\", \"A14\", \"A13\", \"A12\", \"A12\", \"A14\", \"A14\", \"A13\", \"A12\", \"A12\", \"A14\", \"A14\", \"A12\", \"A11\", \"A14\", \"A11\", \"A12\", \"A14\", \"A11\", \"A11\", \"A11\", \"A11\", \"A14\", \"A14\", \"A11\", \"A12\", \"A14\", \"A13\", \"A14\", \"A14\", \"A11\", \"A14\", \"A12\", \"A14\", \"A12\", \"A14\", \"A11\", \"A14\", \"A14\", \"A13\", \"A14\", \"A11\", \"A14\", \"A12\", \"A14\", \"A12\", \"A12\", \"A12\", \"A14\", \"A14\", \"A14\", \"A14\", \"A13\", \"A14\", \"A14\", \"A14\", \"A14\", \"A12\", \"A14\", \"A12\", \"A11\", \"A14\", \"A12\", \"A12\", \"A14\", \"A12\", \"A12\", \"A12\", \"A12\", \"A14\", \"A14\", \"A11\", \"A14\", \"A13\", \"A11\", \"A14\", \"A11\", \"A12\", \"A14\", \"A12\", \"A14\", \"A14\", \"A11\", \"A14\", \"A14\", \"A14\", \"A14\", \"A12\", \"A14\", \"A11\", \"A14\", \"A14\", \"A14\", \"A14\", \"A14\", \"A14\", \"A14\", \"A14\", \"A14\", \"A14\", \"A11\", \"A14\", \"A14\", \"A11\", \"A14\", \"A13\", \"A11\", \"A14\", \"A11\", \"A12\", \"A11\", \"A14\", \"A14\", \"A14\", \"A14\", \"A12\", \"A14\", \"A12\", \"A14\", \"A14\", \"A11\", \"A14\", \"A11\", \"A12\", \"A14\", \"A14\", \"A11\", \"A14\", \"A14\", \"A14\", \"A14\", \"A14\", \"A14\", \"A11\", \"A11\", \"A12\", \"A14\", \"A12\", \"A14\", \"A12\", \"A14\", \"A14\", \"A14\", \"A14\", \"A12\", \"A11\", \"A14\", \"A11\", \"A11\", \"A14\", \"A14\", \"A11\", \"A12\", \"A14\", \"A14\", \"A14\", \"A14\", \"A14\", \"A11\", \"A12\", \"A14\", \"A12\", \"A11\", \"A11\", \"A13\", \"A12\", \"A12\", \"A14\", \"A12\", \"A14\", \"A12\", \"A12\", \"A14\", \"A14\", \"A11\", \"A12\", \"A14\", \"A14\", \"A13\", \"A12\", \"A12\", \"A13\", \"A14\", \"A11\", \"A13\", \"A14\", \"A11\", \"A12\", \"A14\", \"A14\", \"A11\", \"A11\", \"A14\", \"A14\", \"A11\", \"A14\", \"A12\"], \"y\": [1169, 2096, 7882, 9055, 2835, 6948, 3059, 1567, 1403, 2424, 8072, 3430, 2134, 2647, 2241, 1804, 2069, 1374, 426, 409, 2415, 1913, 4020, 5866, 1264, 1474, 6110, 1225, 458, 2333, 1158, 6204, 6187, 1393, 2299, 1352, 7228, 2073, 2333, 5965, 1262, 3378, 783, 9566, 1961, 1391, 1537, 3181, 5190, 2171, 1007, 2394, 8133, 730, 1164, 5954, 1526, 4771, 9436, 3832, 1213, 1568, 1755, 2315, 1412, 1295, 2249, 618, 1409, 3617, 1318, 2012, 2622, 2337, 7057, 1469, 2323, 932, 1919, 2445, 6078, 7721, 1410, 1449, 392, 6260, 1680, 3578, 2132, 2366, 3868, 1768, 781, 2121, 701, 1860, 8487, 2708, 1984, 10144, 1240, 8613, 2728, 1881, 709, 4795, 3416, 2288, 3566, 860, 682, 5371, 1582, 1346, 1924, 5848, 7758, 6967, 1288, 339, 3512, 1898, 2872, 1055, 1262, 7308, 909, 2978, 1577, 3972, 763, 1414, 2577, 338, 1963, 571, 3777, 1360, 1175, 3244, 2108, 1382, 2760, 936, 1168, 5117, 1495, 10623, 1935, 1424, 6568, 1413, 3074, 3835, 3342, 932, 3104, 3913, 3021, 1364, 625, 1200, 707, 2978, 4657, 2613, 3149, 2507, 2141, 866, 1544, 1291, 2522, 1595, 1185, 3447, 1258, 717, 1204, 1925, 666, 2251, 4151, 2030, 7418, 2684, 3812, 1154, 1657, 1603, 5302, 2748, 1231, 6304, 1533, 999, 2662, 1402, 12169, 2697, 2404, 1262, 1901, 3368, 1574, 1445, 1520, 3878, 10722, 4788, 7582, 1092, 1076, 6419, 4796, 7629, 4675, 1287, 2515, 2745, 672, 1038, 1543, 4811, 276, 5381, 5511, 3749, 1494, 708, 4351, 701, 3643, 2910, 2659, 1028, 3398, 5801, 1525, 4473, 1068, 6615, 2101, 4169, 1521, 5743, 3599, 3213, 4439, 3949, 1459, 882, 3758, 1743, 1236, 3229, 727, 2331, 776, 1239, 3399, 2247, 1766, 1542, 3850, 3650, 3001, 3079, 6070, 2146, 13756, 2320, 846, 362, 2212, 1283, 1330, 4272, 2238, 1126, 7374, 2326, 1449, 1820, 983, 3249, 1957, 2406, 11760, 2578, 2348, 1516, 1473, 1887, 802, 2899, 2197, 1053, 3235, 1967, 7253, 1597, 5842, 8471, 2782, 3186, 2028, 958, 1591, 2779, 2743, 1149, 1313, 3448, 1872, 2058, 2136, 660, 1287, 3394, 1884, 1620, 2629, 1244, 2576, 1424, 11054, 518, 2759, 2670, 2679, 3905, 343, 4594, 3620, 1721, 3017, 754, 1950, 2924, 7238, 2764, 4679, 1238, 2569, 5152, 1037, 1478, 3573, 1201, 3622, 960, 1163, 3077, 3757, 1418, 3518, 1934, 1237, 368, 2122, 1585, 1301, 1323, 5493, 1126, 2360, 1413, 8588, 4686, 2687, 585, 2255, 609, 1361, 1203, 700, 5507, 3488, 1113, 7966, 1532, 1503, 662, 2273, 1503, 1311, 3105, 1374, 3612, 3049, 2032, 1255, 2022, 1552, 8858, 996, 1750, 1995, 1199, 2964, 683, 4712, 1553, 2578, 3979, 5954, 5433, 806, 1082, 2788, 2930, 1927, 937, 3124, 1388, 2133, 2799, 1289, 385, 1965, 1572, 3863, 2329, 1275, 2828, 4526, 2051, 1300, 3357, 3632, 12204, 9157, 3676, 640, 3652, 1858, 1979, 2116, 4042, 3832, 3660, 1444, 1393, 1376, 15653, 1493, 1308, 1851, 1880, 4583, 7476, 2346, 3973, 10222, 4221, 6361, 1297, 2241, 1050, 1047, 6314, 3496, 3609, 3017, 4139, 5742, 10366, 2080, 4530, 5150, 2384, 1453, 1538, 2279, 1478, 5103, 9857, 6527, 1347, 2862, 2753, 3651, 975, 2631, 2896, 4716, 2284, 1236, 1103, 926, 1800, 1905, 1377, 2503, 2528, 5324, 1206, 2118, 629, 2476, 1138, 7596, 3077, 1505, 3148, 6148, 790, 250, 1316, 1275, 6403, 760, 2603, 3380, 3990, 4380, 6761, 2325, 1048, 3160, 2483, 14179, 1797, 2511, 5248, 3029, 428, 841, 5771, 1299, 1393, 5045, 2214, 2463, 1155, 2901, 3617, 1655, 2812, 3275, 2223, 1480, 3535, 3509, 5711, 3872, 1940, 1410, 6468, 1941, 2675, 2751, 6313, 1221, 2892, 3062, 2301, 1258, 717, 1549, 1597, 1795, 4272, 976, 7472, 590, 930, 9283, 907, 484, 7432, 1338, 1554, 15857, 1101, 3016, 731, 3780, 1602, 6681, 2375, 5084, 886, 601, 2957, 2611, 2993, 1559, 3422, 3976, 1249, 1364, 4042, 1471, 10875, 1474, 894, 3343, 3577, 5804, 4526, 2221, 2389, 3331, 7409, 652, 7678, 1343, 1382, 874, 3590, 1322, 1940, 3595, 6742, 7814, 9277, 2181, 1098, 2825, 6614, 7824, 2442, 1829, 2171, 5800, 1169, 8947, 2606, 1592, 2186, 3485, 10477, 1386, 1278, 1107, 3763, 3711, 3594, 3195, 4454, 2991, 2142, 2848, 1817, 12749, 2002, 1049, 1867, 1344, 1747, 1224, 522, 1498, 2063, 6842, 3527, 1546, 929, 1455, 1845, 8358, 2859, 3590, 1893, 1231, 3656, 1154, 3069, 1740, 2353, 3556, 454, 1715, 3568, 7166, 3939, 1514, 7393, 2831, 1258, 753, 2427, 2923, 2028, 1433, 6289, 1409, 6579, 1743, 3565, 1569, 1936, 3959, 2390, 1736, 3857, 804, 4576]}, {\"marker\": {\"color\": \"#FF4136\"}, \"name\": \"Bad credit\", \"type\": \"box\", \"x\": [\"A12\", \"A11\", \"A12\", \"A12\", \"A11\", \"A11\", \"A11\", \"A12\", \"A11\", \"A12\", \"A13\", \"A11\", \"A12\", \"A12\", \"A11\", \"A12\", \"A12\", \"A14\", \"A11\", \"A11\", \"A14\", \"A12\", \"A11\", \"A14\", \"A12\", \"A12\", \"A14\", \"A14\", \"A11\", \"A11\", \"A11\", \"A12\", \"A12\", \"A11\", \"A11\", \"A12\", \"A11\", \"A11\", \"A11\", \"A12\", \"A11\", \"A12\", \"A11\", \"A14\", \"A14\", \"A12\", \"A11\", \"A12\", \"A12\", \"A11\", \"A14\", \"A12\", \"A12\", \"A12\", \"A12\", \"A12\", \"A12\", \"A11\", \"A11\", \"A13\", \"A12\", \"A11\", \"A14\", \"A13\", \"A11\", \"A12\", \"A12\", \"A11\", \"A11\", \"A14\", \"A12\", \"A11\", \"A12\", \"A11\", \"A12\", \"A11\", \"A14\", \"A11\", \"A12\", \"A12\", \"A12\", \"A13\", \"A14\", \"A11\", \"A12\", \"A12\", \"A11\", \"A12\", \"A11\", \"A14\", \"A12\", \"A14\", \"A11\", \"A11\", \"A11\", \"A12\", \"A12\", \"A11\", \"A12\", \"A14\", \"A11\", \"A11\", \"A11\", \"A12\", \"A11\", \"A12\", \"A12\", \"A12\", \"A14\", \"A12\", \"A13\", \"A14\", \"A11\", \"A11\", \"A12\", \"A12\", \"A11\", \"A12\", \"A12\", \"A13\", \"A14\", \"A12\", \"A11\", \"A12\", \"A11\", \"A11\", \"A11\", \"A12\", \"A11\", \"A11\", \"A12\", \"A11\", \"A12\", \"A12\", \"A11\", \"A12\", \"A11\", \"A12\", \"A11\", \"A14\", \"A12\", \"A11\", \"A14\", \"A11\", \"A11\", \"A11\", \"A12\", \"A13\", \"A11\", \"A12\", \"A11\", \"A13\", \"A11\", \"A11\", \"A11\", \"A12\", \"A12\", \"A14\", \"A11\", \"A12\", \"A11\", \"A12\", \"A11\", \"A11\", \"A11\", \"A12\", \"A12\", \"A12\", \"A11\", \"A11\", \"A11\", \"A12\", \"A11\", \"A12\", \"A11\", \"A12\", \"A14\", \"A12\", \"A12\", \"A14\", \"A12\", \"A11\", \"A13\", \"A14\", \"A12\", \"A14\", \"A14\", \"A11\", \"A12\", \"A11\", \"A14\", \"A12\", \"A11\", \"A11\", \"A14\", \"A14\", \"A14\", \"A13\", \"A11\", \"A12\", \"A11\", \"A12\", \"A12\", \"A11\", \"A11\", \"A14\", \"A12\", \"A14\", \"A11\", \"A12\", \"A12\", \"A11\", \"A12\", \"A13\", \"A12\", \"A11\", \"A14\", \"A11\", \"A12\", \"A11\", \"A12\", \"A12\", \"A11\", \"A11\", \"A14\", \"A11\", \"A13\", \"A11\", \"A11\", \"A14\", \"A11\", \"A11\", \"A11\", \"A12\", \"A12\", \"A12\", \"A11\", \"A12\", \"A11\", \"A11\", \"A12\", \"A11\", \"A11\", \"A11\", \"A11\", \"A11\", \"A11\", \"A14\", \"A11\", \"A11\", \"A11\", \"A13\", \"A11\", \"A11\", \"A14\", \"A14\", \"A11\", \"A11\", \"A11\", \"A11\", \"A14\", \"A11\", \"A14\", \"A11\", \"A12\", \"A11\", \"A12\", \"A11\", \"A11\", \"A12\", \"A11\", \"A12\", \"A11\", \"A11\", \"A11\", \"A11\", \"A11\", \"A11\", \"A11\", \"A12\", \"A12\", \"A13\", \"A12\", \"A11\", \"A14\", \"A14\", \"A11\", \"A12\", \"A14\", \"A11\", \"A14\", \"A12\", \"A11\", \"A11\", \"A14\", \"A12\", \"A12\", \"A14\", \"A11\", \"A11\"], \"y\": [5951, 4870, 5234, 1295, 4308, 1199, 1282, 12579, 6836, 4746, 2100, 6143, 2225, 6468, 6229, 1953, 14421, 1819, 1977, 3965, 5943, 12612, 1108, 797, 15945, 11938, 6458, 7855, 7174, 4281, 1835, 1924, 639, 3499, 6887, 766, 2462, 1282, 1131, 1935, 950, 2064, 3414, 7485, 9572, 4455, 1647, 884, 5129, 674, 4591, 3844, 3915, 3031, 1501, 951, 4297, 902, 5293, 1908, 10961, 7865, 1478, 4210, 1823, 14555, 2767, 915, 4605, 433, 2150, 2149, 802, 8978, 3060, 11998, 4611, 1024, 9398, 9960, 3804, 1344, 10127, 727, 1237, 685, 2746, 4249, 1938, 1864, 7408, 11590, 4110, 3384, 1275, 1136, 959, 6199, 1246, 4463, 2406, 2473, 3446, 14782, 7685, 14318, 12976, 1223, 8648, 2039, 939, 2292, 1381, 2579, 1042, 2762, 1190, 11328, 1484, 609, 719, 5096, 1842, 1512, 4817, 3386, 1659, 3092, 448, 654, 1245, 3114, 1209, 8318, 2996, 9034, 3123, 1216, 1207, 1309, 6850, 759, 7127, 3190, 7119, 2302, 2631, 2319, 7763, 1534, 6350, 2864, 1333, 626, 6999, 1331, 2278, 5003, 3552, 1928, 1546, 12389, 1372, 6758, 3234, 2820, 1056, 2384, 2039, 1217, 2246, 2718, 1358, 931, 1442, 4241, 2775, 918, 1837, 3349, 2671, 741, 1240, 1808, 3441, 1530, 3914, 2600, 1437, 1553, 1980, 1355, 4370, 750, 4623, 7980, 1386, 947, 684, 1922, 2303, 8086, 888, 900, 4843, 2580, 5595, 1123, 6331, 6560, 2969, 1198, 14027, 1337, 433, 1228, 2570, 1882, 6416, 1987, 11560, 4280, 1274, 976, 1555, 1285, 1271, 691, 2124, 12680, 3108, 8065, 1371, 4933, 836, 6224, 5998, 1188, 7511, 9271, 1778, 9629, 3051, 3931, 1345, 2712, 3966, 4165, 8335, 1216, 11816, 2327, 1082, 5179, 1943, 6761, 709, 2235, 1442, 3959, 2169, 2439, 2210, 1422, 4057, 795, 15672, 4153, 2625, 4736, 3161, 18424, 14896, 2359, 3345, 1366, 6872, 697, 10297, 1670, 1919, 745, 6288, 3349, 1533, 3621, 2145, 4113, 10974, 4006, 2397, 2520, 1193, 7297, 2538, 1264, 8386, 4844, 8229, 1845]}],\n",
       "                        {\"boxmode\": \"group\", \"template\": {\"data\": {\"bar\": [{\"error_x\": {\"color\": \"#2a3f5f\"}, \"error_y\": {\"color\": \"#2a3f5f\"}, \"marker\": {\"line\": {\"color\": \"#E5ECF6\", \"width\": 0.5}}, \"type\": \"bar\"}], \"barpolar\": [{\"marker\": {\"line\": {\"color\": \"#E5ECF6\", \"width\": 0.5}}, \"type\": \"barpolar\"}], \"carpet\": [{\"aaxis\": {\"endlinecolor\": \"#2a3f5f\", \"gridcolor\": \"white\", \"linecolor\": \"white\", \"minorgridcolor\": \"white\", \"startlinecolor\": \"#2a3f5f\"}, \"baxis\": {\"endlinecolor\": \"#2a3f5f\", \"gridcolor\": \"white\", \"linecolor\": \"white\", \"minorgridcolor\": \"white\", \"startlinecolor\": \"#2a3f5f\"}, \"type\": \"carpet\"}], \"choropleth\": [{\"colorbar\": {\"outlinewidth\": 0, \"ticks\": \"\"}, \"type\": \"choropleth\"}], \"contour\": [{\"colorbar\": {\"outlinewidth\": 0, \"ticks\": \"\"}, \"colorscale\": [[0.0, \"#0d0887\"], [0.1111111111111111, \"#46039f\"], [0.2222222222222222, \"#7201a8\"], [0.3333333333333333, \"#9c179e\"], [0.4444444444444444, \"#bd3786\"], [0.5555555555555556, \"#d8576b\"], [0.6666666666666666, \"#ed7953\"], [0.7777777777777778, \"#fb9f3a\"], [0.8888888888888888, \"#fdca26\"], [1.0, \"#f0f921\"]], \"type\": \"contour\"}], \"contourcarpet\": [{\"colorbar\": {\"outlinewidth\": 0, \"ticks\": \"\"}, \"type\": \"contourcarpet\"}], \"heatmap\": [{\"colorbar\": {\"outlinewidth\": 0, \"ticks\": \"\"}, \"colorscale\": [[0.0, \"#0d0887\"], [0.1111111111111111, \"#46039f\"], [0.2222222222222222, \"#7201a8\"], [0.3333333333333333, \"#9c179e\"], [0.4444444444444444, \"#bd3786\"], [0.5555555555555556, \"#d8576b\"], [0.6666666666666666, \"#ed7953\"], [0.7777777777777778, \"#fb9f3a\"], [0.8888888888888888, \"#fdca26\"], [1.0, \"#f0f921\"]], \"type\": \"heatmap\"}], \"heatmapgl\": [{\"colorbar\": {\"outlinewidth\": 0, \"ticks\": \"\"}, \"colorscale\": [[0.0, \"#0d0887\"], [0.1111111111111111, \"#46039f\"], [0.2222222222222222, \"#7201a8\"], [0.3333333333333333, \"#9c179e\"], [0.4444444444444444, \"#bd3786\"], [0.5555555555555556, \"#d8576b\"], [0.6666666666666666, \"#ed7953\"], [0.7777777777777778, \"#fb9f3a\"], [0.8888888888888888, \"#fdca26\"], [1.0, \"#f0f921\"]], \"type\": \"heatmapgl\"}], \"histogram\": [{\"marker\": {\"colorbar\": {\"outlinewidth\": 0, \"ticks\": \"\"}}, \"type\": \"histogram\"}], \"histogram2d\": [{\"colorbar\": {\"outlinewidth\": 0, \"ticks\": \"\"}, \"colorscale\": [[0.0, \"#0d0887\"], [0.1111111111111111, \"#46039f\"], [0.2222222222222222, \"#7201a8\"], [0.3333333333333333, \"#9c179e\"], [0.4444444444444444, \"#bd3786\"], [0.5555555555555556, \"#d8576b\"], [0.6666666666666666, \"#ed7953\"], [0.7777777777777778, \"#fb9f3a\"], [0.8888888888888888, \"#fdca26\"], [1.0, \"#f0f921\"]], \"type\": \"histogram2d\"}], \"histogram2dcontour\": [{\"colorbar\": {\"outlinewidth\": 0, \"ticks\": \"\"}, \"colorscale\": [[0.0, \"#0d0887\"], [0.1111111111111111, \"#46039f\"], [0.2222222222222222, \"#7201a8\"], [0.3333333333333333, \"#9c179e\"], [0.4444444444444444, \"#bd3786\"], [0.5555555555555556, \"#d8576b\"], [0.6666666666666666, \"#ed7953\"], [0.7777777777777778, \"#fb9f3a\"], [0.8888888888888888, \"#fdca26\"], [1.0, \"#f0f921\"]], \"type\": \"histogram2dcontour\"}], \"mesh3d\": [{\"colorbar\": {\"outlinewidth\": 0, \"ticks\": \"\"}, \"type\": \"mesh3d\"}], \"parcoords\": [{\"line\": {\"colorbar\": {\"outlinewidth\": 0, \"ticks\": \"\"}}, \"type\": \"parcoords\"}], \"pie\": [{\"automargin\": true, \"type\": \"pie\"}], \"scatter\": [{\"marker\": {\"colorbar\": {\"outlinewidth\": 0, \"ticks\": \"\"}}, \"type\": \"scatter\"}], \"scatter3d\": [{\"line\": {\"colorbar\": {\"outlinewidth\": 0, \"ticks\": \"\"}}, \"marker\": {\"colorbar\": {\"outlinewidth\": 0, \"ticks\": \"\"}}, \"type\": \"scatter3d\"}], \"scattercarpet\": [{\"marker\": {\"colorbar\": {\"outlinewidth\": 0, \"ticks\": \"\"}}, \"type\": \"scattercarpet\"}], \"scattergeo\": [{\"marker\": {\"colorbar\": {\"outlinewidth\": 0, \"ticks\": \"\"}}, \"type\": \"scattergeo\"}], \"scattergl\": [{\"marker\": {\"colorbar\": {\"outlinewidth\": 0, \"ticks\": \"\"}}, \"type\": \"scattergl\"}], \"scattermapbox\": [{\"marker\": {\"colorbar\": {\"outlinewidth\": 0, \"ticks\": \"\"}}, \"type\": \"scattermapbox\"}], \"scatterpolar\": [{\"marker\": {\"colorbar\": {\"outlinewidth\": 0, \"ticks\": \"\"}}, \"type\": \"scatterpolar\"}], \"scatterpolargl\": [{\"marker\": {\"colorbar\": {\"outlinewidth\": 0, \"ticks\": \"\"}}, \"type\": \"scatterpolargl\"}], \"scatterternary\": [{\"marker\": {\"colorbar\": {\"outlinewidth\": 0, \"ticks\": \"\"}}, \"type\": \"scatterternary\"}], \"surface\": [{\"colorbar\": {\"outlinewidth\": 0, \"ticks\": \"\"}, \"colorscale\": [[0.0, \"#0d0887\"], [0.1111111111111111, \"#46039f\"], [0.2222222222222222, \"#7201a8\"], [0.3333333333333333, \"#9c179e\"], [0.4444444444444444, \"#bd3786\"], [0.5555555555555556, \"#d8576b\"], [0.6666666666666666, \"#ed7953\"], [0.7777777777777778, \"#fb9f3a\"], [0.8888888888888888, \"#fdca26\"], [1.0, \"#f0f921\"]], \"type\": \"surface\"}], \"table\": [{\"cells\": {\"fill\": {\"color\": \"#EBF0F8\"}, \"line\": {\"color\": \"white\"}}, \"header\": {\"fill\": {\"color\": \"#C8D4E3\"}, \"line\": {\"color\": \"white\"}}, \"type\": \"table\"}]}, \"layout\": {\"annotationdefaults\": {\"arrowcolor\": \"#2a3f5f\", \"arrowhead\": 0, \"arrowwidth\": 1}, \"coloraxis\": {\"colorbar\": {\"outlinewidth\": 0, \"ticks\": \"\"}}, \"colorscale\": {\"diverging\": [[0, \"#8e0152\"], [0.1, \"#c51b7d\"], [0.2, \"#de77ae\"], [0.3, \"#f1b6da\"], [0.4, \"#fde0ef\"], [0.5, \"#f7f7f7\"], [0.6, \"#e6f5d0\"], [0.7, \"#b8e186\"], [0.8, \"#7fbc41\"], [0.9, \"#4d9221\"], [1, \"#276419\"]], \"sequential\": [[0.0, \"#0d0887\"], [0.1111111111111111, \"#46039f\"], [0.2222222222222222, \"#7201a8\"], [0.3333333333333333, \"#9c179e\"], [0.4444444444444444, \"#bd3786\"], [0.5555555555555556, \"#d8576b\"], [0.6666666666666666, \"#ed7953\"], [0.7777777777777778, \"#fb9f3a\"], [0.8888888888888888, \"#fdca26\"], [1.0, \"#f0f921\"]], \"sequentialminus\": [[0.0, \"#0d0887\"], [0.1111111111111111, \"#46039f\"], [0.2222222222222222, \"#7201a8\"], [0.3333333333333333, \"#9c179e\"], [0.4444444444444444, \"#bd3786\"], [0.5555555555555556, \"#d8576b\"], [0.6666666666666666, \"#ed7953\"], [0.7777777777777778, \"#fb9f3a\"], [0.8888888888888888, \"#fdca26\"], [1.0, \"#f0f921\"]]}, \"colorway\": [\"#636efa\", \"#EF553B\", \"#00cc96\", \"#ab63fa\", \"#FFA15A\", \"#19d3f3\", \"#FF6692\", \"#B6E880\", \"#FF97FF\", \"#FECB52\"], \"font\": {\"color\": \"#2a3f5f\"}, \"geo\": {\"bgcolor\": \"white\", \"lakecolor\": \"white\", \"landcolor\": \"#E5ECF6\", \"showlakes\": true, \"showland\": true, \"subunitcolor\": \"white\"}, \"hoverlabel\": {\"align\": \"left\"}, \"hovermode\": \"closest\", \"mapbox\": {\"style\": \"light\"}, \"paper_bgcolor\": \"white\", \"plot_bgcolor\": \"#E5ECF6\", \"polar\": {\"angularaxis\": {\"gridcolor\": \"white\", \"linecolor\": \"white\", \"ticks\": \"\"}, \"bgcolor\": \"#E5ECF6\", \"radialaxis\": {\"gridcolor\": \"white\", \"linecolor\": \"white\", \"ticks\": \"\"}}, \"scene\": {\"xaxis\": {\"backgroundcolor\": \"#E5ECF6\", \"gridcolor\": \"white\", \"gridwidth\": 2, \"linecolor\": \"white\", \"showbackground\": true, \"ticks\": \"\", \"zerolinecolor\": \"white\"}, \"yaxis\": {\"backgroundcolor\": \"#E5ECF6\", \"gridcolor\": \"white\", \"gridwidth\": 2, \"linecolor\": \"white\", \"showbackground\": true, \"ticks\": \"\", \"zerolinecolor\": \"white\"}, \"zaxis\": {\"backgroundcolor\": \"#E5ECF6\", \"gridcolor\": \"white\", \"gridwidth\": 2, \"linecolor\": \"white\", \"showbackground\": true, \"ticks\": \"\", \"zerolinecolor\": \"white\"}}, \"shapedefaults\": {\"line\": {\"color\": \"#2a3f5f\"}}, \"ternary\": {\"aaxis\": {\"gridcolor\": \"white\", \"linecolor\": \"white\", \"ticks\": \"\"}, \"baxis\": {\"gridcolor\": \"white\", \"linecolor\": \"white\", \"ticks\": \"\"}, \"bgcolor\": \"#E5ECF6\", \"caxis\": {\"gridcolor\": \"white\", \"linecolor\": \"white\", \"ticks\": \"\"}}, \"title\": {\"x\": 0.05}, \"xaxis\": {\"automargin\": true, \"gridcolor\": \"white\", \"linecolor\": \"white\", \"ticks\": \"\", \"title\": {\"standoff\": 15}, \"zerolinecolor\": \"white\", \"zerolinewidth\": 2}, \"yaxis\": {\"automargin\": true, \"gridcolor\": \"white\", \"linecolor\": \"white\", \"ticks\": \"\", \"title\": {\"standoff\": 15}, \"zerolinecolor\": \"white\", \"zerolinewidth\": 2}}}, \"yaxis\": {\"title\": {\"text\": \"Cheking distribuition\"}}},\n",
       "                        {\"responsive\": true}\n",
       "                    ).then(function(){\n",
       "                            \n",
       "var gd = document.getElementById('56144f1c-0ae3-43fc-99e0-1439bf525557');\n",
       "var x = new MutationObserver(function (mutations, observer) {{\n",
       "        var display = window.getComputedStyle(gd).display;\n",
       "        if (!display || display === 'none') {{\n",
       "            console.log([gd, 'removed!']);\n",
       "            Plotly.purge(gd);\n",
       "            observer.disconnect();\n",
       "        }}\n",
       "}});\n",
       "\n",
       "// Listen for the removal of the full notebook cells\n",
       "var notebookContainer = gd.closest('#notebook-container');\n",
       "if (notebookContainer) {{\n",
       "    x.observe(notebookContainer, {childList: true});\n",
       "}}\n",
       "\n",
       "// Listen for the clearing of the current output cell\n",
       "var outputEl = gd.closest('.output');\n",
       "if (outputEl) {{\n",
       "    x.observe(outputEl, {childList: true});\n",
       "}}\n",
       "\n",
       "                        })\n",
       "                };\n",
       "                });\n",
       "            </script>\n",
       "        </div>"
      ]
     },
     "metadata": {},
     "output_type": "display_data"
    }
   ],
   "source": [
    "df_good = df[df[\"Class\"] == 1]\n",
    "df_bad = df[df[\"Class\"] == 2]\n",
    "\n",
    "trace0 = go.Box(\n",
    "    y=df_good[\"CreditAmount\"],\n",
    "    x=df_good[\"CheckingAccount\"],\n",
    "    name='Good credit',\n",
    "    marker=dict(\n",
    "        color='#3D9970'\n",
    "    )\n",
    ")\n",
    "\n",
    "trace1 = go.Box(\n",
    "    y=df_bad['CreditAmount'],\n",
    "    x=df_bad['CheckingAccount'],\n",
    "    name='Bad credit',\n",
    "    marker=dict(\n",
    "        color='#FF4136'\n",
    "    )\n",
    ")\n",
    "    \n",
    "data = [trace0, trace1]\n",
    "\n",
    "layout = go.Layout(\n",
    "    yaxis=dict(\n",
    "        title='Cheking distribuition'\n",
    "    ),\n",
    "    boxmode='group'\n",
    ")\n",
    "fig = go.Figure(data=data, layout=layout)\n",
    "\n",
    "py.iplot(fig, filename='box-age-cat')"
   ]
  },
  {
   "cell_type": "markdown",
   "metadata": {},
   "source": [
    "### EDA insights :\n",
    "#### People needing credit to buy New car have high proportion of returning\n",
    "#### Almost everyone have no other debtor option those applied for credit\n",
    "#### People who Owns the house tend to return credit on time "
   ]
  },
  {
   "cell_type": "markdown",
   "metadata": {},
   "source": [
    "# Hypothesis\n"
   ]
  },
  {
   "cell_type": "markdown",
   "metadata": {},
   "source": [
    "## H0: Credit rank is independent of Column attributes "
   ]
  },
  {
   "cell_type": "markdown",
   "metadata": {},
   "source": [
    "## H1: Credit rank is dependent on Column attributes"
   ]
  },
  {
   "cell_type": "markdown",
   "metadata": {},
   "source": [
    "### For categorical variables we use chi square test to test the independence"
   ]
  },
  {
   "cell_type": "code",
   "execution_count": 16,
   "metadata": {},
   "outputs": [
    {
     "data": {
      "text/plain": [
       "Index(['CheckingAccount', 'DurationMonths', 'CreditHistory', 'Purpose',\n",
       "       'CreditAmount', 'SavingAccounts', 'PresentEmployment',\n",
       "       'InstallmentRate', 'PersonalStatus', 'OtherDebtors', 'PresentResidence',\n",
       "       'Property', 'Age', 'OtherInstallmentPlans', 'Housing',\n",
       "       'ExistingCredits', 'Job', 'NumLiables', 'Telephone', 'ForeignWorker',\n",
       "       'Class'],\n",
       "      dtype='object')"
      ]
     },
     "execution_count": 16,
     "metadata": {},
     "output_type": "execute_result"
    }
   ],
   "source": [
    "df.columns"
   ]
  },
  {
   "cell_type": "code",
   "execution_count": 17,
   "metadata": {},
   "outputs": [],
   "source": [
    "categoricalColumns=['CheckingAccount' , 'CreditHistory','Purpose',\n",
    "         'SavingAccounts', 'PresentEmployment', \n",
    "          'PersonalStatus', 'OtherDebtors', 'Property',\n",
    "         'OtherInstallmentPlans','Housing', 'Job',\n",
    "         'Telephone','ForeignWorker']"
   ]
  },
  {
   "cell_type": "code",
   "execution_count": 19,
   "metadata": {},
   "outputs": [],
   "source": [
    "from scipy import stats"
   ]
  },
  {
   "cell_type": "code",
   "execution_count": 21,
   "metadata": {},
   "outputs": [
    {
     "name": "stdout",
     "output_type": "stream",
     "text": [
      "1 CheckingAccount have association with Credit ranking\n",
      "2 CreditHistory have association with Credit ranking\n",
      "3 Purpose have association with Credit ranking\n",
      "4 SavingAccounts have association with Credit ranking\n",
      "5 PresentEmployment have association with Credit ranking\n",
      "6 PersonalStatus have association with Credit ranking\n",
      "7 OtherDebtors have association with Credit ranking\n",
      "8 Property have association with Credit ranking\n",
      "9 OtherInstallmentPlans have association with Credit ranking\n",
      "10 Housing have association with Credit ranking\n",
      "11 Job have no assocication with credit ranking\n",
      "12 Telephone have no assocication with credit ranking\n",
      "13 ForeignWorker have association with Credit ranking\n"
     ]
    }
   ],
   "source": [
    "count=0\n",
    "\n",
    "for var in categoricalColumns:\n",
    "    data_count=pd.crosstab(df[var],df[\"Class\"]).reset_index()\n",
    "    obs=np.asarray(data_count[[2,1]])\n",
    "    chi2, p, dof, expected = stats.chi2_contingency(obs)\n",
    "    count+=1\n",
    "    if p<0.05:\n",
    "        print(str(count)+\" \"+ var  +\" have association with Credit ranking\")\n",
    "    else:\n",
    "        print (str(count)+\" \"+ var +\" have no assocication with credit ranking\")\n",
    "        "
   ]
  },
  {
   "cell_type": "markdown",
   "metadata": {},
   "source": [
    "### Job and Telephone have no association with credit ranking, so we can drop these"
   ]
  },
  {
   "cell_type": "markdown",
   "metadata": {},
   "source": [
    "# Hypothesis 2: \n"
   ]
  },
  {
   "cell_type": "markdown",
   "metadata": {},
   "source": [
    "## H0: There is no difference between mean ages of Good and Bad\n",
    "## H1: There is a difference between mean ages of Good and Bad"
   ]
  },
  {
   "cell_type": "code",
   "execution_count": 26,
   "metadata": {},
   "outputs": [],
   "source": [
    "bad=pd.DataFrame(df[df[\"Class\"]==2])\n",
    "good=pd.DataFrame(df[df[\"Class\"]==1])"
   ]
  },
  {
   "cell_type": "code",
   "execution_count": 28,
   "metadata": {},
   "outputs": [],
   "source": [
    "from statsmodels.stats import weightstats as stests"
   ]
  },
  {
   "cell_type": "code",
   "execution_count": 31,
   "metadata": {},
   "outputs": [
    {
     "name": "stdout",
     "output_type": "stream",
     "text": [
      "0.0038420551244691247\n",
      "reject null hypothesis\n"
     ]
    }
   ],
   "source": [
    "ztest ,pval = stests.ztest(bad['Age'], x2=good['Age'], value=0,alternative='two-sided')\n",
    "print(float(pval))\n",
    "if pval<0.05:\n",
    "    print(\"reject null hypothesis\")\n",
    "else:\n",
    "    print(\"accept null hypothesis\")"
   ]
  },
  {
   "cell_type": "markdown",
   "metadata": {},
   "source": [
    "## So there is difference between mean ages of good and bad"
   ]
  },
  {
   "cell_type": "code",
   "execution_count": 34,
   "metadata": {},
   "outputs": [
    {
     "name": "stdout",
     "output_type": "stream",
     "text": [
      "Mean of Bad: 33.96333333333333 , Mean of Good: 36.22428571428571 \n"
     ]
    }
   ],
   "source": [
    "print(\"Mean of Bad: {0} , Mean of Good: {1} \".format(np.mean(bad['Age']),np.mean(good['Age'])))"
   ]
  },
  {
   "cell_type": "code",
   "execution_count": 35,
   "metadata": {},
   "outputs": [],
   "source": [
    "colnames=df.columns.to_list()"
   ]
  },
  {
   "cell_type": "code",
   "execution_count": 36,
   "metadata": {},
   "outputs": [],
   "source": [
    "for attr in colnames:\n",
    "    if df[attr].dtype=='object':\n",
    "        df = df.merge(pd.get_dummies(df[attr], prefix=attr), left_index=True, right_index=True)\n",
    "        df.drop(attr,axis=1,inplace=True)\n",
    "        "
   ]
  },
  {
   "cell_type": "code",
   "execution_count": 37,
   "metadata": {},
   "outputs": [
    {
     "data": {
      "image/png": "[encoded data removed]",
      "text/plain": [
       "<Figure size 864x1008 with 3 Axes>"
      ]
     },
     "metadata": {
      "needs_background": "light"
     },
     "output_type": "display_data"
    }
   ],
   "source": [
    "plt.figure(figsize = (12,14))\n",
    "\n",
    "g= plt.subplot(311)\n",
    "g = sns.countplot(x=\"DurationMonths\", data=df, \n",
    "              palette=\"hls\",  hue = \"Class\")\n",
    "g.set_xlabel(\"Duration Distribuition\", fontsize=12)\n",
    "g.set_ylabel(\"Count\", fontsize=12)\n",
    "g.set_title(\"Duration Count\", fontsize=20)\n",
    "\n",
    "g1 = plt.subplot(312)\n",
    "g1 = sns.pointplot(x=\"DurationMonths\", y =\"CreditAmount\",data=df,\n",
    "                   hue=\"Class\", palette=\"hls\")\n",
    "g1.set_xlabel(\"Duration\", fontsize=12)\n",
    "g1.set_ylabel(\"Credit Amount(US)\", fontsize=12)\n",
    "g1.set_title(\"Credit Amount distribuition by Duration\", fontsize=20)\n",
    "\n",
    "g2 = plt.subplot(313)\n",
    "g2 = sns.distplot(df_good[\"DurationMonths\"], color='g')\n",
    "g2 = sns.distplot(df_bad[\"DurationMonths\"], color='r')\n",
    "g2.set_xlabel(\"Duration\", fontsize=12)\n",
    "g2.set_ylabel(\"Frequency\", fontsize=12)\n",
    "g2.set_title(\"Duration Frequency x good and bad Credit\", fontsize=20)\n",
    "\n",
    "plt.subplots_adjust(wspace = 0.4, hspace = 0.4,top = 0.9)\n",
    "\n",
    "plt.show()"
   ]
  },
  {
   "cell_type": "code",
   "execution_count": 42,
   "metadata": {},
   "outputs": [
    {
     "name": "stderr",
     "output_type": "stream",
     "text": [
      "Using TensorFlow backend.\n",
      "C:\\Users\\ahmed\\Anaconda3\\envs\\tf_gpu\\lib\\site-packages\\tensorflow\\python\\framework\\dtypes.py:516: FutureWarning:\n",
      "\n",
      "Passing (type, 1) or '1type' as a synonym of type is deprecated; in a future version of numpy, it will be understood as (type, (1,)) / '(1,)type'.\n",
      "\n",
      "C:\\Users\\ahmed\\Anaconda3\\envs\\tf_gpu\\lib\\site-packages\\tensorflow\\python\\framework\\dtypes.py:517: FutureWarning:\n",
      "\n",
      "Passing (type, 1) or '1type' as a synonym of type is deprecated; in a future version of numpy, it will be understood as (type, (1,)) / '(1,)type'.\n",
      "\n",
      "C:\\Users\\ahmed\\Anaconda3\\envs\\tf_gpu\\lib\\site-packages\\tensorflow\\python\\framework\\dtypes.py:518: FutureWarning:\n",
      "\n",
      "Passing (type, 1) or '1type' as a synonym of type is deprecated; in a future version of numpy, it will be understood as (type, (1,)) / '(1,)type'.\n",
      "\n",
      "C:\\Users\\ahmed\\Anaconda3\\envs\\tf_gpu\\lib\\site-packages\\tensorflow\\python\\framework\\dtypes.py:519: FutureWarning:\n",
      "\n",
      "Passing (type, 1) or '1type' as a synonym of type is deprecated; in a future version of numpy, it will be understood as (type, (1,)) / '(1,)type'.\n",
      "\n",
      "C:\\Users\\ahmed\\Anaconda3\\envs\\tf_gpu\\lib\\site-packages\\tensorflow\\python\\framework\\dtypes.py:520: FutureWarning:\n",
      "\n",
      "Passing (type, 1) or '1type' as a synonym of type is deprecated; in a future version of numpy, it will be understood as (type, (1,)) / '(1,)type'.\n",
      "\n",
      "C:\\Users\\ahmed\\Anaconda3\\envs\\tf_gpu\\lib\\site-packages\\tensorflow\\python\\framework\\dtypes.py:525: FutureWarning:\n",
      "\n",
      "Passing (type, 1) or '1type' as a synonym of type is deprecated; in a future version of numpy, it will be understood as (type, (1,)) / '(1,)type'.\n",
      "\n",
      "C:\\Users\\ahmed\\Anaconda3\\envs\\tf_gpu\\lib\\site-packages\\tensorboard\\compat\\tensorflow_stub\\dtypes.py:541: FutureWarning:\n",
      "\n",
      "Passing (type, 1) or '1type' as a synonym of type is deprecated; in a future version of numpy, it will be understood as (type, (1,)) / '(1,)type'.\n",
      "\n",
      "C:\\Users\\ahmed\\Anaconda3\\envs\\tf_gpu\\lib\\site-packages\\tensorboard\\compat\\tensorflow_stub\\dtypes.py:542: FutureWarning:\n",
      "\n",
      "Passing (type, 1) or '1type' as a synonym of type is deprecated; in a future version of numpy, it will be understood as (type, (1,)) / '(1,)type'.\n",
      "\n",
      "C:\\Users\\ahmed\\Anaconda3\\envs\\tf_gpu\\lib\\site-packages\\tensorboard\\compat\\tensorflow_stub\\dtypes.py:543: FutureWarning:\n",
      "\n",
      "Passing (type, 1) or '1type' as a synonym of type is deprecated; in a future version of numpy, it will be understood as (type, (1,)) / '(1,)type'.\n",
      "\n",
      "C:\\Users\\ahmed\\Anaconda3\\envs\\tf_gpu\\lib\\site-packages\\tensorboard\\compat\\tensorflow_stub\\dtypes.py:544: FutureWarning:\n",
      "\n",
      "Passing (type, 1) or '1type' as a synonym of type is deprecated; in a future version of numpy, it will be understood as (type, (1,)) / '(1,)type'.\n",
      "\n",
      "C:\\Users\\ahmed\\Anaconda3\\envs\\tf_gpu\\lib\\site-packages\\tensorboard\\compat\\tensorflow_stub\\dtypes.py:545: FutureWarning:\n",
      "\n",
      "Passing (type, 1) or '1type' as a synonym of type is deprecated; in a future version of numpy, it will be understood as (type, (1,)) / '(1,)type'.\n",
      "\n",
      "C:\\Users\\ahmed\\Anaconda3\\envs\\tf_gpu\\lib\\site-packages\\tensorboard\\compat\\tensorflow_stub\\dtypes.py:550: FutureWarning:\n",
      "\n",
      "Passing (type, 1) or '1type' as a synonym of type is deprecated; in a future version of numpy, it will be understood as (type, (1,)) / '(1,)type'.\n",
      "\n"
     ]
    }
   ],
   "source": [
    "from sklearn.model_selection import train_test_split, KFold, cross_val_score # to split the data\n",
    "from sklearn.metrics import accuracy_score, confusion_matrix, classification_report\n",
    "\n",
    "\n",
    "# Algorithmns models to be compared\n",
    "from sklearn.ensemble import RandomForestClassifier\n",
    "\n",
    "from sklearn.discriminant_analysis import LinearDiscriminantAnalysis\n",
    "from sklearn.naive_bayes import GaussianNB\n",
    "from sklearn.svm import SVC\n",
    "from xgboost import XGBClassifier\n",
    "from imblearn.over_sampling import SMOTE "
   ]
  },
  {
   "cell_type": "code",
   "execution_count": 43,
   "metadata": {},
   "outputs": [],
   "source": [
    "df['CreditAmount'] = np.log(df['CreditAmount'])"
   ]
  },
  {
   "cell_type": "code",
   "execution_count": 44,
   "metadata": {},
   "outputs": [
    {
     "name": "stdout",
     "output_type": "stream",
     "text": [
      "<class 'pandas.core.frame.DataFrame'>\n",
      "RangeIndex: 1000 entries, 0 to 999\n",
      "Data columns (total 62 columns):\n",
      "DurationMonths                1000 non-null int64\n",
      "CreditAmount                  1000 non-null float64\n",
      "InstallmentRate               1000 non-null int64\n",
      "PresentResidence              1000 non-null int64\n",
      "Age                           1000 non-null int64\n",
      "ExistingCredits               1000 non-null int64\n",
      "NumLiables                    1000 non-null int64\n",
      "Class                         1000 non-null int64\n",
      "CheckingAccount_A11           1000 non-null uint8\n",
      "CheckingAccount_A12           1000 non-null uint8\n",
      "CheckingAccount_A13           1000 non-null uint8\n",
      "CheckingAccount_A14           1000 non-null uint8\n",
      "CreditHistory_A30             1000 non-null uint8\n",
      "CreditHistory_A31             1000 non-null uint8\n",
      "CreditHistory_A32             1000 non-null uint8\n",
      "CreditHistory_A33             1000 non-null uint8\n",
      "CreditHistory_A34             1000 non-null uint8\n",
      "Purpose_A40                   1000 non-null uint8\n",
      "Purpose_A41                   1000 non-null uint8\n",
      "Purpose_A410                  1000 non-null uint8\n",
      "Purpose_A42                   1000 non-null uint8\n",
      "Purpose_A43                   1000 non-null uint8\n",
      "Purpose_A44                   1000 non-null uint8\n",
      "Purpose_A45                   1000 non-null uint8\n",
      "Purpose_A46                   1000 non-null uint8\n",
      "Purpose_A48                   1000 non-null uint8\n",
      "Purpose_A49                   1000 non-null uint8\n",
      "SavingAccounts_A61            1000 non-null uint8\n",
      "SavingAccounts_A62            1000 non-null uint8\n",
      "SavingAccounts_A63            1000 non-null uint8\n",
      "SavingAccounts_A64            1000 non-null uint8\n",
      "SavingAccounts_A65            1000 non-null uint8\n",
      "PresentEmployment_A71         1000 non-null uint8\n",
      "PresentEmployment_A72         1000 non-null uint8\n",
      "PresentEmployment_A73         1000 non-null uint8\n",
      "PresentEmployment_A74         1000 non-null uint8\n",
      "PresentEmployment_A75         1000 non-null uint8\n",
      "PersonalStatus_A91            1000 non-null uint8\n",
      "PersonalStatus_A92            1000 non-null uint8\n",
      "PersonalStatus_A93            1000 non-null uint8\n",
      "PersonalStatus_A94            1000 non-null uint8\n",
      "OtherDebtors_A101             1000 non-null uint8\n",
      "OtherDebtors_A102             1000 non-null uint8\n",
      "OtherDebtors_A103             1000 non-null uint8\n",
      "Property_A121                 1000 non-null uint8\n",
      "Property_A122                 1000 non-null uint8\n",
      "Property_A123                 1000 non-null uint8\n",
      "Property_A124                 1000 non-null uint8\n",
      "OtherInstallmentPlans_A141    1000 non-null uint8\n",
      "OtherInstallmentPlans_A142    1000 non-null uint8\n",
      "OtherInstallmentPlans_A143    1000 non-null uint8\n",
      "Housing_A151                  1000 non-null uint8\n",
      "Housing_A152                  1000 non-null uint8\n",
      "Housing_A153                  1000 non-null uint8\n",
      "Job_A171                      1000 non-null uint8\n",
      "Job_A172                      1000 non-null uint8\n",
      "Job_A173                      1000 non-null uint8\n",
      "Job_A174                      1000 non-null uint8\n",
      "Telephone_A191                1000 non-null uint8\n",
      "Telephone_A192                1000 non-null uint8\n",
      "ForeignWorker_A201            1000 non-null uint8\n",
      "ForeignWorker_A202            1000 non-null uint8\n",
      "dtypes: float64(1), int64(7), uint8(54)\n",
      "memory usage: 115.4 KB\n"
     ]
    }
   ],
   "source": [
    "df.info()"
   ]
  },
  {
   "cell_type": "markdown",
   "metadata": {},
   "source": [
    "# Treating Imbalance data using SMOTE"
   ]
  },
  {
   "cell_type": "code",
   "execution_count": 45,
   "metadata": {},
   "outputs": [],
   "source": [
    "#df=df.drop('Age_cat',1)\n",
    "X = df.drop('Class', 1).values\n",
    "y = df[\"Class\"].values\n",
    "smt = SMOTE(random_state = 2)\n",
    "Xt, yt = smt.fit_sample(X, y)\n",
    "# Spliting X and y into train and test version\n",
    "X_train, X_test, y_train, y_test = train_test_split(X, y, \n",
    "                                                    test_size = 0.25, random_state=42)"
   ]
  },
  {
   "cell_type": "code",
   "execution_count": 46,
   "metadata": {},
   "outputs": [],
   "source": [
    "from sklearn.utils import resample\n",
    "from sklearn.metrics import roc_curve"
   ]
  },
  {
   "cell_type": "markdown",
   "metadata": {},
   "source": [
    "# Applying Gaussian Naive Bayes model"
   ]
  },
  {
   "cell_type": "code",
   "execution_count": 50,
   "metadata": {},
   "outputs": [],
   "source": [
    "GNB = GaussianNB()\n",
    "\n",
    "# Fitting with train data\n",
    "model = GNB.fit(X_train, y_train)"
   ]
  },
  {
   "cell_type": "code",
   "execution_count": 48,
   "metadata": {},
   "outputs": [
    {
     "name": "stdout",
     "output_type": "stream",
     "text": [
      "Training score data: \n",
      "0.732\n"
     ]
    }
   ],
   "source": [
    "print(\"Training score data: \")\n",
    "print(model.score(X_train, y_train))"
   ]
  },
  {
   "cell_type": "code",
   "execution_count": 49,
   "metadata": {},
   "outputs": [
    {
     "name": "stdout",
     "output_type": "stream",
     "text": [
      "Accuracy:  0.7\n",
      "\n",
      "\n",
      "Confusion Matrix:\n",
      " [[121  57]\n",
      " [ 18  54]]\n",
      "\n",
      "Classification Report\n",
      "\n",
      "              precision    recall  f1-score   support\n",
      "\n",
      "           1       0.87      0.68      0.76       178\n",
      "           2       0.49      0.75      0.59        72\n",
      "\n",
      "    accuracy                           0.70       250\n",
      "   macro avg       0.68      0.71      0.68       250\n",
      "weighted avg       0.76      0.70      0.71       250\n",
      "\n"
     ]
    }
   ],
   "source": [
    "y_pred = model.predict(X_test)\n",
    "\n",
    "print(\"Accuracy: \", accuracy_score(y_test,y_pred))\n",
    "print(\"\\n\")\n",
    "print(\"Confusion Matrix:\\n\",confusion_matrix(y_test, y_pred))\n",
    "print(\"\\nClassification Report\\n\")\n",
    "print(classification_report(y_test, y_pred))"
   ]
  },
  {
   "cell_type": "code",
   "execution_count": null,
   "metadata": {},
   "outputs": [],
   "source": []
  }
 ],
 "metadata": {
  "kernelspec": {
   "display_name": "Python 3",
   "language": "python",
   "name": "python3"
  },
  "language_info": {
   "codemirror_mode": {
    "name": "ipython",
    "version": 3
   },
   "file_extension": ".py",
   "mimetype": "text/x-python",
   "name": "python",
   "nbconvert_exporter": "python",
   "pygments_lexer": "ipython3",
   "version": "3.7.5"
  }
 },
 "nbformat": 4,
 "nbformat_minor": 2
}
